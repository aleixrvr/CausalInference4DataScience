{
  "cells": [
    {
      "cell_type": "markdown",
      "metadata": {},
      "source": [
        "# Structural Approach to Interventions\n",
        "\n",
        "# 1. Spurious correlations"
      ],
      "id": "32ad75f1-fd30-4a4c-abc0-81d4604eaced"
    },
    {
      "cell_type": "code",
      "execution_count": 1,
      "metadata": {},
      "outputs": [],
      "source": [
        "from numpy.random import uniform, seed, normal\n",
        "from numpy import arange, corrcoef\n",
        "import pandas as pd\n",
        "\n",
        "seed(1234)\n",
        "\n",
        "time = arange(2000, 2010)\n",
        "population = (\n",
        "    280 + 3 * (time - 2000) + normal(size=len(time), scale=0.1)\n",
        ")  # in millions of people\n",
        "revenue = (\n",
        "    1.25 + (population - 280) * 0.015 + normal(size=len(time), scale=0.05)\n",
        ")  # in billions of dollars\n",
        "doctorates = (\n",
        "    700 + (population - 280) * 30 + normal(size=len(time), scale=10)\n",
        ")  # in number of people"
      ],
      "id": "c19cd232"
    },
    {
      "cell_type": "markdown",
      "metadata": {},
      "source": [
        "Correlation between revenue and doctorates."
      ],
      "id": "5c8685b6-f5f6-4c32-a05a-8b841adcf4f9"
    },
    {
      "cell_type": "code",
      "execution_count": 2,
      "metadata": {},
      "outputs": [
        {
          "output_type": "display_data",
          "metadata": {},
          "data": {
            "text/plain": [
              "0.9026468972051462"
            ]
          }
        }
      ],
      "source": [
        "corrcoef(doctorates, revenue)[0][1]"
      ],
      "id": "1faf966d"
    }
  ],
  "nbformat": 4,
  "nbformat_minor": 5,
  "metadata": {
    "kernelspec": {
      "name": "python3",
      "display_name": "Python 3 (ipykernel)",
      "language": "python"
    },
    "language_info": {
      "name": "python",
      "codemirror_mode": {
        "name": "ipython",
        "version": "3"
      },
      "file_extension": ".py",
      "mimetype": "text/x-python",
      "nbconvert_exporter": "python",
      "pygments_lexer": "ipython3",
      "version": "3.10.9"
    }
  }
}