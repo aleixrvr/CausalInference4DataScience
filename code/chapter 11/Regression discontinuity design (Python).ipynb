{
  "cells": [
    {
      "cell_type": "markdown",
      "id": "73c83e0c-8ab1-4d36-8ef4-4c5ec15adf78",
      "metadata": {},
      "source": [
        "# Regression Discontinuity Design\n",
        "\n",
        "# 1. Data simulation: a predictor of the outcome"
      ]
    },
    {
      "cell_type": "code",
      "execution_count": 6,
      "id": "86444c9c",
      "metadata": {},
      "outputs": [],
      "source": [
        "from numpy.random import normal, seed\n",
        "from numpy import abs, cos, mean, pi, arange\n",
        "import statsmodels.formula.api as smf\n",
        "import pandas as pd\n",
        "from rdrobust import rdrobust\n",
        "\n",
        "seed(1234)\n",
        "\n",
        "periods_n = 15\n",
        "impact = 1000\n",
        "\n",
        "time_points = arange(-periods_n, periods_n + 1)\n",
        "n = len(time_points)\n",
        "seasonality = -cos(time_points / (2 * pi))\n",
        "\n",
        "D = (time_points >= 0).astype(int)\n",
        "Y_0 = 500 + 100 * seasonality + normal(size=n, scale=50)\n",
        "Y_1 = Y_0 + impact * D / (abs(time_points) + 1)\n",
        "Y = D * Y_1 + (1 - D) * Y_0"
      ]
    },
    {
      "cell_type": "markdown",
      "id": "4c3c252f-7d57-4e11-8600-6d595f3bda5d",
      "metadata": {},
      "source": [
        "# 2. Difference of means method"
      ]
    },
    {
      "cell_type": "code",
      "execution_count": 7,
      "id": "42d7515a",
      "metadata": {},
      "outputs": [
        {
          "data": {
            "text/html": [
              "<div>\n",
              "<style scoped>\n",
              "    .dataframe tbody tr th:only-of-type {\n",
              "        vertical-align: middle;\n",
              "    }\n",
              "\n",
              "    .dataframe tbody tr th {\n",
              "        vertical-align: top;\n",
              "    }\n",
              "\n",
              "    .dataframe thead th {\n",
              "        text-align: right;\n",
              "    }\n",
              "</style>\n",
              "<table border=\"1\" class=\"dataframe\">\n",
              "  <thead>\n",
              "    <tr style=\"text-align: right;\">\n",
              "      <th></th>\n",
              "      <th>time_window</th>\n",
              "      <th>estimate</th>\n",
              "    </tr>\n",
              "  </thead>\n",
              "  <tbody>\n",
              "    <tr>\n",
              "      <th>0</th>\n",
              "      <td>10</td>\n",
              "      <td>221.475918</td>\n",
              "    </tr>\n",
              "    <tr>\n",
              "      <th>1</th>\n",
              "      <td>9</td>\n",
              "      <td>224.150524</td>\n",
              "    </tr>\n",
              "    <tr>\n",
              "      <th>2</th>\n",
              "      <td>8</td>\n",
              "      <td>236.824575</td>\n",
              "    </tr>\n",
              "    <tr>\n",
              "      <th>3</th>\n",
              "      <td>7</td>\n",
              "      <td>258.067470</td>\n",
              "    </tr>\n",
              "    <tr>\n",
              "      <th>4</th>\n",
              "      <td>6</td>\n",
              "      <td>295.477331</td>\n",
              "    </tr>\n",
              "    <tr>\n",
              "      <th>5</th>\n",
              "      <td>5</td>\n",
              "      <td>340.196316</td>\n",
              "    </tr>\n",
              "    <tr>\n",
              "      <th>6</th>\n",
              "      <td>4</td>\n",
              "      <td>421.326702</td>\n",
              "    </tr>\n",
              "    <tr>\n",
              "      <th>7</th>\n",
              "      <td>3</td>\n",
              "      <td>488.644188</td>\n",
              "    </tr>\n",
              "    <tr>\n",
              "      <th>8</th>\n",
              "      <td>2</td>\n",
              "      <td>617.177211</td>\n",
              "    </tr>\n",
              "  </tbody>\n",
              "</table>\n",
              "</div>"
            ],
            "text/plain": [
              "   time_window    estimate\n",
              "0           10  221.475918\n",
              "1            9  224.150524\n",
              "2            8  236.824575\n",
              "3            7  258.067470\n",
              "4            6  295.477331\n",
              "5            5  340.196316\n",
              "6            4  421.326702\n",
              "7            3  488.644188\n",
              "8            2  617.177211"
            ]
          },
          "execution_count": 7,
          "metadata": {},
          "output_type": "execute_result"
        }
      ],
      "source": [
        "results = []\n",
        "time_windows = arange(10, 1, -1)\n",
        "for time_window in time_windows:\n",
        "    ind = abs(time_points) < time_window\n",
        "    results.append(mean(Y[ind & D == 1]) - mean(Y[ind & D == 0]))\n",
        "\n",
        "pd.DataFrame({\"time_window\": time_windows, \"estimate\": results})"
      ]
    },
    {
      "cell_type": "markdown",
      "id": "c469dcc4-1979-4239-8d9e-c100c8129969",
      "metadata": {},
      "source": [
        "# 3. Linear models"
      ]
    },
    {
      "cell_type": "code",
      "execution_count": 8,
      "id": "0fab37fc",
      "metadata": {},
      "outputs": [
        {
          "data": {
            "text/html": [
              "<div>\n",
              "<style scoped>\n",
              "    .dataframe tbody tr th:only-of-type {\n",
              "        vertical-align: middle;\n",
              "    }\n",
              "\n",
              "    .dataframe tbody tr th {\n",
              "        vertical-align: top;\n",
              "    }\n",
              "\n",
              "    .dataframe thead th {\n",
              "        text-align: right;\n",
              "    }\n",
              "</style>\n",
              "<table border=\"1\" class=\"dataframe\">\n",
              "  <thead>\n",
              "    <tr style=\"text-align: right;\">\n",
              "      <th></th>\n",
              "      <th>time_window</th>\n",
              "      <th>d</th>\n",
              "      <th>2.5%</th>\n",
              "      <th>97.5%</th>\n",
              "    </tr>\n",
              "  </thead>\n",
              "  <tbody>\n",
              "    <tr>\n",
              "      <th>0</th>\n",
              "      <td>10</td>\n",
              "      <td>653.111459</td>\n",
              "      <td>357.564054</td>\n",
              "      <td>948.658864</td>\n",
              "    </tr>\n",
              "    <tr>\n",
              "      <th>1</th>\n",
              "      <td>9</td>\n",
              "      <td>681.025774</td>\n",
              "      <td>373.307347</td>\n",
              "      <td>988.744200</td>\n",
              "    </tr>\n",
              "    <tr>\n",
              "      <th>2</th>\n",
              "      <td>8</td>\n",
              "      <td>730.194596</td>\n",
              "      <td>402.566327</td>\n",
              "      <td>1057.822865</td>\n",
              "    </tr>\n",
              "    <tr>\n",
              "      <th>3</th>\n",
              "      <td>7</td>\n",
              "      <td>773.285055</td>\n",
              "      <td>421.005356</td>\n",
              "      <td>1125.564754</td>\n",
              "    </tr>\n",
              "    <tr>\n",
              "      <th>4</th>\n",
              "      <td>6</td>\n",
              "      <td>885.936954</td>\n",
              "      <td>508.083285</td>\n",
              "      <td>1263.790622</td>\n",
              "    </tr>\n",
              "    <tr>\n",
              "      <th>5</th>\n",
              "      <td>5</td>\n",
              "      <td>948.844521</td>\n",
              "      <td>509.122373</td>\n",
              "      <td>1388.566668</td>\n",
              "    </tr>\n",
              "    <tr>\n",
              "      <th>6</th>\n",
              "      <td>4</td>\n",
              "      <td>970.354648</td>\n",
              "      <td>173.966523</td>\n",
              "      <td>1766.742774</td>\n",
              "    </tr>\n",
              "  </tbody>\n",
              "</table>\n",
              "</div>"
            ],
            "text/plain": [
              "   time_window           d        2.5%        97.5%\n",
              "0           10  653.111459  357.564054   948.658864\n",
              "1            9  681.025774  373.307347   988.744200\n",
              "2            8  730.194596  402.566327  1057.822865\n",
              "3            7  773.285055  421.005356  1125.564754\n",
              "4            6  885.936954  508.083285  1263.790622\n",
              "5            5  948.844521  509.122373  1388.566668\n",
              "6            4  970.354648  173.966523  1766.742774"
            ]
          },
          "execution_count": 8,
          "metadata": {},
          "output_type": "execute_result"
        }
      ],
      "source": [
        "d_coefs = []\n",
        "lower_cis = []\n",
        "upper_cis = []\n",
        "time_windows = arange(10, 3, -1)\n",
        "for time_window in time_windows:\n",
        "  ind = abs(time_points) < time_window\n",
        "  time_points_window = time_points[ind]\n",
        "  Y_window = Y[ind]\n",
        "  D_window = D[ind]\n",
        "  df = pd.DataFrame({'y': Y_window, 'd': D_window, 'time_points': time_points_window})\n",
        "  model = smf.ols(formula='y ~ d*time_points', data=df).fit()\n",
        "  d_coefs.append(model.params['d'])\n",
        "  lower_cis.append(model.conf_int().loc['d'][0])\n",
        "  upper_cis.append(model.conf_int().loc['d'][1])\n",
        "\n",
        "results = pd.DataFrame({\n",
        "    'time_window': time_windows,\n",
        "    'd': d_coefs,\n",
        "    '2.5%': lower_cis,\n",
        "    '97.5%': upper_cis\n",
        "})\n",
        "results"
      ]
    },
    {
      "cell_type": "markdown",
      "id": "ebf5cda4-2e19-404f-8463-3cfd8f1ce197",
      "metadata": {},
      "source": [
        "# 4. Rdrobust library"
      ]
    },
    {
      "cell_type": "code",
      "execution_count": 9,
      "id": "f592f4a3",
      "metadata": {},
      "outputs": [
        {
          "name": "stdout",
          "output_type": "stream",
          "text": [
            "Call: rdrobust\n",
            "Number of Observations:                    31\n",
            "Polynomial Order Est. (p):                  1\n",
            "Polynomial Order Bias (q):                  2\n",
            "Kernel:                            Triangular\n",
            "Bandwidth Selection:                    mserd\n",
            "Var-Cov Estimator:                         NN\n",
            "\n",
            "                                Left      Right\n",
            "------------------------------------------------\n",
            "Number of Observations            15         16\n",
            "Number of Unique Obs.             15         16\n",
            "Number of Effective Obs.           5          6\n",
            "Bandwidth Estimation           5.496      5.496\n",
            "Bandwidth Bias                 8.188      8.188\n",
            "rho (h/b)                      0.671      0.671\n",
            "\n",
            "Method             Coef.     S.E.   t-stat    P>|t|       95% CI      \n",
            "-------------------------------------------------------------------------\n",
            "Conventional     952.305   351.14    2.712   6.687e-03 [264.083, 1640.526]\n",
            "Robust                 -        -    2.598   9.368e-03 [255.742, 1826.121]\n"
          ]
        },
        {
          "data": {
            "text/plain": []
          },
          "execution_count": 9,
          "metadata": {},
          "output_type": "execute_result"
        }
      ],
      "source": [
        "rdrobust(Y, time_points)"
      ]
    }
  ],
  "metadata": {
    "kernelspec": {
      "display_name": "Python 3 (ipykernel)",
      "language": "python",
      "name": "python3"
    },
    "language_info": {
      "codemirror_mode": {
        "name": "ipython",
        "version": "3"
      },
      "file_extension": ".py",
      "mimetype": "text/x-python",
      "name": "python",
      "nbconvert_exporter": "python",
      "pygments_lexer": "ipython3",
      "version": "3.10.9"
    }
  },
  "nbformat": 4,
  "nbformat_minor": 5
}
