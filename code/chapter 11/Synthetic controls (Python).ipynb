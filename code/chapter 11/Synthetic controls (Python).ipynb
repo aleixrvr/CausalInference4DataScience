{
  "cells": [
    {
      "cell_type": "markdown",
      "metadata": {},
      "source": [
        "# Synthetic Controls\n",
        "\n",
        "# 1. Data simulation"
      ],
      "id": "3c5e2957-2cc6-4abe-a80e-baaffb434dc7"
    },
    {
      "cell_type": "code",
      "execution_count": 1,
      "metadata": {},
      "outputs": [],
      "source": [
        "from numpy.random import normal, seed\n",
        "from numpy import cos, mean, pi, arange, abs\n",
        "import pandas as pd\n",
        "import causalimpact\n",
        "\n",
        "seed(1234)\n",
        "\n",
        "periods_n = 15\n",
        "impact = 1000\n",
        "\n",
        "time_points = arange(-periods_n, periods_n + 1)\n",
        "n = len(time_points)\n",
        "seasonality = -cos(time_points / (2 * pi))\n",
        "\n",
        "D = (time_points >= 0).astype(int)\n",
        "Y_0 = 500 + 100 * seasonality + normal(size=n, scale=50)\n",
        "Y_1 = Y_0 + impact * D / (abs(time_points) + 1)\n",
        "Y = D * Y_1 + (1 - D) * Y_0\n",
        "\n",
        "X_1 = 400 + 100 * seasonality + normal(size=n, scale=20)\n",
        "X_2 = 700 + 80 * seasonality + normal(size=n, scale=60)\n",
        "\n",
        "df = pd.DataFrame({\"y\": Y, \"x_1\": X_1, \"x_2\": X_2, \"time\": time_points})"
      ],
      "id": "b70866f8"
    },
    {
      "cell_type": "markdown",
      "metadata": {},
      "source": [
        "# 2. Executing the CausalImpact Analysis"
      ],
      "id": "d44379aa-f9d1-4728-a70c-a9885267589d"
    },
    {
      "cell_type": "code",
      "execution_count": 2,
      "metadata": {},
      "outputs": [
        {
          "output_type": "stream",
          "name": "stderr",
          "text": [
            "WARNING: All log messages before absl::InitializeLog() is called are written to STDERR\n",
            "I0000 00:00:1703069697.054957       1 device_compiler.h:186] Compiled cluster using XLA!  This line is logged at most once for the lifetime of the process.\n",
            "2023-12-20 11:54:57.064035: E external/local_xla/xla/stream_executor/stream_executor_internal.h:177] SetPriority unimplemented for this stream.\n",
            "/Users/aleix/miniconda3/lib/python3.10/site-packages/causalimpact/summary.py:149: FutureWarning:\n",
            "\n",
            "Series.__getitem__ treating keys as positions is deprecated. In a future version, integer keys will always be treated as labels (consistent with DataFrame behavior). To access a value by position, use `ser.iloc[pos]`\n"
          ]
        },
        {
          "output_type": "stream",
          "name": "stdout",
          "text": [
            "\n",
            "Posterior Inference {CausalImpact}\n",
            "                          Average            Cumulative\n",
            "Actual                    685.3              10965.1\n",
            "Prediction (s.d.)         156.8 (145.94)     2508.5 (2335.09)\n",
            "95% CI                    [-183.6, 324.7]    [-2938.1, 5195.3]\n",
            "\n",
            "Absolute effect (s.d.)    528.5 (145.94)     8456.6 (2335.09)\n",
            "95% CI                    [360.6, 868.9]     [5769.8, 13903.2]\n",
            "\n",
            "Relative effect (s.d.)    167.2% (3764.4%)   167.2% (3764.0%)\n",
            "95% CI                    [-2529.8%, 3095.9%][-2529.8%, 3095.9%]\n",
            "\n",
            "Posterior tail-area probability p: 0.001\n",
            "Posterior prob. of a causal effect: 99.89%\n",
            "\n",
            "For more details run the command: summary(impact, output_format=\"report\")"
          ]
        }
      ],
      "source": [
        "pre_period = [0, periods_n - 1]\n",
        "post_period = [periods_n, 2 * periods_n]\n",
        "\n",
        "estimated_impact = causalimpact.fit_causalimpact(df, pre_period, post_period)\n",
        "print(causalimpact.summary(estimated_impact, output_format=\"summary\"))"
      ],
      "id": "bc75da54"
    },
    {
      "cell_type": "code",
      "execution_count": 3,
      "metadata": {},
      "outputs": [
        {
          "output_type": "display_data",
          "metadata": {},
          "data": {
            "text/plain": [
              "211.29556207681205"
            ]
          }
        }
      ],
      "source": [
        "inds = D > 0\n",
        "mean(impact * D[inds] / (abs(time_points[inds]) + 1))"
      ],
      "id": "2db2892c"
    },
    {
      "cell_type": "markdown",
      "metadata": {},
      "source": [
        "# 3. Executing the CausalImpact Analysis"
      ],
      "id": "4d6478f9-7901-4f5a-b019-977700d7bc0a"
    },
    {
      "cell_type": "code",
      "execution_count": 4,
      "metadata": {},
      "outputs": [
        {
          "output_type": "stream",
          "name": "stdout",
          "text": [
            "\n",
            "Posterior Inference {CausalImpact}\n",
            "                          Average            Cumulative\n",
            "Actual                    1400.1             1400.1\n",
            "Prediction (s.d.)         344.4 (54.09)      344.4 (54.09)\n",
            "95% CI                    [226.2, 442.0]     [226.2, 442.0]\n",
            "\n",
            "Absolute effect (s.d.)    1055.7 (54.09)     1055.7 (54.09)\n",
            "95% CI                    [958.1, 1174.0]    [958.1, 1174.0]\n",
            "\n",
            "Relative effect (s.d.)    321.7% (74.5%)     321.7% (74.0%)\n",
            "95% CI                    [216.7%, 519.1%]   [216.7%, 519.1%]\n",
            "\n",
            "Posterior tail-area probability p: 0.001\n",
            "Posterior prob. of a causal effect: 99.89%\n",
            "\n",
            "For more details run the command: summary(impact, output_format=\"report\")"
          ]
        },
        {
          "output_type": "stream",
          "name": "stderr",
          "text": [
            "/Users/aleix/miniconda3/lib/python3.10/site-packages/causalimpact/summary.py:149: FutureWarning:\n",
            "\n",
            "Series.__getitem__ treating keys as positions is deprecated. In a future version, integer keys will always be treated as labels (consistent with DataFrame behavior). To access a value by position, use `ser.iloc[pos]`\n"
          ]
        }
      ],
      "source": [
        "pre_period = [0, periods_n - 1]\n",
        "post_period = [periods_n, periods_n]\n",
        "\n",
        "estimated_impact = causalimpact.fit_causalimpact(df, pre_period, post_period)\n",
        "print(causalimpact.summary(estimated_impact, output_format=\"summary\"))"
      ],
      "id": "9409df87"
    }
  ],
  "nbformat": 4,
  "nbformat_minor": 5,
  "metadata": {
    "kernelspec": {
      "name": "python3",
      "display_name": "Python 3 (ipykernel)",
      "language": "python"
    },
    "language_info": {
      "name": "python",
      "codemirror_mode": {
        "name": "ipython",
        "version": "3"
      },
      "file_extension": ".py",
      "mimetype": "text/x-python",
      "nbconvert_exporter": "python",
      "pygments_lexer": "ipython3",
      "version": "3.10.9"
    }
  }
}