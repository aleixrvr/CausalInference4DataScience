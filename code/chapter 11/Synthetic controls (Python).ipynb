{
  "cells": [
    {
      "cell_type": "raw",
      "id": "535fe6aa",
      "metadata": {},
      "source": [
        "---\n",
        "title: Synthetic Controls\n",
        "format: ipynb\n",
        "number-sections: true\n",
        "---"
      ]
    },
    {
      "cell_type": "markdown",
      "id": "c7050b0a",
      "metadata": {},
      "source": [
        "# Data simulation\n"
      ]
    },
    {
      "cell_type": "code",
      "execution_count": 1,
      "id": "5870c370",
      "metadata": {},
      "outputs": [],
      "source": [
        "from numpy.random import normal, seed\n",
        "from numpy import cos, mean, pi, arange, abs\n",
        "import pandas as pd\n",
        "from causalimpact import CausalImpact\n",
        "\n",
        "seed(1234)\n",
        "\n",
        "periods_n = 15\n",
        "impact = 1000\n",
        "\n",
        "time_points = arange(-periods_n, periods_n + 1)\n",
        "n = len(time_points)\n",
        "seasonality = -cos(time_points / (2 * pi))\n",
        "\n",
        "D = (time_points >= 0).astype(int)\n",
        "Y_0 = 500 + 100 * seasonality + normal(size=n, scale=50)\n",
        "Y_1 = Y_0 + impact * D / (abs(time_points) + 1)\n",
        "Y = D * Y_1 + (1 - D) * Y_0\n",
        "\n",
        "X_1 = 400 + 100 * seasonality + normal(size=n, scale=20)\n",
        "X_2 = 700 + 80 * seasonality + normal(size=n, scale=60)\n",
        "\n",
        "df = pd.DataFrame({\"Y\": Y, \"X_1\": X_1, \"X_2\": X_2, \"time\": time_points})"
      ]
    },
    {
      "cell_type": "markdown",
      "id": "a4364408",
      "metadata": {},
      "source": [
        "# Executing the CausalImpact Analysis\n"
      ]
    },
    {
      "cell_type": "code",
      "execution_count": 2,
      "id": "41d90af3",
      "metadata": {},
      "outputs": [
        {
          "name": "stdout",
          "output_type": "stream",
          "text": [
            "RUNNING THE L-BFGS-B CODE\n",
            "\n",
            "           * * *\n",
            "\n",
            "Machine precision = 2.220D-16\n",
            " N =            5     M =           10\n",
            "\n",
            "At X0         0 variables are exactly at the bounds\n",
            "\n",
            "At iterate    0    f=  1.33682D+00    |proj g|=  1.53181D-01\n",
            "\n",
            "At iterate    5    f=  1.29595D+00    |proj g|=  8.08568D-03\n",
            "\n",
            "At iterate   10    f=  1.29505D+00    |proj g|=  9.43002D-04\n",
            "\n",
            "           * * *\n",
            "\n",
            "Tit   = total number of iterations\n",
            "Tnf   = total number of function evaluations\n",
            "Tnint = total number of segments explored during Cauchy searches\n",
            "Skip  = number of BFGS updates skipped\n",
            "Nact  = number of active bounds at final generalized Cauchy point\n",
            "Projg = norm of the final projected gradient\n",
            "F     = final function value\n",
            "\n",
            "           * * *\n",
            "\n",
            "   N    Tit     Tnf  Tnint  Skip  Nact     Projg        F\n",
            "    5     12     15      1     0     0   3.779D-06   1.295D+00\n",
            "  F =   1.2950499898184222     \n",
            "\n",
            "CONVERGENCE: NORM_OF_PROJECTED_GRADIENT_<=_PGTOL            \n",
            "                                 Average        Cumulative\n",
            "Actual                               637              9564\n",
            "Predicted                           1644             24664\n",
            "95% CI                      [1206, 2081]    [18103, 31226]\n",
            "                                                          \n",
            "Absolute Effect                    -1006            -15099\n",
            "95% CI                     [-569, -1444]   [-8538, -21661]\n",
            "                                                          \n",
            "Relative Effect                   -61.2%            -61.2%\n",
            "95% CI                  [-34.6%, -87.8%]  [-34.6%, -87.8%]\n",
            "                                                          \n",
            "P-value                             0.0%                  \n",
            "Prob. of Causal Effect            100.0%                  \n"
          ]
        },
        {
          "name": "stderr",
          "output_type": "stream",
          "text": [
            " This problem is unconstrained.\n",
            "/Users/aleix/miniconda3/envs/env/lib/python3.11/site-packages/statsmodels/tsa/statespace/representation.py:374: FutureWarning: Unknown keyword arguments: dict_keys(['alpha']).Passing unknown keyword arguments will raise a TypeError beginning in version 0.15.\n",
            "  warnings.warn(msg, FutureWarning)\n"
          ]
        }
      ],
      "source": [
        "pre_period = [1, periods_n]\n",
        "post_period = [periods_n + 1, 2 * periods_n + 1]\n",
        "\n",
        "estimated_impact = CausalImpact(df, pre_period, post_period)\n",
        "estimated_impact.run()\n",
        "estimated_impact.summary()"
      ]
    },
    {
      "cell_type": "code",
      "execution_count": 3,
      "id": "1c2d1027",
      "metadata": {},
      "outputs": [
        {
          "data": {
            "text/plain": [
              "211.29556207681205"
            ]
          },
          "execution_count": 3,
          "metadata": {},
          "output_type": "execute_result"
        }
      ],
      "source": [
        "inds = D > 0\n",
        "mean(impact * D[inds] / (abs(time_points[inds]) + 1))"
      ]
    },
    {
      "cell_type": "markdown",
      "id": "ded26e07",
      "metadata": {},
      "source": [
        "# Executing the CausalImpact Analysis\n"
      ]
    },
    {
      "cell_type": "code",
      "execution_count": 4,
      "id": "cafb9642",
      "metadata": {},
      "outputs": [
        {
          "name": "stdout",
          "output_type": "stream",
          "text": [
            "RUNNING THE L-BFGS-B CODE\n",
            "\n",
            "           * * *\n",
            "\n",
            "Machine precision = 2.220D-16\n",
            " N =            5     M =           10\n",
            "\n",
            "At X0         0 variables are exactly at the bounds\n",
            "\n",
            "At iterate    0    f=  1.33682D+00    |proj g|=  1.53181D-01\n",
            "\n",
            "At iterate    5    f=  1.29595D+00    |proj g|=  8.08568D-03\n",
            "\n",
            "At iterate   10    f=  1.29505D+00    |proj g|=  9.43002D-04\n",
            "\n",
            "           * * *\n",
            "\n",
            "Tit   = total number of iterations\n",
            "Tnf   = total number of function evaluations\n",
            "Tnint = total number of segments explored during Cauchy searches\n",
            "Skip  = number of BFGS updates skipped\n",
            "Nact  = number of active bounds at final generalized Cauchy point\n",
            "Projg = norm of the final projected gradient\n",
            "F     = final function value\n",
            "\n",
            "           * * *\n",
            "\n",
            "   N    Tit     Tnf  Tnint  Skip  Nact     Projg        F\n",
            "    5     12     15      1     0     0   3.779D-06   1.295D+00\n",
            "  F =   1.2950499898184222     \n",
            "\n",
            "CONVERGENCE: NORM_OF_PROJECTED_GRADIENT_<=_PGTOL            \n",
            "                                Average       Cumulative\n",
            "Actual                              921              921\n",
            "Predicted                           807              807\n",
            "95% CI                      [369, 1244]      [369, 1244]\n",
            "                                                        \n",
            "Absolute Effect                     114              114\n",
            "95% CI                      [551, -323]      [551, -323]\n",
            "                                                        \n",
            "Relative Effect                   14.2%            14.2%\n",
            "95% CI                  [68.3%, -40.0%]  [68.3%, -40.0%]\n",
            "                                                        \n",
            "P-value                            0.0%                 \n",
            "Prob. of Causal Effect           100.0%                 \n"
          ]
        },
        {
          "name": "stderr",
          "output_type": "stream",
          "text": [
            " This problem is unconstrained.\n",
            "/Users/aleix/miniconda3/envs/env/lib/python3.11/site-packages/statsmodels/tsa/statespace/representation.py:374: FutureWarning: Unknown keyword arguments: dict_keys(['alpha']).Passing unknown keyword arguments will raise a TypeError beginning in version 0.15.\n",
            "  warnings.warn(msg, FutureWarning)\n"
          ]
        }
      ],
      "source": [
        "pre_period = [1, periods_n]\n",
        "post_period = [periods_n + 1, periods_n + 1]\n",
        "\n",
        "estimated_impact = CausalImpact(df, pre_period, post_period)\n",
        "estimated_impact.run()\n",
        "estimated_impact.summary()"
      ]
    }
  ],
  "metadata": {
    "kernelspec": {
      "display_name": "Python 3 (ipykernel)",
      "language": "python",
      "name": "python3"
    },
    "language_info": {
      "codemirror_mode": {
        "name": "ipython",
        "version": 3
      },
      "file_extension": ".py",
      "mimetype": "text/x-python",
      "name": "python",
      "nbconvert_exporter": "python",
      "pygments_lexer": "ipython3",
      "version": "3.11.5"
    }
  },
  "nbformat": 4,
  "nbformat_minor": 5
}
