{
  "cells": [
    {
      "cell_type": "markdown",
      "metadata": {},
      "source": [
        "# Structural Approach to Interventions\n",
        "\n",
        "# 1. Kidney stone data simulation"
      ],
      "id": "e8cbcfd5-b30a-49b7-b57e-4de85af7bcd0"
    },
    {
      "cell_type": "code",
      "execution_count": 1,
      "metadata": {},
      "outputs": [
        {
          "output_type": "display_data",
          "metadata": {},
          "data": {
            "text/plain": [
              "treatment\n",
              "A    0.784981\n",
              "B    0.809989\n",
              "Name: recovery, dtype: float64"
            ]
          }
        }
      ],
      "source": [
        "from numpy.random import uniform, seed\n",
        "import pandas as pd\n",
        "\n",
        "seed(1234)\n",
        "patients_n = 10000\n",
        "\n",
        "\n",
        "def g(size, u_1):\n",
        "    # probabilities calculated with the conditional probability formula: P(T|S) = P(T, S)/P(S)\n",
        "    # total patients = 750\n",
        "    prob_small = 0.51\n",
        "    prob_large = 1 - prob_small\n",
        "    prob_A = (87 / 750) / prob_small if size == \"small\" else (263 / 750) / prob_large\n",
        "    return \"A\" if u_1 < prob_A else \"B\"\n",
        "\n",
        "\n",
        "def f(size, treatment, u_2):\n",
        "    # probabilities obtained from Table \"Recovery rates by treatment and size\" in Chapter 2\n",
        "    if size == \"small\":\n",
        "        prob = 0.93 if treatment == \"A\" else 0.87\n",
        "    else:\n",
        "        prob = 0.73 if treatment == \"A\" else 0.62\n",
        "    return 1 if u_2 < prob else 0\n",
        "\n",
        "\n",
        "sizes = []\n",
        "treatments = []\n",
        "recoveries = []\n",
        "for patient in range(patients_n):\n",
        "    u_0 = uniform(size=1)\n",
        "    u_1 = uniform(size=1)\n",
        "    u_2 = uniform(size=1)\n",
        "\n",
        "    size = \"small\" if u_0 < 0.51 else \"large\"\n",
        "    treatment = g(size, u_1)\n",
        "    recovery = f(size, treatment, u_2)\n",
        "\n",
        "    sizes.append(size)\n",
        "    treatments.append(treatment)\n",
        "    recoveries.append(recovery)\n",
        "\n",
        "kidney_data = pd.DataFrame(\n",
        "    {\"size\": sizes, \"treatment\": treatments, \"recovery\": recoveries}\n",
        ")\n",
        "kidney_data.groupby(\"treatment\")[\"recovery\"].mean()"
      ],
      "id": "59db4e50"
    },
    {
      "cell_type": "markdown",
      "metadata": {},
      "source": [
        "We obtain recovery rates similar to the Table “Recovery rates by\n",
        "treatment” form Chapter 2 (up to some degree of uncertainty)\n",
        "\n",
        "## 1.1 Intervening the treatment\n",
        "\n",
        "If we give treatment A to everyone, we will not use the assignment\n",
        "function `g`. Instead everyone will receive treatment A."
      ],
      "id": "373e2862-5f45-4837-aac0-338437ccab67"
    },
    {
      "cell_type": "code",
      "execution_count": 2,
      "metadata": {},
      "outputs": [
        {
          "output_type": "display_data",
          "metadata": {},
          "data": {
            "text/plain": [
              "treatment\n",
              "A    0.8328\n",
              "Name: recovery, dtype: float64"
            ]
          }
        }
      ],
      "source": [
        "sizes = []\n",
        "treatments = []\n",
        "recoveries = []\n",
        "for patient in range(patients_n):\n",
        "    u_0 = uniform(size=1)\n",
        "    u_1 = uniform(size=1)\n",
        "    u_2 = uniform(size=1)\n",
        "\n",
        "    size = \"small\" if u_0 < 0.51 else \"large\"\n",
        "    treatment = \"A\"  # everyone receives treatment A\n",
        "    recovery = f(size, treatment, u_2)\n",
        "\n",
        "    sizes.append(size)\n",
        "    treatments.append(treatment)\n",
        "    recoveries.append(recovery)\n",
        "\n",
        "kidney_data_A = pd.DataFrame(\n",
        "    {\"size\": sizes, \"treatment\": treatments, \"recovery\": recoveries}\n",
        ")\n",
        "kidney_data_A.groupby(\"treatment\")[\"recovery\"].mean()"
      ],
      "id": "438fc837"
    },
    {
      "cell_type": "markdown",
      "metadata": {},
      "source": [
        "We can see that the results are similar to the ones obtained from the\n",
        "adjustment formula (up to some degree of uncertainty)\n",
        "\n",
        "## 1.2 Randomizing the treament\n",
        "\n",
        "If we run a randomized controlled trial, the treatment is given at\n",
        "random"
      ],
      "id": "50a9062a-57cd-41b5-8d12-676daf48054a"
    },
    {
      "cell_type": "code",
      "execution_count": 3,
      "metadata": {},
      "outputs": [
        {
          "output_type": "display_data",
          "metadata": {},
          "data": {
            "text/plain": [
              "treatment\n",
              "A    0.833803\n",
              "B    0.748213\n",
              "Name: recovery, dtype: float64"
            ]
          }
        }
      ],
      "source": [
        "sizes = []\n",
        "treatments = []\n",
        "recoveries = []\n",
        "for patient in range(patients_n):\n",
        "    u_0 = uniform(size=1)\n",
        "    u_1 = uniform(size=1)\n",
        "    u_2 = uniform(size=1)\n",
        "\n",
        "    size = \"small\" if u_0 < 0.51 else \"large\"\n",
        "    treatment = \"A\" if u_1 < 0.5 else \"B\"  # treatment is assigned at random\n",
        "    recovery = f(size, treatment, u_2)\n",
        "\n",
        "    sizes.append(size)\n",
        "    treatments.append(treatment)\n",
        "    recoveries.append(recovery)\n",
        "\n",
        "kidney_data_RCT = pd.DataFrame(\n",
        "    {\"size\": sizes, \"treatment\": treatments, \"recovery\": recoveries}\n",
        ")\n",
        "kidney_data_RCT.groupby(\"treatment\")[\"recovery\"].mean()"
      ],
      "id": "a4d3a6cb"
    },
    {
      "cell_type": "markdown",
      "metadata": {},
      "source": [
        "We can see that the results are similar to the ones obtained in the\n",
        "previous execution and from the adjustment formula (up to some degree of\n",
        "uncertainty)"
      ],
      "id": "55cd3e44-2910-44ca-9c48-39db9f47567a"
    }
  ],
  "nbformat": 4,
  "nbformat_minor": 5,
  "metadata": {
    "kernelspec": {
      "name": "python3",
      "display_name": "Python 3 (ipykernel)",
      "language": "python"
    },
    "language_info": {
      "name": "python",
      "codemirror_mode": {
        "name": "ipython",
        "version": "3"
      },
      "file_extension": ".py",
      "mimetype": "text/x-python",
      "nbconvert_exporter": "python",
      "pygments_lexer": "ipython3",
      "version": "3.10.9"
    }
  }
}