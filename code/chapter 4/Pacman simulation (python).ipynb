{
  "cells": [
    {
      "cell_type": "markdown",
      "metadata": {},
      "source": [
        "# Simulating a pricing problem - a walkthrough\n",
        "\n",
        "# 1. Data simulation"
      ],
      "id": "a0e24d3e-b191-404a-851e-8680e25d2fbd"
    },
    {
      "cell_type": "code",
      "execution_count": 1,
      "metadata": {},
      "outputs": [],
      "source": [
        "from numpy.random import choice, normal\n",
        "import statsmodels.formula.api as smf\n",
        "import pandas as pd\n",
        "\n",
        "n = 100\n",
        "ghosts = choice(range(2, 7), n)\n",
        "bonuses = 8 - ghosts + 0.2 * choice([-1, 0, 1], n)\n",
        "error = normal(n, scale=0.1)\n",
        "\n",
        "time = 20 + 1.5 * ghosts - 2 * bonuses + error\n",
        "df = pd.DataFrame({\"time\": time, \"bonuses\": bonuses, \"ghosts\": ghosts})"
      ],
      "id": "288d2f61"
    },
    {
      "cell_type": "markdown",
      "metadata": {},
      "source": [
        "# 2. Obtaining a linear model of bonuses and time"
      ],
      "id": "8a1cd391-974b-4820-9cd8-77a658e37473"
    },
    {
      "cell_type": "code",
      "execution_count": 2,
      "metadata": {},
      "outputs": [
        {
          "output_type": "display_data",
          "metadata": {},
          "data": {
            "text/html": [
              "<br/><br/>Notes:<br/>[1] Standard Errors assume that the covariance matrix of the errors is correctly specified."
            ]
          }
        }
      ],
      "source": [
        "mod = smf.ols(formula='time ~ bonuses', data=df)\n",
        "\n",
        "mod.fit().summary()"
      ],
      "id": "3836e8c6"
    },
    {
      "cell_type": "markdown",
      "metadata": {},
      "source": [
        "# 3. Obtaining a linear model of bonuses and ghosts"
      ],
      "id": "05c2387a-a8d4-45ce-82a9-5d19a72087bd"
    },
    {
      "cell_type": "code",
      "execution_count": 3,
      "metadata": {},
      "outputs": [
        {
          "output_type": "display_data",
          "metadata": {},
          "data": {
            "text/html": [
              "<br/><br/>Notes:<br/>[1] Standard Errors assume that the covariance matrix of the errors is correctly specified."
            ]
          }
        }
      ],
      "source": [
        "mod = smf.ols(formula=\"time ~ bonuses + ghosts\", data=df)\n",
        "\n",
        "mod.fit().summary()"
      ],
      "id": "f8d7d999"
    }
  ],
  "nbformat": 4,
  "nbformat_minor": 5,
  "metadata": {
    "kernelspec": {
      "name": "python3",
      "display_name": "Python 3 (ipykernel)",
      "language": "python"
    },
    "language_info": {
      "name": "python",
      "codemirror_mode": {
        "name": "ipython",
        "version": "3"
      },
      "file_extension": ".py",
      "mimetype": "text/x-python",
      "nbconvert_exporter": "python",
      "pygments_lexer": "ipython3",
      "version": "3.10.9"
    }
  }
}