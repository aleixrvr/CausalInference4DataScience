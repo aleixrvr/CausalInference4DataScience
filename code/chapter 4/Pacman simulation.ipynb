{
 "cells": [
  {
   "cell_type": "code",
   "execution_count": 10,
   "id": "02752895",
   "metadata": {},
   "outputs": [],
   "source": [
    "from numpy.random import choice, normal\n",
    "import statsmodels.formula.api as smf\n",
    "import pandas as pd"
   ]
  },
  {
   "cell_type": "code",
   "execution_count": 11,
   "id": "ba345d8e",
   "metadata": {},
   "outputs": [],
   "source": [
    "n = 100\n",
    "ghosts = choice(range(2, 7), n)\n",
    "bonuses = 6 - ghosts + choice([-1, 0, 1], n)\n",
    "error = normal(n, scale=0.1)\n",
    "\n",
    "time = .5 * ghosts -2 * bonuses + 20 + error\n",
    "df = pd.DataFrame({'time': time, 'bonuses': bonuses, 'ghosts': ghosts})"
   ]
  },
  {
   "cell_type": "code",
   "execution_count": 13,
   "id": "33feb190",
   "metadata": {},
   "outputs": [
    {
     "data": {
      "text/html": [
       "<table class=\"simpletable\">\n",
       "<caption>OLS Regression Results</caption>\n",
       "<tr>\n",
       "  <th>Dep. Variable:</th>          <td>time</td>       <th>  R-squared:         </th> <td>   0.994</td> \n",
       "</tr>\n",
       "<tr>\n",
       "  <th>Model:</th>                   <td>OLS</td>       <th>  Adj. R-squared:    </th> <td>   0.994</td> \n",
       "</tr>\n",
       "<tr>\n",
       "  <th>Method:</th>             <td>Least Squares</td>  <th>  F-statistic:       </th> <td>1.647e+04</td>\n",
       "</tr>\n",
       "<tr>\n",
       "  <th>Date:</th>             <td>Sun, 20 Feb 2022</td> <th>  Prob (F-statistic):</th> <td>5.47e-111</td>\n",
       "</tr>\n",
       "<tr>\n",
       "  <th>Time:</th>                 <td>10:38:03</td>     <th>  Log-Likelihood:    </th> <td> -29.661</td> \n",
       "</tr>\n",
       "<tr>\n",
       "  <th>No. Observations:</th>      <td>   100</td>      <th>  AIC:               </th> <td>   63.32</td> \n",
       "</tr>\n",
       "<tr>\n",
       "  <th>Df Residuals:</th>          <td>    98</td>      <th>  BIC:               </th> <td>   68.53</td> \n",
       "</tr>\n",
       "<tr>\n",
       "  <th>Df Model:</th>              <td>     1</td>      <th>                     </th>     <td> </td>    \n",
       "</tr>\n",
       "<tr>\n",
       "  <th>Covariance Type:</th>      <td>nonrobust</td>    <th>                     </th>     <td> </td>    \n",
       "</tr>\n",
       "</table>\n",
       "<table class=\"simpletable\">\n",
       "<tr>\n",
       "      <td></td>         <th>coef</th>     <th>std err</th>      <th>t</th>      <th>P>|t|</th>  <th>[0.025</th>    <th>0.975]</th>  \n",
       "</tr>\n",
       "<tr>\n",
       "  <th>Intercept</th> <td>  122.5750</td> <td>    0.051</td> <td> 2390.212</td> <td> 0.000</td> <td>  122.473</td> <td>  122.677</td>\n",
       "</tr>\n",
       "<tr>\n",
       "  <th>bonuses</th>   <td>   -2.3486</td> <td>    0.018</td> <td> -128.318</td> <td> 0.000</td> <td>   -2.385</td> <td>   -2.312</td>\n",
       "</tr>\n",
       "</table>\n",
       "<table class=\"simpletable\">\n",
       "<tr>\n",
       "  <th>Omnibus:</th>       <td> 6.222</td> <th>  Durbin-Watson:     </th> <td>   1.951</td>\n",
       "</tr>\n",
       "<tr>\n",
       "  <th>Prob(Omnibus):</th> <td> 0.045</td> <th>  Jarque-Bera (JB):  </th> <td>   3.092</td>\n",
       "</tr>\n",
       "<tr>\n",
       "  <th>Skew:</th>          <td>-0.165</td> <th>  Prob(JB):          </th> <td>   0.213</td>\n",
       "</tr>\n",
       "<tr>\n",
       "  <th>Kurtosis:</th>      <td> 2.205</td> <th>  Cond. No.          </th> <td>    4.71</td>\n",
       "</tr>\n",
       "</table><br/><br/>Notes:<br/>[1] Standard Errors assume that the covariance matrix of the errors is correctly specified."
      ],
      "text/plain": [
       "<class 'statsmodels.iolib.summary.Summary'>\n",
       "\"\"\"\n",
       "                            OLS Regression Results                            \n",
       "==============================================================================\n",
       "Dep. Variable:                   time   R-squared:                       0.994\n",
       "Model:                            OLS   Adj. R-squared:                  0.994\n",
       "Method:                 Least Squares   F-statistic:                 1.647e+04\n",
       "Date:                Sun, 20 Feb 2022   Prob (F-statistic):          5.47e-111\n",
       "Time:                        10:38:03   Log-Likelihood:                -29.661\n",
       "No. Observations:                 100   AIC:                             63.32\n",
       "Df Residuals:                      98   BIC:                             68.53\n",
       "Df Model:                           1                                         \n",
       "Covariance Type:            nonrobust                                         \n",
       "==============================================================================\n",
       "                 coef    std err          t      P>|t|      [0.025      0.975]\n",
       "------------------------------------------------------------------------------\n",
       "Intercept    122.5750      0.051   2390.212      0.000     122.473     122.677\n",
       "bonuses       -2.3486      0.018   -128.318      0.000      -2.385      -2.312\n",
       "==============================================================================\n",
       "Omnibus:                        6.222   Durbin-Watson:                   1.951\n",
       "Prob(Omnibus):                  0.045   Jarque-Bera (JB):                3.092\n",
       "Skew:                          -0.165   Prob(JB):                        0.213\n",
       "Kurtosis:                       2.205   Cond. No.                         4.71\n",
       "==============================================================================\n",
       "\n",
       "Notes:\n",
       "[1] Standard Errors assume that the covariance matrix of the errors is correctly specified.\n",
       "\"\"\""
      ]
     },
     "execution_count": 13,
     "metadata": {},
     "output_type": "execute_result"
    }
   ],
   "source": [
    "mod = smf.ols(formula='time ~ bonuses', data=df)\n",
    "\n",
    "mod.fit().summary()"
   ]
  },
  {
   "cell_type": "code",
   "execution_count": null,
   "id": "eadacf8e",
   "metadata": {},
   "outputs": [],
   "source": []
  }
 ],
 "metadata": {
  "kernelspec": {
   "display_name": "Python 3",
   "language": "python",
   "name": "python3"
  },
  "language_info": {
   "codemirror_mode": {
    "name": "ipython",
    "version": 3
   },
   "file_extension": ".py",
   "mimetype": "text/x-python",
   "name": "python",
   "nbconvert_exporter": "python",
   "pygments_lexer": "ipython3",
   "version": "3.8.5"
  }
 },
 "nbformat": 4,
 "nbformat_minor": 5
}
