{
  "cells": [
    {
      "cell_type": "markdown",
      "metadata": {},
      "source": [
        "# Chains, forks and colliders\n",
        "\n",
        "# 1. Chains"
      ],
      "id": "9ff43a8c-bc82-4e6e-acd3-1f4f31e494cd"
    },
    {
      "cell_type": "code",
      "execution_count": 1,
      "metadata": {},
      "outputs": [
        {
          "output_type": "display_data",
          "metadata": {},
          "data": {
            "text/plain": [
              "0.3127827977799799"
            ]
          }
        }
      ],
      "source": [
        "from numpy.random import seed, binomial\n",
        "from numpy import corrcoef\n",
        "\n",
        "seed(1234)\n",
        "\n",
        "n = 10000\n",
        "\n",
        "x = binomial(1, 0.5, n)\n",
        "y = x * binomial(1, 0.3, n) + (1 - x) * binomial(1, 0.7, n)\n",
        "z = y * binomial(1, 0.1, n) + (1 - y) * binomial(1, 0.9, n)\n",
        "\n",
        "corrcoef(x, z)[0][1]"
      ],
      "id": "2b72364b"
    },
    {
      "cell_type": "markdown",
      "metadata": {},
      "source": [
        "The correlation between x and z, conditioning on y = 1 or y = 0, is\n",
        "close to zero, while the unconditional correlation between x and z it is\n",
        "not."
      ],
      "id": "ce0ff8f8-3867-444e-8cf7-c62c56d1635c"
    },
    {
      "cell_type": "code",
      "execution_count": 2,
      "metadata": {},
      "outputs": [
        {
          "output_type": "stream",
          "name": "stdout",
          "text": [
            "0.0012156033890064705\n",
            "-0.0192420175747101"
          ]
        }
      ],
      "source": [
        "print(corrcoef(x[y == 1], z[y == 1])[0][1])\n",
        "print(corrcoef(x[y == 0], z[y == 0])[0][1])"
      ],
      "id": "3af61b1d"
    },
    {
      "cell_type": "markdown",
      "metadata": {},
      "source": [
        "# 2. Forks"
      ],
      "id": "1c15adb9-4a1e-493d-9f82-1946b5f2393e"
    },
    {
      "cell_type": "code",
      "execution_count": 3,
      "metadata": {},
      "outputs": [
        {
          "output_type": "display_data",
          "metadata": {},
          "data": {
            "text/plain": [
              "0.17360501378519805"
            ]
          }
        }
      ],
      "source": [
        "z = binomial(1, 0.5, n)\n",
        "y = z * binomial(1, 0.3, n) + (1-z)*binomial(1, 0.7, n)\n",
        "x = z * binomial(1, 0.3, n) + (1-z)*binomial(1, 0.7, n)\n",
        "\n",
        "corrcoef(y, x)[0][1]"
      ],
      "id": "e1f2e2f0"
    },
    {
      "cell_type": "markdown",
      "metadata": {},
      "source": [
        "The correlation between x and y, conditioning on z = 1 or z = 0, is\n",
        "close to zero, while the unconditional correlation between x and y it is\n",
        "not."
      ],
      "id": "36b07e95-e0f5-4f4a-ada7-6922d63946bb"
    },
    {
      "cell_type": "code",
      "execution_count": 4,
      "metadata": {},
      "outputs": [
        {
          "output_type": "stream",
          "name": "stdout",
          "text": [
            "0.0007579216031402372\n",
            "0.024683306278260306"
          ]
        }
      ],
      "source": [
        "print(corrcoef(x[z == 1], y[z == 1])[0][1])\n",
        "print(corrcoef(x[z == 0], y[z == 0])[0][1])"
      ],
      "id": "add44def"
    },
    {
      "cell_type": "markdown",
      "metadata": {},
      "source": [
        "# 3. Colliders"
      ],
      "id": "33e43ba0-67c7-4bae-b9be-27fd49418329"
    },
    {
      "cell_type": "code",
      "execution_count": 5,
      "metadata": {},
      "outputs": [
        {
          "output_type": "display_data",
          "metadata": {},
          "data": {
            "text/plain": [
              "-0.0011859375518880448"
            ]
          }
        }
      ],
      "source": [
        "x = binomial(1, 0.5, n)\n",
        "y = binomial(1, 0.5, n)\n",
        "z = (1 - x * y) * binomial(1, 0.2, n) + x * y * binomial(1, 0.8, n)\n",
        "\n",
        "corrcoef(y, x)[0][1]"
      ],
      "id": "df796623"
    },
    {
      "cell_type": "markdown",
      "metadata": {},
      "source": [
        "The correlation between x and y is close to zero, while conditioning on\n",
        "z = 1 or z = 0 it is not."
      ],
      "id": "36673685-fc50-4882-bb46-c65ac60cbcb9"
    },
    {
      "cell_type": "code",
      "execution_count": 6,
      "metadata": {},
      "outputs": [
        {
          "output_type": "stream",
          "name": "stdout",
          "text": [
            "0.29547733031171775\n",
            "-0.29978176886553437"
          ]
        }
      ],
      "source": [
        "print(corrcoef(x[z == 1], y[z == 1])[0][1])\n",
        "print(corrcoef(x[z == 0], y[z == 0])[0][1])"
      ],
      "id": "6a6e2eca"
    }
  ],
  "nbformat": 4,
  "nbformat_minor": 5,
  "metadata": {
    "kernelspec": {
      "name": "python3",
      "display_name": "Python 3 (ipykernel)",
      "language": "python"
    },
    "language_info": {
      "name": "python",
      "codemirror_mode": {
        "name": "ipython",
        "version": "3"
      },
      "file_extension": ".py",
      "mimetype": "text/x-python",
      "nbconvert_exporter": "python",
      "pygments_lexer": "ipython3",
      "version": "3.10.9"
    }
  }
}