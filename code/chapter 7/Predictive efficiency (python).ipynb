{
  "cells": [
    {
      "cell_type": "markdown",
      "metadata": {},
      "source": [
        "# Simulating a pricing problem - a walkthrough\n",
        "\n",
        "# 1. Data simulation: a predictor of the outcome"
      ],
      "id": "99ef65f4-7ff9-406d-b182-62aaae14eac7"
    },
    {
      "cell_type": "code",
      "execution_count": 1,
      "metadata": {},
      "outputs": [],
      "source": [
        "from numpy.random import choice, normal, seed\n",
        "import statsmodels.formula.api as smf\n",
        "import random\n",
        "import pandas as pd\n",
        "\n",
        "seed(1234)\n",
        "\n",
        "n = 100\n",
        "\n",
        "z = normal(loc=0, scale=.5, size=n)\n",
        "x = normal(loc=0, scale=.5, size=n)\n",
        "y = 3*x + 3*z + normal(loc=0, scale=.5, size=n)\n",
        "\n",
        "df = pd.DataFrame({'x': x, 'y': y, 'z': z})"
      ],
      "id": "1911eed6"
    },
    {
      "cell_type": "markdown",
      "metadata": {},
      "source": [
        "# 2. Controling for a predictor of the outcome can reduce ATE’s standard error"
      ],
      "id": "9a6a1417-19db-41a6-b3cd-79595cf3c06e"
    },
    {
      "cell_type": "code",
      "execution_count": 2,
      "metadata": {},
      "outputs": [
        {
          "output_type": "display_data",
          "metadata": {},
          "data": {
            "text/html": [
              "<br/><br/>Notes:<br/>[1] Standard Errors assume that the covariance matrix of the errors is correctly specified."
            ]
          }
        }
      ],
      "source": [
        "smf.ols(formula='y ~ x', data=df).fit().summary()"
      ],
      "id": "5ccfde16"
    },
    {
      "cell_type": "code",
      "execution_count": 3,
      "metadata": {},
      "outputs": [
        {
          "output_type": "display_data",
          "metadata": {},
          "data": {
            "text/html": [
              "<br/><br/>Notes:<br/>[1] Standard Errors assume that the covariance matrix of the errors is correctly specified."
            ]
          }
        }
      ],
      "source": [
        "smf.ols(formula=\"y ~ x + z\", data=df).fit().summary()"
      ],
      "id": "1108f2a0"
    },
    {
      "cell_type": "markdown",
      "metadata": {},
      "source": [
        "The standard error (variance of the estimation) of the second model is\n",
        "much lower than the first one. In this case, adding a covariate improves\n",
        "our estimation.\n",
        "\n",
        "# 3. Data simulation: a predictor of the treatment variable"
      ],
      "id": "e33b7870-1e48-4c53-9aff-4d8af00029b5"
    },
    {
      "cell_type": "code",
      "execution_count": 4,
      "metadata": {},
      "outputs": [],
      "source": [
        "n = 100\n",
        "\n",
        "z = normal(loc=0, scale=.5, size=n)\n",
        "x = z + normal(loc=0, scale=.01, size=n)\n",
        "y = 3*x + normal(loc=0, scale=.5, size=n)\n",
        "\n",
        "df = pd.DataFrame({'x': x, 'y': y, 'z': z})"
      ],
      "id": "5fb2454b"
    },
    {
      "cell_type": "markdown",
      "metadata": {},
      "source": [
        "# 4. Controling for a predictor of the treatment increases ATE’s standard error"
      ],
      "id": "357ef230-e74e-48d1-9bbe-1d112c5019de"
    },
    {
      "cell_type": "code",
      "execution_count": 5,
      "metadata": {},
      "outputs": [
        {
          "output_type": "display_data",
          "metadata": {},
          "data": {
            "text/html": [
              "<br/><br/>Notes:<br/>[1] Standard Errors assume that the covariance matrix of the errors is correctly specified."
            ]
          }
        }
      ],
      "source": [
        "smf.ols(formula='y ~ x', data=df).fit().summary()"
      ],
      "id": "096981e1"
    },
    {
      "cell_type": "markdown",
      "metadata": {},
      "source": [
        "# 5. Obtaining a linear model of bonuses and ghosts"
      ],
      "id": "a49819a3-ceb7-4346-a225-d87916fa45d8"
    },
    {
      "cell_type": "code",
      "execution_count": 6,
      "metadata": {},
      "outputs": [
        {
          "output_type": "display_data",
          "metadata": {},
          "data": {
            "text/html": [
              "<br/><br/>Notes:<br/>[1] Standard Errors assume that the covariance matrix of the errors is correctly specified."
            ]
          }
        }
      ],
      "source": [
        "smf.ols(formula='y ~ x + z', data=df).fit().summary()"
      ],
      "id": "29acfac8"
    },
    {
      "cell_type": "markdown",
      "metadata": {},
      "source": [
        "The standard error for the coefficient of ‘x’ is higher when controling\n",
        "for ‘z’"
      ],
      "id": "f8920b56-b29d-41bf-b14b-9dfa2c029370"
    }
  ],
  "nbformat": 4,
  "nbformat_minor": 5,
  "metadata": {
    "kernelspec": {
      "name": "python3",
      "display_name": "Python 3 (ipykernel)",
      "language": "python"
    }
  }
}