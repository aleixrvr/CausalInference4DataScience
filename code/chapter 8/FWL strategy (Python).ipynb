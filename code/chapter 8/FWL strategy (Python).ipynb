{
  "cells": [
    {
      "cell_type": "markdown",
      "metadata": {},
      "source": [
        "# FWL strategy\n",
        "\n",
        "# 1. Data simulation"
      ],
      "id": "23921e04-78eb-4c7d-8bb2-efeafbdcbd33"
    },
    {
      "cell_type": "code",
      "execution_count": 1,
      "metadata": {},
      "outputs": [],
      "source": [
        "from numpy.random import seed, normal, uniform\n",
        "import pandas as pd\n",
        "import statsmodels.api as sm\n",
        "\n",
        "seed(1234)\n",
        "n = 100\n",
        "\n",
        "confounder = uniform(size=n)\n",
        "treatment = -3 * confounder + normal(size=n)\n",
        "outcome = -2 * confounder + 5 * treatment + normal(size=n)\n",
        "df = pd.DataFrame(\n",
        "    {\"confounder\": confounder, \"treatment\": treatment, \"outcome\": outcome}\n",
        ")"
      ],
      "id": "b2f06d3b"
    },
    {
      "cell_type": "markdown",
      "metadata": {},
      "source": [
        "# 2. Linear estimation controlling for confounders"
      ],
      "id": "db2346e2-bfea-4c13-bce7-f19ccbc57a6a"
    },
    {
      "cell_type": "code",
      "execution_count": 2,
      "metadata": {},
      "outputs": [
        {
          "output_type": "display_data",
          "metadata": {},
          "data": {
            "text/plain": [
              "treatment     5.125386\n",
              "confounder   -1.496642\n",
              "dtype: float64"
            ]
          }
        }
      ],
      "source": [
        "model = sm.OLS(outcome, df[[\"treatment\", \"confounder\"]]).fit()\n",
        "model.params"
      ],
      "id": "c9b91b7f"
    },
    {
      "cell_type": "markdown",
      "metadata": {},
      "source": [
        "# 3. FWL strategy"
      ],
      "id": "d77d3e4a-79e8-4362-8b58-aa0226d6828a"
    },
    {
      "cell_type": "code",
      "execution_count": 3,
      "metadata": {},
      "outputs": [
        {
          "output_type": "display_data",
          "metadata": {},
          "data": {
            "text/plain": [
              "array([5.12538557])"
            ]
          }
        }
      ],
      "source": [
        "model_treatment = sm.OLS(treatment, confounder).fit()\n",
        "residuals_treatment = treatment - model_treatment.predict(confounder)\n",
        "model_outcome = sm.OLS(outcome, confounder).fit()\n",
        "residuals_outcome = outcome - model_outcome.predict(confounder)\n",
        "sm.OLS(residuals_outcome, residuals_treatment).fit().params"
      ],
      "id": "8158f827"
    }
  ],
  "nbformat": 4,
  "nbformat_minor": 5,
  "metadata": {
    "kernelspec": {
      "name": "python3",
      "display_name": "Python 3 (ipykernel)",
      "language": "python"
    }
  }
}