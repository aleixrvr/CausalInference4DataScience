{
 "cells": [
  {
   "cell_type": "code",
   "execution_count": 1,
   "id": "0a675990",
   "metadata": {},
   "outputs": [],
   "source": [
    "import pandas as pd\n",
    "from numpy import unique, mean, quantile, array\n",
    "import seaborn as sns\n",
    "from numpy.random import choice, seed\n",
    "\n",
    "seed(1234)"
   ]
  },
  {
   "cell_type": "code",
   "execution_count": 2,
   "id": "5740db6d",
   "metadata": {},
   "outputs": [],
   "source": [
    "details = {}\n",
    "\n",
    "details[0] = {\n",
    "  \"treatment\": \"A\",\n",
    "  \"size\": \"small\",\n",
    "  \"patients_n\": 87,\n",
    "  \"recovered_n\": 81\n",
    "}\n",
    "details[1] = {\n",
    "  \"treatment\":\"A\",\n",
    "  \"size\": \"large\",\n",
    "  \"patients_n\": 263,\n",
    "  \"recovered_n\": 192\n",
    "}\n",
    "details[2] = {\n",
    "  \"treatment\":\"B\",\n",
    "  \"size\": \"small\",\n",
    "  \"patients_n\": 270,\n",
    "  \"recovered_n\": 234\n",
    "}\n",
    "details[3] = {\n",
    "  \"treatment\":\"B\",\n",
    "  \"size\": \"large\",\n",
    "  \"patients_n\": 80,\n",
    "  \"recovered_n\": 50\n",
    "}  "
   ]
  },
  {
   "cell_type": "code",
   "execution_count": 3,
   "id": "8d7e5159",
   "metadata": {},
   "outputs": [],
   "source": [
    "def adjustment(t, o, z, t0):\n",
    "    ind_t0 = t == t0\n",
    "    z_values = unique(z)\n",
    "\n",
    "    adjusted_prob = 0\n",
    "    for z_ in z_values:\n",
    "        ind_z_ = z == z_\n",
    "        ind = ind_t0 & ind_z_\n",
    "        adjusted_prob = adjusted_prob + mean(o[ind])*mean(ind_z_)\n",
    "    return(adjusted_prob)"
   ]
  },
  {
   "cell_type": "code",
   "execution_count": 4,
   "id": "27d71520",
   "metadata": {},
   "outputs": [],
   "source": [
    "treatments = []\n",
    "sizes = []\n",
    "recovered = []\n",
    "\n",
    "for i in range(4):\n",
    "    treatments += [details[i][\"treatment\"]]*details[i][\"patients_n\"]\n",
    "    sizes += [details[i][\"size\"]]*details[i][\"patients_n\"]\n",
    "    recovered_ = [0]*details[i][\"patients_n\"]\n",
    "    for j in range(details[i][\"recovered_n\"]):\n",
    "        recovered_[j] = 1\n",
    "    recovered += recovered_\n",
    "\n",
    "df = pd.DataFrame({\n",
    "    \"treatment\": treatments,\n",
    "    \"size\": sizes,\n",
    "    \"recovered\": recovered\n",
    "})"
   ]
  },
  {
   "cell_type": "code",
   "execution_count": 5,
   "id": "dbc1c0e5",
   "metadata": {},
   "outputs": [
    {
     "data": {
      "text/plain": [
       "0.7482500000000001"
      ]
     },
     "execution_count": 5,
     "metadata": {},
     "output_type": "execute_result"
    }
   ],
   "source": [
    "adjustment(df['treatment'], df['recovered'], df['size'], 'A')\n",
    "adjustment(df['treatment'], df['recovered'], df['size'], 'B')"
   ]
  },
  {
   "cell_type": "code",
   "execution_count": 6,
   "id": "60b95d1d",
   "metadata": {},
   "outputs": [],
   "source": [
    "bootstrap_n = 1000\n",
    "ates = []\n",
    "for i in range(bootstrap_n):\n",
    "    df_resample = df.sample(frac=1, replace=True)\n",
    "    do_t_A = adjustment(\n",
    "        df_resample['treatment'], df_resample['recovered'], df_resample['size'], 'A'\n",
    "    )\n",
    "    do_t_B = adjustment(\n",
    "        df_resample['treatment'], df_resample['recovered'], df_resample['size'], 'B'\n",
    "    )\n",
    "    ates.append(do_t_A - do_t_B)"
   ]
  },
  {
   "cell_type": "code",
   "execution_count": 7,
   "id": "62cd440e",
   "metadata": {},
   "outputs": [
    {
     "data": {
      "text/plain": [
       "<AxesSubplot: ylabel='Count'>"
      ]
     },
     "execution_count": 7,
     "metadata": {},
     "output_type": "execute_result"
    },
    {
     "data": {
      "image/png": "[encoded data removed]",
      "text/plain": [
       "<Figure size 640x480 with 1 Axes>"
      ]
     },
     "metadata": {},
     "output_type": "display_data"
    }
   ],
   "source": [
    "sns.histplot(ates)"
   ]
  },
  {
   "cell_type": "code",
   "execution_count": 8,
   "id": "4c84158a",
   "metadata": {},
   "outputs": [
    {
     "data": {
      "text/plain": [
       "0.992"
      ]
     },
     "execution_count": 8,
     "metadata": {},
     "output_type": "execute_result"
    }
   ],
   "source": [
    "mean(array(ates) > 0)"
   ]
  },
  {
   "cell_type": "code",
   "execution_count": 9,
   "id": "6fd48dbc",
   "metadata": {},
   "outputs": [
    {
     "data": {
      "text/plain": [
       "array([-0.0243747 ,  0.0590232 ,  0.08360866,  0.10900581,  0.18934418])"
      ]
     },
     "execution_count": 9,
     "metadata": {},
     "output_type": "execute_result"
    }
   ],
   "source": [
    "quantile(ates, q=[0, 0.25, 0.5, 0.75, 1])\n"
   ]
  }
 ],
 "metadata": {
  "kernelspec": {
   "display_name": "Python 3 (ipykernel)",
   "language": "python",
   "name": "python3"
  },
  "language_info": {
   "codemirror_mode": {
    "name": "ipython",
    "version": 3
   },
   "file_extension": ".py",
   "mimetype": "text/x-python",
   "name": "python",
   "nbconvert_exporter": "python",
   "pygments_lexer": "ipython3",
   "version": "3.9.15"
  }
 },
 "nbformat": 4,
 "nbformat_minor": 5
}
