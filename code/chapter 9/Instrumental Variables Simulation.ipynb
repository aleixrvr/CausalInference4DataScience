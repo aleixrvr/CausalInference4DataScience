{
 "cells": [
  {
   "cell_type": "code",
   "execution_count": 1,
   "id": "646c8fcb",
   "metadata": {},
   "outputs": [],
   "source": [
    "from numpy.random import seed, normal, binomial, uniform\n",
    "from numpy import cov\n",
    "import statsmodels.formula.api as smf\n",
    "from pandas import DataFrame\n",
    "from seaborn import kdeplot\n",
    "\n",
    "seed(1234)"
   ]
  },
  {
   "cell_type": "code",
   "execution_count": 73,
   "id": "5f8b1555",
   "metadata": {},
   "outputs": [],
   "source": [
    "n = 1000\n",
    "instrument_impact = 0.7\n",
    "\n",
    "confounder = binomial(1, 0.3, n)\n",
    "instrument = binomial(1, 0.5, n)\n",
    "treatment = (uniform(0, 1, n) <= instrument_impact*instrument + 0.4*confounder).astype(int)\n",
    "outcome = 30 - 2*treatment + 10 * confounder + normal(0, 2, n)\n",
    "\n",
    "df = DataFrame({\n",
    "    'instrument': instrument,\n",
    "    'treatment': treatment,\n",
    "    'outcome': outcome\n",
    "})"
   ]
  },
  {
   "cell_type": "code",
   "execution_count": 84,
   "id": "43dd8841",
   "metadata": {},
   "outputs": [
    {
     "data": {
      "text/html": [
       "<table class=\"simpletable\">\n",
       "<caption>OLS Regression Results</caption>\n",
       "<tr>\n",
       "  <th>Dep. Variable:</th>         <td>outcome</td>     <th>  R-squared:         </th> <td>   0.012</td>\n",
       "</tr>\n",
       "<tr>\n",
       "  <th>Model:</th>                   <td>OLS</td>       <th>  Adj. R-squared:    </th> <td>   0.011</td>\n",
       "</tr>\n",
       "<tr>\n",
       "  <th>Method:</th>             <td>Least Squares</td>  <th>  F-statistic:       </th> <td>   12.57</td>\n",
       "</tr>\n",
       "<tr>\n",
       "  <th>Date:</th>             <td>Sat, 22 Jul 2023</td> <th>  Prob (F-statistic):</th> <td>0.000410</td>\n",
       "</tr>\n",
       "<tr>\n",
       "  <th>Time:</th>                 <td>18:05:34</td>     <th>  Log-Likelihood:    </th> <td> -2940.9</td>\n",
       "</tr>\n",
       "<tr>\n",
       "  <th>No. Observations:</th>      <td>  1000</td>      <th>  AIC:               </th> <td>   5886.</td>\n",
       "</tr>\n",
       "<tr>\n",
       "  <th>Df Residuals:</th>          <td>   998</td>      <th>  BIC:               </th> <td>   5896.</td>\n",
       "</tr>\n",
       "<tr>\n",
       "  <th>Df Model:</th>              <td>     1</td>      <th>                     </th>     <td> </td>   \n",
       "</tr>\n",
       "<tr>\n",
       "  <th>Covariance Type:</th>      <td>nonrobust</td>    <th>                     </th>     <td> </td>   \n",
       "</tr>\n",
       "</table>\n",
       "<table class=\"simpletable\">\n",
       "<tr>\n",
       "      <td></td>         <th>coef</th>     <th>std err</th>      <th>t</th>      <th>P>|t|</th>  <th>[0.025</th>    <th>0.975]</th>  \n",
       "</tr>\n",
       "<tr>\n",
       "  <th>Intercept</th> <td>   31.4823</td> <td>    0.195</td> <td>  161.725</td> <td> 0.000</td> <td>   31.100</td> <td>   31.864</td>\n",
       "</tr>\n",
       "<tr>\n",
       "  <th>treatment</th> <td>    1.0347</td> <td>    0.292</td> <td>    3.546</td> <td> 0.000</td> <td>    0.462</td> <td>    1.607</td>\n",
       "</tr>\n",
       "</table>\n",
       "<table class=\"simpletable\">\n",
       "<tr>\n",
       "  <th>Omnibus:</th>       <td>71.320</td> <th>  Durbin-Watson:     </th> <td>   1.966</td>\n",
       "</tr>\n",
       "<tr>\n",
       "  <th>Prob(Omnibus):</th> <td> 0.000</td> <th>  Jarque-Bera (JB):  </th> <td>  67.234</td>\n",
       "</tr>\n",
       "<tr>\n",
       "  <th>Skew:</th>          <td> 0.575</td> <th>  Prob(JB):          </th> <td>2.51e-15</td>\n",
       "</tr>\n",
       "<tr>\n",
       "  <th>Kurtosis:</th>      <td> 2.460</td> <th>  Cond. No.          </th> <td>    2.51</td>\n",
       "</tr>\n",
       "</table><br/><br/>Notes:<br/>[1] Standard Errors assume that the covariance matrix of the errors is correctly specified."
      ],
      "text/latex": [
       "\\begin{center}\n",
       "\\begin{tabular}{lclc}\n",
       "\\toprule\n",
       "\\textbf{Dep. Variable:}    &     outcome      & \\textbf{  R-squared:         } &     0.012   \\\\\n",
       "\\textbf{Model:}            &       OLS        & \\textbf{  Adj. R-squared:    } &     0.011   \\\\\n",
       "\\textbf{Method:}           &  Least Squares   & \\textbf{  F-statistic:       } &     12.57   \\\\\n",
       "\\textbf{Date:}             & Sat, 22 Jul 2023 & \\textbf{  Prob (F-statistic):} &  0.000410   \\\\\n",
       "\\textbf{Time:}             &     18:05:34     & \\textbf{  Log-Likelihood:    } &   -2940.9   \\\\\n",
       "\\textbf{No. Observations:} &        1000      & \\textbf{  AIC:               } &     5886.   \\\\\n",
       "\\textbf{Df Residuals:}     &         998      & \\textbf{  BIC:               } &     5896.   \\\\\n",
       "\\textbf{Df Model:}         &           1      & \\textbf{                     } &             \\\\\n",
       "\\textbf{Covariance Type:}  &    nonrobust     & \\textbf{                     } &             \\\\\n",
       "\\bottomrule\n",
       "\\end{tabular}\n",
       "\\begin{tabular}{lcccccc}\n",
       "                   & \\textbf{coef} & \\textbf{std err} & \\textbf{t} & \\textbf{P$> |$t$|$} & \\textbf{[0.025} & \\textbf{0.975]}  \\\\\n",
       "\\midrule\n",
       "\\textbf{Intercept} &      31.4823  &        0.195     &   161.725  &         0.000        &       31.100    &       31.864     \\\\\n",
       "\\textbf{treatment} &       1.0347  &        0.292     &     3.546  &         0.000        &        0.462    &        1.607     \\\\\n",
       "\\bottomrule\n",
       "\\end{tabular}\n",
       "\\begin{tabular}{lclc}\n",
       "\\textbf{Omnibus:}       & 71.320 & \\textbf{  Durbin-Watson:     } &    1.966  \\\\\n",
       "\\textbf{Prob(Omnibus):} &  0.000 & \\textbf{  Jarque-Bera (JB):  } &   67.234  \\\\\n",
       "\\textbf{Skew:}          &  0.575 & \\textbf{  Prob(JB):          } & 2.51e-15  \\\\\n",
       "\\textbf{Kurtosis:}      &  2.460 & \\textbf{  Cond. No.          } &     2.51  \\\\\n",
       "\\bottomrule\n",
       "\\end{tabular}\n",
       "%\\caption{OLS Regression Results}\n",
       "\\end{center}\n",
       "\n",
       "Notes: \\newline\n",
       " [1] Standard Errors assume that the covariance matrix of the errors is correctly specified."
      ],
      "text/plain": [
       "<class 'statsmodels.iolib.summary.Summary'>\n",
       "\"\"\"\n",
       "                            OLS Regression Results                            \n",
       "==============================================================================\n",
       "Dep. Variable:                outcome   R-squared:                       0.012\n",
       "Model:                            OLS   Adj. R-squared:                  0.011\n",
       "Method:                 Least Squares   F-statistic:                     12.57\n",
       "Date:                Sat, 22 Jul 2023   Prob (F-statistic):           0.000410\n",
       "Time:                        18:05:34   Log-Likelihood:                -2940.9\n",
       "No. Observations:                1000   AIC:                             5886.\n",
       "Df Residuals:                     998   BIC:                             5896.\n",
       "Df Model:                           1                                         \n",
       "Covariance Type:            nonrobust                                         \n",
       "==============================================================================\n",
       "                 coef    std err          t      P>|t|      [0.025      0.975]\n",
       "------------------------------------------------------------------------------\n",
       "Intercept     31.4823      0.195    161.725      0.000      31.100      31.864\n",
       "treatment      1.0347      0.292      3.546      0.000       0.462       1.607\n",
       "==============================================================================\n",
       "Omnibus:                       71.320   Durbin-Watson:                   1.966\n",
       "Prob(Omnibus):                  0.000   Jarque-Bera (JB):               67.234\n",
       "Skew:                           0.575   Prob(JB):                     2.51e-15\n",
       "Kurtosis:                       2.460   Cond. No.                         2.51\n",
       "==============================================================================\n",
       "\n",
       "Notes:\n",
       "[1] Standard Errors assume that the covariance matrix of the errors is correctly specified.\n",
       "\"\"\""
      ]
     },
     "execution_count": 84,
     "metadata": {},
     "output_type": "execute_result"
    }
   ],
   "source": [
    "smf.ols(formula='outcome ~ treatment', data=df).fit().summary()"
   ]
  },
  {
   "cell_type": "code",
   "execution_count": 82,
   "id": "2d00221a",
   "metadata": {},
   "outputs": [
    {
     "name": "stdout",
     "output_type": "stream",
     "text": [
      "1.0347180418009607\n"
     ]
    }
   ],
   "source": [
    "outcome_1 = df[df.treatment==1].outcome.mean()\n",
    "outcome_0 = df[df.treatment==0].outcome.mean()\n",
    "print(outcome_1 - outcome_0)"
   ]
  },
  {
   "cell_type": "code",
   "execution_count": 60,
   "id": "88ed0603",
   "metadata": {},
   "outputs": [
    {
     "data": {
      "text/plain": [
       "-1.6948613532822632"
      ]
     },
     "execution_count": 60,
     "metadata": {},
     "output_type": "execute_result"
    }
   ],
   "source": [
    "cov(instrument, outcome)[0][1]/cov(instrument, treatment)[0][1]"
   ]
  },
  {
   "cell_type": "code",
   "execution_count": 81,
   "id": "07e69c54",
   "metadata": {},
   "outputs": [
    {
     "data": {
      "text/html": [
       "<table class=\"simpletable\">\n",
       "<caption>OLS Regression Results</caption>\n",
       "<tr>\n",
       "  <th>Dep. Variable:</th>         <td>outcome</td>     <th>  R-squared:         </th> <td>   0.014</td>\n",
       "</tr>\n",
       "<tr>\n",
       "  <th>Model:</th>                   <td>OLS</td>       <th>  Adj. R-squared:    </th> <td>   0.013</td>\n",
       "</tr>\n",
       "<tr>\n",
       "  <th>Method:</th>             <td>Least Squares</td>  <th>  F-statistic:       </th> <td>   13.84</td>\n",
       "</tr>\n",
       "<tr>\n",
       "  <th>Date:</th>             <td>Sat, 22 Jul 2023</td> <th>  Prob (F-statistic):</th> <td>0.000210</td>\n",
       "</tr>\n",
       "<tr>\n",
       "  <th>Time:</th>                 <td>17:30:37</td>     <th>  Log-Likelihood:    </th> <td> -2940.3</td>\n",
       "</tr>\n",
       "<tr>\n",
       "  <th>No. Observations:</th>      <td>  1000</td>      <th>  AIC:               </th> <td>   5885.</td>\n",
       "</tr>\n",
       "<tr>\n",
       "  <th>Df Residuals:</th>          <td>   998</td>      <th>  BIC:               </th> <td>   5894.</td>\n",
       "</tr>\n",
       "<tr>\n",
       "  <th>Df Model:</th>              <td>     1</td>      <th>                     </th>     <td> </td>   \n",
       "</tr>\n",
       "<tr>\n",
       "  <th>Covariance Type:</th>      <td>nonrobust</td>    <th>                     </th>     <td> </td>   \n",
       "</tr>\n",
       "</table>\n",
       "<table class=\"simpletable\">\n",
       "<tr>\n",
       "            <td></td>              <th>coef</th>     <th>std err</th>      <th>t</th>      <th>P>|t|</th>  <th>[0.025</th>    <th>0.975]</th>  \n",
       "</tr>\n",
       "<tr>\n",
       "  <th>Intercept</th>            <td>   32.6507</td> <td>    0.239</td> <td>  136.487</td> <td> 0.000</td> <td>   32.181</td> <td>   33.120</td>\n",
       "</tr>\n",
       "<tr>\n",
       "  <th>treatment_prediction</th> <td>   -1.5911</td> <td>    0.428</td> <td>   -3.720</td> <td> 0.000</td> <td>   -2.430</td> <td>   -0.752</td>\n",
       "</tr>\n",
       "</table>\n",
       "<table class=\"simpletable\">\n",
       "<tr>\n",
       "  <th>Omnibus:</th>       <td>111.435</td> <th>  Durbin-Watson:     </th> <td>   1.972</td>\n",
       "</tr>\n",
       "<tr>\n",
       "  <th>Prob(Omnibus):</th> <td> 0.000</td>  <th>  Jarque-Bera (JB):  </th> <td>  97.778</td>\n",
       "</tr>\n",
       "<tr>\n",
       "  <th>Skew:</th>          <td> 0.687</td>  <th>  Prob(JB):          </th> <td>5.86e-22</td>\n",
       "</tr>\n",
       "<tr>\n",
       "  <th>Kurtosis:</th>      <td> 2.323</td>  <th>  Cond. No.          </th> <td>    3.60</td>\n",
       "</tr>\n",
       "</table><br/><br/>Notes:<br/>[1] Standard Errors assume that the covariance matrix of the errors is correctly specified."
      ],
      "text/latex": [
       "\\begin{center}\n",
       "\\begin{tabular}{lclc}\n",
       "\\toprule\n",
       "\\textbf{Dep. Variable:}        &     outcome      & \\textbf{  R-squared:         } &     0.014   \\\\\n",
       "\\textbf{Model:}                &       OLS        & \\textbf{  Adj. R-squared:    } &     0.013   \\\\\n",
       "\\textbf{Method:}               &  Least Squares   & \\textbf{  F-statistic:       } &     13.84   \\\\\n",
       "\\textbf{Date:}                 & Sat, 22 Jul 2023 & \\textbf{  Prob (F-statistic):} &  0.000210   \\\\\n",
       "\\textbf{Time:}                 &     17:30:37     & \\textbf{  Log-Likelihood:    } &   -2940.3   \\\\\n",
       "\\textbf{No. Observations:}     &        1000      & \\textbf{  AIC:               } &     5885.   \\\\\n",
       "\\textbf{Df Residuals:}         &         998      & \\textbf{  BIC:               } &     5894.   \\\\\n",
       "\\textbf{Df Model:}             &           1      & \\textbf{                     } &             \\\\\n",
       "\\textbf{Covariance Type:}      &    nonrobust     & \\textbf{                     } &             \\\\\n",
       "\\bottomrule\n",
       "\\end{tabular}\n",
       "\\begin{tabular}{lcccccc}\n",
       "                               & \\textbf{coef} & \\textbf{std err} & \\textbf{t} & \\textbf{P$> |$t$|$} & \\textbf{[0.025} & \\textbf{0.975]}  \\\\\n",
       "\\midrule\n",
       "\\textbf{Intercept}             &      32.6507  &        0.239     &   136.487  &         0.000        &       32.181    &       33.120     \\\\\n",
       "\\textbf{treatment\\_prediction} &      -1.5911  &        0.428     &    -3.720  &         0.000        &       -2.430    &       -0.752     \\\\\n",
       "\\bottomrule\n",
       "\\end{tabular}\n",
       "\\begin{tabular}{lclc}\n",
       "\\textbf{Omnibus:}       & 111.435 & \\textbf{  Durbin-Watson:     } &    1.972  \\\\\n",
       "\\textbf{Prob(Omnibus):} &   0.000 & \\textbf{  Jarque-Bera (JB):  } &   97.778  \\\\\n",
       "\\textbf{Skew:}          &   0.687 & \\textbf{  Prob(JB):          } & 5.86e-22  \\\\\n",
       "\\textbf{Kurtosis:}      &   2.323 & \\textbf{  Cond. No.          } &     3.60  \\\\\n",
       "\\bottomrule\n",
       "\\end{tabular}\n",
       "%\\caption{OLS Regression Results}\n",
       "\\end{center}\n",
       "\n",
       "Notes: \\newline\n",
       " [1] Standard Errors assume that the covariance matrix of the errors is correctly specified."
      ],
      "text/plain": [
       "<class 'statsmodels.iolib.summary.Summary'>\n",
       "\"\"\"\n",
       "                            OLS Regression Results                            \n",
       "==============================================================================\n",
       "Dep. Variable:                outcome   R-squared:                       0.014\n",
       "Model:                            OLS   Adj. R-squared:                  0.013\n",
       "Method:                 Least Squares   F-statistic:                     13.84\n",
       "Date:                Sat, 22 Jul 2023   Prob (F-statistic):           0.000210\n",
       "Time:                        17:30:37   Log-Likelihood:                -2940.3\n",
       "No. Observations:                1000   AIC:                             5885.\n",
       "Df Residuals:                     998   BIC:                             5894.\n",
       "Df Model:                           1                                         \n",
       "Covariance Type:            nonrobust                                         \n",
       "========================================================================================\n",
       "                           coef    std err          t      P>|t|      [0.025      0.975]\n",
       "----------------------------------------------------------------------------------------\n",
       "Intercept               32.6507      0.239    136.487      0.000      32.181      33.120\n",
       "treatment_prediction    -1.5911      0.428     -3.720      0.000      -2.430      -0.752\n",
       "==============================================================================\n",
       "Omnibus:                      111.435   Durbin-Watson:                   1.972\n",
       "Prob(Omnibus):                  0.000   Jarque-Bera (JB):               97.778\n",
       "Skew:                           0.687   Prob(JB):                     5.86e-22\n",
       "Kurtosis:                       2.323   Cond. No.                         3.60\n",
       "==============================================================================\n",
       "\n",
       "Notes:\n",
       "[1] Standard Errors assume that the covariance matrix of the errors is correctly specified.\n",
       "\"\"\""
      ]
     },
     "execution_count": 81,
     "metadata": {},
     "output_type": "execute_result"
    }
   ],
   "source": [
    "model = smf.ols(formula='treatment ~ instrument', data=df).fit()\n",
    "df['treatment_prediction'] = model.predict(df)\n",
    "\n",
    "smf.ols(formula='outcome ~ treatment_prediction', data=df).fit().summary()"
   ]
  },
  {
   "cell_type": "code",
   "execution_count": 80,
   "id": "e1280db5",
   "metadata": {},
   "outputs": [
    {
     "data": {
      "text/html": [
       "<table class=\"simpletable\">\n",
       "<caption>IV-2SLS Estimation Summary</caption>\n",
       "<tr>\n",
       "  <th>Dep. Variable:</th>         <td>outcome</td>     <th>  R-squared:         </th> <td>-0.0677</td>\n",
       "</tr>\n",
       "<tr>\n",
       "  <th>Estimator:</th>             <td>IV-2SLS</td>     <th>  Adj. R-squared:    </th> <td>-0.0687</td>\n",
       "</tr>\n",
       "<tr>\n",
       "  <th>No. Observations:</th>       <td>1000</td>       <th>  F-statistic:       </th> <td>12.805</td> \n",
       "</tr>\n",
       "<tr>\n",
       "  <th>Date:</th>             <td>Sat, Jul 22 2023</td> <th>  P-value (F-stat)   </th> <td>0.0003</td> \n",
       "</tr>\n",
       "<tr>\n",
       "  <th>Time:</th>                 <td>17:30:30</td>     <th>  Distribution:      </th> <td>chi2(1)</td>\n",
       "</tr>\n",
       "<tr>\n",
       "  <th>Cov. Estimator:</th>        <td>robust</td>      <th>                     </th>    <td></td>    \n",
       "</tr>\n",
       "<tr>\n",
       "  <th></th>                          <td></td>         <th>                     </th>    <td></td>    \n",
       "</tr>\n",
       "</table>\n",
       "<table class=\"simpletable\">\n",
       "<caption>Parameter Estimates</caption>\n",
       "<tr>\n",
       "      <td></td>      <th>Parameter</th> <th>Std. Err.</th> <th>T-stat</th>  <th>P-value</th> <th>Lower CI</th> <th>Upper CI</th>\n",
       "</tr>\n",
       "<tr>\n",
       "  <th>Intercept</th>  <td>32.651</td>    <td>0.2474</td>   <td>131.96</td>  <td>0.0000</td>   <td>32.166</td>   <td>33.136</td> \n",
       "</tr>\n",
       "<tr>\n",
       "  <th>treatment</th>  <td>-1.5911</td>   <td>0.4446</td>   <td>-3.5785</td> <td>0.0003</td>   <td>-2.4626</td>  <td>-0.7196</td>\n",
       "</tr>\n",
       "</table><br/><br/>Endogenous: treatment<br/>Instruments: instrument<br/>Robust Covariance (Heteroskedastic)<br/>Debiased: False<br/>id: 0x133db18d0"
      ],
      "text/plain": [
       "                          IV-2SLS Estimation Summary                          \n",
       "==============================================================================\n",
       "Dep. Variable:                outcome   R-squared:                     -0.0677\n",
       "Estimator:                    IV-2SLS   Adj. R-squared:                -0.0687\n",
       "No. Observations:                1000   F-statistic:                    12.805\n",
       "Date:                Sat, Jul 22 2023   P-value (F-stat)                0.0003\n",
       "Time:                        17:30:30   Distribution:                  chi2(1)\n",
       "Cov. Estimator:                robust                                         \n",
       "                                                                              \n",
       "                             Parameter Estimates                              \n",
       "==============================================================================\n",
       "            Parameter  Std. Err.     T-stat    P-value    Lower CI    Upper CI\n",
       "------------------------------------------------------------------------------\n",
       "Intercept      32.651     0.2474     131.96     0.0000      32.166      33.136\n",
       "treatment     -1.5911     0.4446    -3.5785     0.0003     -2.4626     -0.7196\n",
       "==============================================================================\n",
       "\n",
       "Endogenous: treatment\n",
       "Instruments: instrument\n",
       "Robust Covariance (Heteroskedastic)\n",
       "Debiased: False\n",
       "IVResults, id: 0x133db18d0"
      ]
     },
     "execution_count": 80,
     "metadata": {},
     "output_type": "execute_result"
    }
   ],
   "source": [
    "from linearmodels.iv.model import IV2SLS\n",
    "\n",
    "IV2SLS.from_formula('outcome ~ 1  + [treatment ~ instrument]',df).fit()"
   ]
  },
  {
   "cell_type": "code",
   "execution_count": 2,
   "id": "ec10240d",
   "metadata": {},
   "outputs": [],
   "source": [
    "def generate_data(instrument_impact, n):\n",
    "    confounder = binomial(1, 0.3, n)\n",
    "    instrument = binomial(1, 0.5, n)\n",
    "    treatment = (uniform(0, 1, n) <= instrument_impact*instrument + 0.4*confounder).astype(int)\n",
    "    outcome = 30 + instrument_impact*treatment + 10 * confounder + normal(0, 2, n)\n",
    "\n",
    "    return(DataFrame({\n",
    "        'instrument': instrument,\n",
    "        'treatment': treatment,\n",
    "        'outcome': outcome\n",
    "    }))\n",
    "\n",
    "def estimate_impact(df):\n",
    "    return(cov(df.instrument, df.outcome)[0][1]/cov(df.instrument, df.treatment)[0][1])"
   ]
  },
  {
   "cell_type": "code",
   "execution_count": 49,
   "id": "1901c4c4",
   "metadata": {},
   "outputs": [],
   "source": [
    "sim_n = 1000\n",
    "\n",
    "instrument_impact_1 = 0.3\n",
    "estimates_1 = []\n",
    "for i in range(sim_n):\n",
    "    df = generate_data(instrument_impact_1, n)\n",
    "    estimates_1.append(estimate_impact(df))"
   ]
  },
  {
   "cell_type": "code",
   "execution_count": 50,
   "id": "17987f6b",
   "metadata": {},
   "outputs": [],
   "source": [
    "instrument_impact_2 = 0.1\n",
    "estimates_2 = []\n",
    "for i in range(sim_n):\n",
    "    df = generate_data(instrument_impact_2, n)\n",
    "    estimates_2.append(estimate_impact(df))"
   ]
  },
  {
   "cell_type": "code",
   "execution_count": 51,
   "id": "ded918c7",
   "metadata": {},
   "outputs": [],
   "source": [
    "df_plot = DataFrame({\n",
    "    'estimate': estimates_1 + estimates_2,\n",
    "    'instrument_impact': [instrument_impact_1]*n + [instrument_impact_2]*n\n",
    "})"
   ]
  },
  {
   "cell_type": "code",
   "execution_count": 52,
   "id": "c7fdad2e",
   "metadata": {},
   "outputs": [
    {
     "data": {
      "text/plain": [
       "<Axes: xlabel='estimate', ylabel='Density'>"
      ]
     },
     "execution_count": 52,
     "metadata": {},
     "output_type": "execute_result"
    },
    {
     "data": {
      "image/png": "[encoded data removed]",
      "text/plain": [
       "<Figure size 640x480 with 1 Axes>"
      ]
     },
     "metadata": {},
     "output_type": "display_data"
    }
   ],
   "source": [
    "kdeplot(data = df_plot, x='estimate', hue='instrument_impact')"
   ]
  },
  {
   "cell_type": "code",
   "execution_count": 44,
   "id": "600b8196",
   "metadata": {},
   "outputs": [
    {
     "name": "stdout",
     "output_type": "stream",
     "text": [
      "0.9762328562358012\n"
     ]
    },
    {
     "data": {
      "text/html": [
       "<div>\n",
       "<style scoped>\n",
       "    .dataframe tbody tr th:only-of-type {\n",
       "        vertical-align: middle;\n",
       "    }\n",
       "\n",
       "    .dataframe tbody tr th {\n",
       "        vertical-align: top;\n",
       "    }\n",
       "\n",
       "    .dataframe thead th {\n",
       "        text-align: right;\n",
       "    }\n",
       "</style>\n",
       "<table border=\"1\" class=\"dataframe\">\n",
       "  <thead>\n",
       "    <tr style=\"text-align: right;\">\n",
       "      <th></th>\n",
       "      <th>coef</th>\n",
       "      <th>std err</th>\n",
       "      <th>t</th>\n",
       "      <th>P&gt;|t|</th>\n",
       "      <th>2.5 %</th>\n",
       "      <th>97.5 %</th>\n",
       "    </tr>\n",
       "  </thead>\n",
       "  <tbody>\n",
       "    <tr>\n",
       "      <th>treatment</th>\n",
       "      <td>0.953482</td>\n",
       "      <td>0.585389</td>\n",
       "      <td>1.628802</td>\n",
       "      <td>0.103355</td>\n",
       "      <td>-0.193858</td>\n",
       "      <td>2.100823</td>\n",
       "    </tr>\n",
       "  </tbody>\n",
       "</table>\n",
       "</div>"
      ],
      "text/plain": [
       "               coef   std err         t     P>|t|     2.5 %    97.5 %\n",
       "treatment  0.953482  0.585389  1.628802  0.103355 -0.193858  2.100823"
      ]
     },
     "execution_count": 44,
     "metadata": {},
     "output_type": "execute_result"
    }
   ],
   "source": [
    "import doubleml as dml\n",
    "from sklearn.linear_model import LinearRegression, LogisticRegression\n",
    "\n",
    "n = 10000\n",
    "df = generate_data(0.5, 1000)\n",
    "\n",
    "print(estimate_impact(df))\n",
    "df['x'] = 1\n",
    "\n",
    "ml_g = LinearRegression()\n",
    "ml_m = LogisticRegression(penalty=None)\n",
    "ml_r = LogisticRegression(penalty=None)\n",
    "\n",
    "obj_dml_data = dml.DoubleMLData(df, y_col='outcome', d_cols='treatment', z_cols='instrument')\n",
    "dml_iivm_obj = dml.DoubleMLIIVM(obj_dml_data, ml_g, ml_m, ml_r)\n",
    "dml_iivm_obj.fit().summary\n"
   ]
  },
  {
   "cell_type": "code",
   "execution_count": 45,
   "id": "d118d2be",
   "metadata": {},
   "outputs": [
    {
     "data": {
      "text/html": [
       "<div>\n",
       "<style scoped>\n",
       "    .dataframe tbody tr th:only-of-type {\n",
       "        vertical-align: middle;\n",
       "    }\n",
       "\n",
       "    .dataframe tbody tr th {\n",
       "        vertical-align: top;\n",
       "    }\n",
       "\n",
       "    .dataframe thead th {\n",
       "        text-align: right;\n",
       "    }\n",
       "</style>\n",
       "<table border=\"1\" class=\"dataframe\">\n",
       "  <thead>\n",
       "    <tr style=\"text-align: right;\">\n",
       "      <th></th>\n",
       "      <th>instrument</th>\n",
       "      <th>treatment</th>\n",
       "      <th>outcome</th>\n",
       "      <th>x</th>\n",
       "    </tr>\n",
       "  </thead>\n",
       "  <tbody>\n",
       "    <tr>\n",
       "      <th>0</th>\n",
       "      <td>0</td>\n",
       "      <td>1</td>\n",
       "      <td>39.890097</td>\n",
       "      <td>1</td>\n",
       "    </tr>\n",
       "    <tr>\n",
       "      <th>1</th>\n",
       "      <td>0</td>\n",
       "      <td>0</td>\n",
       "      <td>39.313675</td>\n",
       "      <td>1</td>\n",
       "    </tr>\n",
       "    <tr>\n",
       "      <th>2</th>\n",
       "      <td>0</td>\n",
       "      <td>0</td>\n",
       "      <td>29.754342</td>\n",
       "      <td>1</td>\n",
       "    </tr>\n",
       "    <tr>\n",
       "      <th>3</th>\n",
       "      <td>1</td>\n",
       "      <td>1</td>\n",
       "      <td>41.513042</td>\n",
       "      <td>1</td>\n",
       "    </tr>\n",
       "    <tr>\n",
       "      <th>4</th>\n",
       "      <td>0</td>\n",
       "      <td>0</td>\n",
       "      <td>28.625697</td>\n",
       "      <td>1</td>\n",
       "    </tr>\n",
       "    <tr>\n",
       "      <th>...</th>\n",
       "      <td>...</td>\n",
       "      <td>...</td>\n",
       "      <td>...</td>\n",
       "      <td>...</td>\n",
       "    </tr>\n",
       "    <tr>\n",
       "      <th>995</th>\n",
       "      <td>1</td>\n",
       "      <td>1</td>\n",
       "      <td>41.533379</td>\n",
       "      <td>1</td>\n",
       "    </tr>\n",
       "    <tr>\n",
       "      <th>996</th>\n",
       "      <td>0</td>\n",
       "      <td>0</td>\n",
       "      <td>30.372180</td>\n",
       "      <td>1</td>\n",
       "    </tr>\n",
       "    <tr>\n",
       "      <th>997</th>\n",
       "      <td>1</td>\n",
       "      <td>0</td>\n",
       "      <td>26.080957</td>\n",
       "      <td>1</td>\n",
       "    </tr>\n",
       "    <tr>\n",
       "      <th>998</th>\n",
       "      <td>0</td>\n",
       "      <td>0</td>\n",
       "      <td>30.498223</td>\n",
       "      <td>1</td>\n",
       "    </tr>\n",
       "    <tr>\n",
       "      <th>999</th>\n",
       "      <td>0</td>\n",
       "      <td>0</td>\n",
       "      <td>33.040100</td>\n",
       "      <td>1</td>\n",
       "    </tr>\n",
       "  </tbody>\n",
       "</table>\n",
       "<p>1000 rows × 4 columns</p>\n",
       "</div>"
      ],
      "text/plain": [
       "     instrument  treatment    outcome  x\n",
       "0             0          1  39.890097  1\n",
       "1             0          0  39.313675  1\n",
       "2             0          0  29.754342  1\n",
       "3             1          1  41.513042  1\n",
       "4             0          0  28.625697  1\n",
       "..          ...        ...        ... ..\n",
       "995           1          1  41.533379  1\n",
       "996           0          0  30.372180  1\n",
       "997           1          0  26.080957  1\n",
       "998           0          0  30.498223  1\n",
       "999           0          0  33.040100  1\n",
       "\n",
       "[1000 rows x 4 columns]"
      ]
     },
     "execution_count": 45,
     "metadata": {},
     "output_type": "execute_result"
    }
   ],
   "source": [
    "import pandas as pd\n",
    "\n",
    "pd.read_csv(\"df.csv\")\n",
    "df"
   ]
  },
  {
   "cell_type": "code",
   "execution_count": 46,
   "id": "b51a6519",
   "metadata": {},
   "outputs": [
    {
     "data": {
      "text/html": [
       "<div>\n",
       "<style scoped>\n",
       "    .dataframe tbody tr th:only-of-type {\n",
       "        vertical-align: middle;\n",
       "    }\n",
       "\n",
       "    .dataframe tbody tr th {\n",
       "        vertical-align: top;\n",
       "    }\n",
       "\n",
       "    .dataframe thead th {\n",
       "        text-align: right;\n",
       "    }\n",
       "</style>\n",
       "<table border=\"1\" class=\"dataframe\">\n",
       "  <thead>\n",
       "    <tr style=\"text-align: right;\">\n",
       "      <th></th>\n",
       "      <th>coef</th>\n",
       "      <th>std err</th>\n",
       "      <th>t</th>\n",
       "      <th>P&gt;|t|</th>\n",
       "      <th>2.5 %</th>\n",
       "      <th>97.5 %</th>\n",
       "    </tr>\n",
       "  </thead>\n",
       "  <tbody>\n",
       "    <tr>\n",
       "      <th>treatment</th>\n",
       "      <td>0.984465</td>\n",
       "      <td>0.58232</td>\n",
       "      <td>1.690592</td>\n",
       "      <td>0.090915</td>\n",
       "      <td>-0.156861</td>\n",
       "      <td>2.125791</td>\n",
       "    </tr>\n",
       "  </tbody>\n",
       "</table>\n",
       "</div>"
      ],
      "text/plain": [
       "               coef  std err         t     P>|t|     2.5 %    97.5 %\n",
       "treatment  0.984465  0.58232  1.690592  0.090915 -0.156861  2.125791"
      ]
     },
     "execution_count": 46,
     "metadata": {},
     "output_type": "execute_result"
    }
   ],
   "source": [
    "ml_g = LinearRegression()\n",
    "ml_m = LogisticRegression(penalty=None)\n",
    "ml_r = LogisticRegression(penalty=None)\n",
    "\n",
    "obj_dml_data = dml.DoubleMLData(df, y_col='outcome', d_cols='treatment', z_cols='instrument')\n",
    "dml_iivm_obj = dml.DoubleMLIIVM(obj_dml_data, ml_g, ml_m, ml_r)\n",
    "dml_iivm_obj.fit().summary\n"
   ]
  },
  {
   "cell_type": "code",
   "execution_count": 47,
   "id": "b1da1175",
   "metadata": {},
   "outputs": [
    {
     "data": {
      "text/plain": [
       "0.9762328562358012"
      ]
     },
     "execution_count": 47,
     "metadata": {},
     "output_type": "execute_result"
    }
   ],
   "source": [
    "cov(df.instrument, df.outcome)[0][1]/cov(df.instrument, df.treatment)[0][1]"
   ]
  }
 ],
 "metadata": {
  "kernelspec": {
   "display_name": "Python 3 (ipykernel)",
   "language": "python",
   "name": "python3"
  },
  "language_info": {
   "codemirror_mode": {
    "name": "ipython",
    "version": 3
   },
   "file_extension": ".py",
   "mimetype": "text/x-python",
   "name": "python",
   "nbconvert_exporter": "python",
   "pygments_lexer": "ipython3",
   "version": "3.11.0"
  }
 },
 "nbformat": 4,
 "nbformat_minor": 5
}
