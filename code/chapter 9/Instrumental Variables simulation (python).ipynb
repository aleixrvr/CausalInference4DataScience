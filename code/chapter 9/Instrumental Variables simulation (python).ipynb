{
  "cells": [
    {
      "cell_type": "markdown",
      "id": "8d30b059-359a-42b1-ab22-33ffba39772a",
      "metadata": {},
      "source": [
        "# Instrumental Variables\n",
        "\n",
        "# 1. Data simulation: a predictor of the outcome"
      ]
    },
    {
      "cell_type": "code",
      "execution_count": 1,
      "id": "7ff54b37",
      "metadata": {},
      "outputs": [],
      "source": [
        "from numpy.random import seed, normal, binomial, uniform\n",
        "from numpy import cov\n",
        "import statsmodels.formula.api as smf\n",
        "from pandas import DataFrame\n",
        "from seaborn import kdeplot\n",
        "import doubleml as dml\n",
        "from sklearn.linear_model import LinearRegression, LogisticRegression\n",
        "from linearmodels.iv.model import IV2SLS\n",
        "\n",
        "n = 1000\n",
        "instrument_impact = 0.7\n",
        "treatment_effect = -2\n",
        "\n",
        "confounder = binomial(1, 0.3, n)\n",
        "instrument = binomial(1, 0.5, n)\n",
        "treatment = (\n",
        "    uniform(0, 1, n) <= instrument_impact * instrument + 0.4 * confounder\n",
        ").astype(int)\n",
        "outcome = 30 + treatment_effect * treatment + 10 * confounder + normal(0, 2, n)\n",
        "\n",
        "df = DataFrame({\"instrument\": instrument, \"treatment\": treatment, \"outcome\": outcome})"
      ]
    },
    {
      "cell_type": "markdown",
      "id": "5728a63c-0cc4-4bc0-93ae-bfc401f48e66",
      "metadata": {},
      "source": [
        "# 2. Naive estimation"
      ]
    },
    {
      "cell_type": "code",
      "execution_count": 2,
      "id": "5e24f7e8",
      "metadata": {},
      "outputs": [
        {
          "data": {
            "text/html": [
              "<table class=\"simpletable\">\n",
              "<caption>OLS Regression Results</caption>\n",
              "<tr>\n",
              "  <th>Dep. Variable:</th>         <td>outcome</td>     <th>  R-squared:         </th> <td>   0.012</td>\n",
              "</tr>\n",
              "<tr>\n",
              "  <th>Model:</th>                   <td>OLS</td>       <th>  Adj. R-squared:    </th> <td>   0.011</td>\n",
              "</tr>\n",
              "<tr>\n",
              "  <th>Method:</th>             <td>Least Squares</td>  <th>  F-statistic:       </th> <td>   12.20</td>\n",
              "</tr>\n",
              "<tr>\n",
              "  <th>Date:</th>             <td>Tue, 19 Dec 2023</td> <th>  Prob (F-statistic):</th> <td>0.000499</td>\n",
              "</tr>\n",
              "<tr>\n",
              "  <th>Time:</th>                 <td>18:47:12</td>     <th>  Log-Likelihood:    </th> <td> -2974.1</td>\n",
              "</tr>\n",
              "<tr>\n",
              "  <th>No. Observations:</th>      <td>  1000</td>      <th>  AIC:               </th> <td>   5952.</td>\n",
              "</tr>\n",
              "<tr>\n",
              "  <th>Df Residuals:</th>          <td>   998</td>      <th>  BIC:               </th> <td>   5962.</td>\n",
              "</tr>\n",
              "<tr>\n",
              "  <th>Df Model:</th>              <td>     1</td>      <th>                     </th>     <td> </td>   \n",
              "</tr>\n",
              "<tr>\n",
              "  <th>Covariance Type:</th>      <td>nonrobust</td>    <th>                     </th>     <td> </td>   \n",
              "</tr>\n",
              "</table>\n",
              "<table class=\"simpletable\">\n",
              "<tr>\n",
              "      <td></td>         <th>coef</th>     <th>std err</th>      <th>t</th>      <th>P>|t|</th>  <th>[0.025</th>    <th>0.975]</th>  \n",
              "</tr>\n",
              "<tr>\n",
              "  <th>Intercept</th> <td>   31.6567</td> <td>    0.197</td> <td>  160.824</td> <td> 0.000</td> <td>   31.270</td> <td>   32.043</td>\n",
              "</tr>\n",
              "<tr>\n",
              "  <th>treatment</th> <td>    1.0608</td> <td>    0.304</td> <td>    3.493</td> <td> 0.000</td> <td>    0.465</td> <td>    1.657</td>\n",
              "</tr>\n",
              "</table>\n",
              "<table class=\"simpletable\">\n",
              "<tr>\n",
              "  <th>Omnibus:</th>       <td>64.720</td> <th>  Durbin-Watson:     </th> <td>   1.891</td>\n",
              "</tr>\n",
              "<tr>\n",
              "  <th>Prob(Omnibus):</th> <td> 0.000</td> <th>  Jarque-Bera (JB):  </th> <td>  63.477</td>\n",
              "</tr>\n",
              "<tr>\n",
              "  <th>Skew:</th>          <td> 0.566</td> <th>  Prob(JB):          </th> <td>1.64e-14</td>\n",
              "</tr>\n",
              "<tr>\n",
              "  <th>Kurtosis:</th>      <td> 2.509</td> <th>  Cond. No.          </th> <td>    2.47</td>\n",
              "</tr>\n",
              "</table><br/><br/>Notes:<br/>[1] Standard Errors assume that the covariance matrix of the errors is correctly specified."
            ],
            "text/latex": [
              "\\begin{center}\n",
              "\\begin{tabular}{lclc}\n",
              "\\toprule\n",
              "\\textbf{Dep. Variable:}    &     outcome      & \\textbf{  R-squared:         } &     0.012   \\\\\n",
              "\\textbf{Model:}            &       OLS        & \\textbf{  Adj. R-squared:    } &     0.011   \\\\\n",
              "\\textbf{Method:}           &  Least Squares   & \\textbf{  F-statistic:       } &     12.20   \\\\\n",
              "\\textbf{Date:}             & Tue, 19 Dec 2023 & \\textbf{  Prob (F-statistic):} &  0.000499   \\\\\n",
              "\\textbf{Time:}             &     18:47:12     & \\textbf{  Log-Likelihood:    } &   -2974.1   \\\\\n",
              "\\textbf{No. Observations:} &        1000      & \\textbf{  AIC:               } &     5952.   \\\\\n",
              "\\textbf{Df Residuals:}     &         998      & \\textbf{  BIC:               } &     5962.   \\\\\n",
              "\\textbf{Df Model:}         &           1      & \\textbf{                     } &             \\\\\n",
              "\\textbf{Covariance Type:}  &    nonrobust     & \\textbf{                     } &             \\\\\n",
              "\\bottomrule\n",
              "\\end{tabular}\n",
              "\\begin{tabular}{lcccccc}\n",
              "                   & \\textbf{coef} & \\textbf{std err} & \\textbf{t} & \\textbf{P$> |$t$|$} & \\textbf{[0.025} & \\textbf{0.975]}  \\\\\n",
              "\\midrule\n",
              "\\textbf{Intercept} &      31.6567  &        0.197     &   160.824  &         0.000        &       31.270    &       32.043     \\\\\n",
              "\\textbf{treatment} &       1.0608  &        0.304     &     3.493  &         0.000        &        0.465    &        1.657     \\\\\n",
              "\\bottomrule\n",
              "\\end{tabular}\n",
              "\\begin{tabular}{lclc}\n",
              "\\textbf{Omnibus:}       & 64.720 & \\textbf{  Durbin-Watson:     } &    1.891  \\\\\n",
              "\\textbf{Prob(Omnibus):} &  0.000 & \\textbf{  Jarque-Bera (JB):  } &   63.477  \\\\\n",
              "\\textbf{Skew:}          &  0.566 & \\textbf{  Prob(JB):          } & 1.64e-14  \\\\\n",
              "\\textbf{Kurtosis:}      &  2.509 & \\textbf{  Cond. No.          } &     2.47  \\\\\n",
              "\\bottomrule\n",
              "\\end{tabular}\n",
              "%\\caption{OLS Regression Results}\n",
              "\\end{center}\n",
              "\n",
              "Notes: \\newline\n",
              " [1] Standard Errors assume that the covariance matrix of the errors is correctly specified."
            ],
            "text/plain": [
              "<class 'statsmodels.iolib.summary.Summary'>\n",
              "\"\"\"\n",
              "                            OLS Regression Results                            \n",
              "==============================================================================\n",
              "Dep. Variable:                outcome   R-squared:                       0.012\n",
              "Model:                            OLS   Adj. R-squared:                  0.011\n",
              "Method:                 Least Squares   F-statistic:                     12.20\n",
              "Date:                Tue, 19 Dec 2023   Prob (F-statistic):           0.000499\n",
              "Time:                        18:47:12   Log-Likelihood:                -2974.1\n",
              "No. Observations:                1000   AIC:                             5952.\n",
              "Df Residuals:                     998   BIC:                             5962.\n",
              "Df Model:                           1                                         \n",
              "Covariance Type:            nonrobust                                         \n",
              "==============================================================================\n",
              "                 coef    std err          t      P>|t|      [0.025      0.975]\n",
              "------------------------------------------------------------------------------\n",
              "Intercept     31.6567      0.197    160.824      0.000      31.270      32.043\n",
              "treatment      1.0608      0.304      3.493      0.000       0.465       1.657\n",
              "==============================================================================\n",
              "Omnibus:                       64.720   Durbin-Watson:                   1.891\n",
              "Prob(Omnibus):                  0.000   Jarque-Bera (JB):               63.477\n",
              "Skew:                           0.566   Prob(JB):                     1.64e-14\n",
              "Kurtosis:                       2.509   Cond. No.                         2.47\n",
              "==============================================================================\n",
              "\n",
              "Notes:\n",
              "[1] Standard Errors assume that the covariance matrix of the errors is correctly specified.\n",
              "\"\"\""
            ]
          },
          "execution_count": 2,
          "metadata": {},
          "output_type": "execute_result"
        }
      ],
      "source": [
        "smf.ols(formula=\"outcome ~ treatment\", data=df).fit().summary()"
      ]
    },
    {
      "cell_type": "code",
      "execution_count": 3,
      "id": "e674cc16",
      "metadata": {},
      "outputs": [
        {
          "name": "stdout",
          "output_type": "stream",
          "text": [
            "1.0608181513166528\n"
          ]
        }
      ],
      "source": [
        "outcome_1 = df[df.treatment==1].outcome.mean()\n",
        "outcome_0 = df[df.treatment==0].outcome.mean()\n",
        "print(outcome_1 - outcome_0)"
      ]
    },
    {
      "cell_type": "markdown",
      "id": "b4efa122-5ea3-4bbd-a753-8d5d1dac623a",
      "metadata": {},
      "source": [
        "# 3. IV estimation"
      ]
    },
    {
      "cell_type": "code",
      "execution_count": 4,
      "id": "19e1f042",
      "metadata": {},
      "outputs": [
        {
          "data": {
            "text/plain": [
              "-2.1031996936531288"
            ]
          },
          "execution_count": 4,
          "metadata": {},
          "output_type": "execute_result"
        }
      ],
      "source": [
        "cov(instrument, outcome)[0][1]/cov(instrument, treatment)[0][1]"
      ]
    },
    {
      "cell_type": "markdown",
      "id": "79463c21-8692-4904-b056-3bebd93ec8da",
      "metadata": {},
      "source": [
        "# 4. Two-Stage Least Squares Estimation"
      ]
    },
    {
      "cell_type": "code",
      "execution_count": 5,
      "id": "0b3de9cf",
      "metadata": {},
      "outputs": [
        {
          "data": {
            "text/html": [
              "<table class=\"simpletable\">\n",
              "<caption>OLS Regression Results</caption>\n",
              "<tr>\n",
              "  <th>Dep. Variable:</th>         <td>outcome</td>     <th>  R-squared:         </th> <td>   0.020</td>\n",
              "</tr>\n",
              "<tr>\n",
              "  <th>Model:</th>                   <td>OLS</td>       <th>  Adj. R-squared:    </th> <td>   0.019</td>\n",
              "</tr>\n",
              "<tr>\n",
              "  <th>Method:</th>             <td>Least Squares</td>  <th>  F-statistic:       </th> <td>   20.23</td>\n",
              "</tr>\n",
              "<tr>\n",
              "  <th>Date:</th>             <td>Tue, 19 Dec 2023</td> <th>  Prob (F-statistic):</th> <td>7.68e-06</td>\n",
              "</tr>\n",
              "<tr>\n",
              "  <th>Time:</th>                 <td>18:47:13</td>     <th>  Log-Likelihood:    </th> <td> -2970.1</td>\n",
              "</tr>\n",
              "<tr>\n",
              "  <th>No. Observations:</th>      <td>  1000</td>      <th>  AIC:               </th> <td>   5944.</td>\n",
              "</tr>\n",
              "<tr>\n",
              "  <th>Df Residuals:</th>          <td>   998</td>      <th>  BIC:               </th> <td>   5954.</td>\n",
              "</tr>\n",
              "<tr>\n",
              "  <th>Df Model:</th>              <td>     1</td>      <th>                     </th>     <td> </td>   \n",
              "</tr>\n",
              "<tr>\n",
              "  <th>Covariance Type:</th>      <td>nonrobust</td>    <th>                     </th>     <td> </td>   \n",
              "</tr>\n",
              "</table>\n",
              "<table class=\"simpletable\">\n",
              "<tr>\n",
              "            <td></td>              <th>coef</th>     <th>std err</th>      <th>t</th>      <th>P>|t|</th>  <th>[0.025</th>    <th>0.975]</th>  \n",
              "</tr>\n",
              "<tr>\n",
              "  <th>Intercept</th>            <td>   32.9855</td> <td>    0.247</td> <td>  133.695</td> <td> 0.000</td> <td>   32.501</td> <td>   33.470</td>\n",
              "</tr>\n",
              "<tr>\n",
              "  <th>treatment_prediction</th> <td>   -2.1032</td> <td>    0.468</td> <td>   -4.497</td> <td> 0.000</td> <td>   -3.021</td> <td>   -1.186</td>\n",
              "</tr>\n",
              "</table>\n",
              "<table class=\"simpletable\">\n",
              "<tr>\n",
              "  <th>Omnibus:</th>       <td>101.245</td> <th>  Durbin-Watson:     </th> <td>   1.875</td>\n",
              "</tr>\n",
              "<tr>\n",
              "  <th>Prob(Omnibus):</th> <td> 0.000</td>  <th>  Jarque-Bera (JB):  </th> <td>  90.574</td>\n",
              "</tr>\n",
              "<tr>\n",
              "  <th>Skew:</th>          <td> 0.663</td>  <th>  Prob(JB):          </th> <td>2.15e-20</td>\n",
              "</tr>\n",
              "<tr>\n",
              "  <th>Kurtosis:</th>      <td> 2.354</td>  <th>  Cond. No.          </th> <td>    3.74</td>\n",
              "</tr>\n",
              "</table><br/><br/>Notes:<br/>[1] Standard Errors assume that the covariance matrix of the errors is correctly specified."
            ],
            "text/latex": [
              "\\begin{center}\n",
              "\\begin{tabular}{lclc}\n",
              "\\toprule\n",
              "\\textbf{Dep. Variable:}        &     outcome      & \\textbf{  R-squared:         } &     0.020   \\\\\n",
              "\\textbf{Model:}                &       OLS        & \\textbf{  Adj. R-squared:    } &     0.019   \\\\\n",
              "\\textbf{Method:}               &  Least Squares   & \\textbf{  F-statistic:       } &     20.23   \\\\\n",
              "\\textbf{Date:}                 & Tue, 19 Dec 2023 & \\textbf{  Prob (F-statistic):} &  7.68e-06   \\\\\n",
              "\\textbf{Time:}                 &     18:47:13     & \\textbf{  Log-Likelihood:    } &   -2970.1   \\\\\n",
              "\\textbf{No. Observations:}     &        1000      & \\textbf{  AIC:               } &     5944.   \\\\\n",
              "\\textbf{Df Residuals:}         &         998      & \\textbf{  BIC:               } &     5954.   \\\\\n",
              "\\textbf{Df Model:}             &           1      & \\textbf{                     } &             \\\\\n",
              "\\textbf{Covariance Type:}      &    nonrobust     & \\textbf{                     } &             \\\\\n",
              "\\bottomrule\n",
              "\\end{tabular}\n",
              "\\begin{tabular}{lcccccc}\n",
              "                               & \\textbf{coef} & \\textbf{std err} & \\textbf{t} & \\textbf{P$> |$t$|$} & \\textbf{[0.025} & \\textbf{0.975]}  \\\\\n",
              "\\midrule\n",
              "\\textbf{Intercept}             &      32.9855  &        0.247     &   133.695  &         0.000        &       32.501    &       33.470     \\\\\n",
              "\\textbf{treatment\\_prediction} &      -2.1032  &        0.468     &    -4.497  &         0.000        &       -3.021    &       -1.186     \\\\\n",
              "\\bottomrule\n",
              "\\end{tabular}\n",
              "\\begin{tabular}{lclc}\n",
              "\\textbf{Omnibus:}       & 101.245 & \\textbf{  Durbin-Watson:     } &    1.875  \\\\\n",
              "\\textbf{Prob(Omnibus):} &   0.000 & \\textbf{  Jarque-Bera (JB):  } &   90.574  \\\\\n",
              "\\textbf{Skew:}          &   0.663 & \\textbf{  Prob(JB):          } & 2.15e-20  \\\\\n",
              "\\textbf{Kurtosis:}      &   2.354 & \\textbf{  Cond. No.          } &     3.74  \\\\\n",
              "\\bottomrule\n",
              "\\end{tabular}\n",
              "%\\caption{OLS Regression Results}\n",
              "\\end{center}\n",
              "\n",
              "Notes: \\newline\n",
              " [1] Standard Errors assume that the covariance matrix of the errors is correctly specified."
            ],
            "text/plain": [
              "<class 'statsmodels.iolib.summary.Summary'>\n",
              "\"\"\"\n",
              "                            OLS Regression Results                            \n",
              "==============================================================================\n",
              "Dep. Variable:                outcome   R-squared:                       0.020\n",
              "Model:                            OLS   Adj. R-squared:                  0.019\n",
              "Method:                 Least Squares   F-statistic:                     20.23\n",
              "Date:                Tue, 19 Dec 2023   Prob (F-statistic):           7.68e-06\n",
              "Time:                        18:47:13   Log-Likelihood:                -2970.1\n",
              "No. Observations:                1000   AIC:                             5944.\n",
              "Df Residuals:                     998   BIC:                             5954.\n",
              "Df Model:                           1                                         \n",
              "Covariance Type:            nonrobust                                         \n",
              "========================================================================================\n",
              "                           coef    std err          t      P>|t|      [0.025      0.975]\n",
              "----------------------------------------------------------------------------------------\n",
              "Intercept               32.9855      0.247    133.695      0.000      32.501      33.470\n",
              "treatment_prediction    -2.1032      0.468     -4.497      0.000      -3.021      -1.186\n",
              "==============================================================================\n",
              "Omnibus:                      101.245   Durbin-Watson:                   1.875\n",
              "Prob(Omnibus):                  0.000   Jarque-Bera (JB):               90.574\n",
              "Skew:                           0.663   Prob(JB):                     2.15e-20\n",
              "Kurtosis:                       2.354   Cond. No.                         3.74\n",
              "==============================================================================\n",
              "\n",
              "Notes:\n",
              "[1] Standard Errors assume that the covariance matrix of the errors is correctly specified.\n",
              "\"\"\""
            ]
          },
          "execution_count": 5,
          "metadata": {},
          "output_type": "execute_result"
        }
      ],
      "source": [
        "model = smf.ols(formula='treatment ~ instrument', data=df).fit()\n",
        "df['treatment_prediction'] = model.predict(df)\n",
        "\n",
        "smf.ols(formula='outcome ~ treatment_prediction', data=df).fit().summary()"
      ]
    },
    {
      "cell_type": "code",
      "execution_count": 6,
      "id": "f2d8cf12",
      "metadata": {},
      "outputs": [
        {
          "data": {
            "text/html": [
              "<table class=\"simpletable\">\n",
              "<caption>IV-2SLS Estimation Summary</caption>\n",
              "<tr>\n",
              "  <th>Dep. Variable:</th>         <td>outcome</td>     <th>  R-squared:         </th> <td>-0.0953</td>\n",
              "</tr>\n",
              "<tr>\n",
              "  <th>Estimator:</th>             <td>IV-2SLS</td>     <th>  Adj. R-squared:    </th> <td>-0.0964</td>\n",
              "</tr>\n",
              "<tr>\n",
              "  <th>No. Observations:</th>       <td>1000</td>       <th>  F-statistic:       </th> <td>18.131</td> \n",
              "</tr>\n",
              "<tr>\n",
              "  <th>Date:</th>             <td>Tue, Dec 19 2023</td> <th>  P-value (F-stat)   </th> <td>0.0000</td> \n",
              "</tr>\n",
              "<tr>\n",
              "  <th>Time:</th>                 <td>18:47:13</td>     <th>  Distribution:      </th> <td>chi2(1)</td>\n",
              "</tr>\n",
              "<tr>\n",
              "  <th>Cov. Estimator:</th>        <td>robust</td>      <th>                     </th>    <td></td>    \n",
              "</tr>\n",
              "<tr>\n",
              "  <th></th>                          <td></td>         <th>                     </th>    <td></td>    \n",
              "</tr>\n",
              "</table>\n",
              "<table class=\"simpletable\">\n",
              "<caption>Parameter Estimates</caption>\n",
              "<tr>\n",
              "      <td></td>      <th>Parameter</th> <th>Std. Err.</th> <th>T-stat</th>  <th>P-value</th> <th>Lower CI</th> <th>Upper CI</th>\n",
              "</tr>\n",
              "<tr>\n",
              "  <th>Intercept</th>  <td>32.986</td>    <td>0.2603</td>   <td>126.72</td>  <td>0.0000</td>   <td>32.475</td>   <td>33.496</td> \n",
              "</tr>\n",
              "<tr>\n",
              "  <th>treatment</th>  <td>-2.1032</td>   <td>0.4939</td>   <td>-4.2580</td> <td>0.0000</td>   <td>-3.0713</td>  <td>-1.1351</td>\n",
              "</tr>\n",
              "</table><br/><br/>Endogenous: treatment<br/>Instruments: instrument<br/>Robust Covariance (Heteroskedastic)<br/>Debiased: False<br/>id: 0x1334d3710"
            ],
            "text/plain": [
              "                          IV-2SLS Estimation Summary                          \n",
              "==============================================================================\n",
              "Dep. Variable:                outcome   R-squared:                     -0.0953\n",
              "Estimator:                    IV-2SLS   Adj. R-squared:                -0.0964\n",
              "No. Observations:                1000   F-statistic:                    18.131\n",
              "Date:                Tue, Dec 19 2023   P-value (F-stat)                0.0000\n",
              "Time:                        18:47:13   Distribution:                  chi2(1)\n",
              "Cov. Estimator:                robust                                         \n",
              "                                                                              \n",
              "                             Parameter Estimates                              \n",
              "==============================================================================\n",
              "            Parameter  Std. Err.     T-stat    P-value    Lower CI    Upper CI\n",
              "------------------------------------------------------------------------------\n",
              "Intercept      32.986     0.2603     126.72     0.0000      32.475      33.496\n",
              "treatment     -2.1032     0.4939    -4.2580     0.0000     -3.0713     -1.1351\n",
              "==============================================================================\n",
              "\n",
              "Endogenous: treatment\n",
              "Instruments: instrument\n",
              "Robust Covariance (Heteroskedastic)\n",
              "Debiased: False\n",
              "IVResults, id: 0x1334d3710"
            ]
          },
          "execution_count": 6,
          "metadata": {},
          "output_type": "execute_result"
        }
      ],
      "source": [
        "IV2SLS.from_formula('outcome ~ 1  + [treatment ~ instrument]',df).fit()"
      ]
    },
    {
      "cell_type": "markdown",
      "id": "740c57f8-8c4c-48ce-b1da-b5b7c9152ea2",
      "metadata": {},
      "source": [
        "# 5. Weak instruments"
      ]
    },
    {
      "cell_type": "code",
      "execution_count": 7,
      "id": "ce9cc385",
      "metadata": {},
      "outputs": [],
      "source": [
        "def generate_data(instrument_impact, n):\n",
        "    confounder = binomial(1, 0.3, n)\n",
        "    instrument = binomial(1, 0.5, n)\n",
        "    treatment = (uniform(0, 1, n) <= instrument_impact*instrument + 0.4*confounder).astype(int)\n",
        "    outcome = 30 + instrument_impact*treatment + 10 * confounder + normal(0, 2, n)\n",
        "\n",
        "    return(DataFrame({\n",
        "        'instrument': instrument,\n",
        "        'treatment': treatment,\n",
        "        'outcome': outcome\n",
        "    }))\n",
        "\n",
        "def estimate_impact(df):\n",
        "    return(cov(df.instrument, df.outcome)[0][1]/cov(df.instrument, df.treatment)[0][1])"
      ]
    },
    {
      "cell_type": "code",
      "execution_count": 8,
      "id": "c0e4d241",
      "metadata": {},
      "outputs": [],
      "source": [
        "sim_n = 1000\n",
        "\n",
        "instrument_impact_1 = 0.3\n",
        "estimates_1 = []\n",
        "for i in range(sim_n):\n",
        "    df = generate_data(instrument_impact_1, n)\n",
        "    estimates_1.append(estimate_impact(df))"
      ]
    },
    {
      "cell_type": "code",
      "execution_count": 9,
      "id": "3c84a6ed",
      "metadata": {},
      "outputs": [],
      "source": [
        "instrument_impact_2 = 0.1\n",
        "estimates_2 = []\n",
        "for i in range(sim_n):\n",
        "    df = generate_data(instrument_impact_2, n)\n",
        "    estimates_2.append(estimate_impact(df))"
      ]
    },
    {
      "cell_type": "code",
      "execution_count": 10,
      "id": "2cbd822c",
      "metadata": {},
      "outputs": [
        {
          "data": {
            "text/plain": [
              "<Axes: xlabel='estimate', ylabel='Density'>"
            ]
          },
          "execution_count": 10,
          "metadata": {},
          "output_type": "execute_result"
        },
        {
          "data": {
            "image/png": "[encoded data removed]",
            "text/plain": [
              "<Figure size 640x480 with 1 Axes>"
            ]
          },
          "metadata": {},
          "output_type": "display_data"
        }
      ],
      "source": [
        "df_plot = DataFrame({\n",
        "    'estimate': estimates_1 + estimates_2,\n",
        "    'instrument_impact': [instrument_impact_1]*n + [instrument_impact_2]*n\n",
        "})\n",
        "kdeplot(data = df_plot, x='estimate', hue='instrument_impact')"
      ]
    },
    {
      "cell_type": "markdown",
      "id": "03e43811-26d9-44ad-96a1-ea4fba5d4540",
      "metadata": {},
      "source": [
        "# 6. DoubleML"
      ]
    },
    {
      "cell_type": "code",
      "execution_count": 11,
      "id": "61b8f5de",
      "metadata": {},
      "outputs": [
        {
          "name": "stdout",
          "output_type": "stream",
          "text": [
            "0.8260480975773862\n"
          ]
        },
        {
          "data": {
            "text/html": [
              "<div>\n",
              "<style scoped>\n",
              "    .dataframe tbody tr th:only-of-type {\n",
              "        vertical-align: middle;\n",
              "    }\n",
              "\n",
              "    .dataframe tbody tr th {\n",
              "        vertical-align: top;\n",
              "    }\n",
              "\n",
              "    .dataframe thead th {\n",
              "        text-align: right;\n",
              "    }\n",
              "</style>\n",
              "<table border=\"1\" class=\"dataframe\">\n",
              "  <thead>\n",
              "    <tr style=\"text-align: right;\">\n",
              "      <th></th>\n",
              "      <th>coef</th>\n",
              "      <th>std err</th>\n",
              "      <th>t</th>\n",
              "      <th>P&gt;|t|</th>\n",
              "      <th>2.5 %</th>\n",
              "      <th>97.5 %</th>\n",
              "    </tr>\n",
              "  </thead>\n",
              "  <tbody>\n",
              "    <tr>\n",
              "      <th>treatment</th>\n",
              "      <td>0.797153</td>\n",
              "      <td>0.646525</td>\n",
              "      <td>1.232981</td>\n",
              "      <td>0.217583</td>\n",
              "      <td>-0.470013</td>\n",
              "      <td>2.064318</td>\n",
              "    </tr>\n",
              "  </tbody>\n",
              "</table>\n",
              "</div>"
            ],
            "text/plain": [
              "               coef   std err         t     P>|t|     2.5 %    97.5 %\n",
              "treatment  0.797153  0.646525  1.232981  0.217583 -0.470013  2.064318"
            ]
          },
          "execution_count": 11,
          "metadata": {},
          "output_type": "execute_result"
        }
      ],
      "source": [
        "n = 10000\n",
        "df = generate_data(0.5, 1000)\n",
        "\n",
        "print(estimate_impact(df))\n",
        "df['x'] = 1\n",
        "\n",
        "ml_g = LinearRegression()\n",
        "ml_m = LogisticRegression(penalty=None)\n",
        "ml_r = LogisticRegression(penalty=None)\n",
        "\n",
        "obj_dml_data = dml.DoubleMLData(df, y_col='outcome', d_cols='treatment', z_cols='instrument')\n",
        "dml_iivm_obj = dml.DoubleMLIIVM(obj_dml_data, ml_g, ml_m, ml_r)\n",
        "dml_iivm_obj.fit().summary"
      ]
    },
    {
      "cell_type": "code",
      "execution_count": 12,
      "id": "cc3151b9",
      "metadata": {},
      "outputs": [
        {
          "data": {
            "text/plain": [
              "0.8260480975773862"
            ]
          },
          "execution_count": 12,
          "metadata": {},
          "output_type": "execute_result"
        }
      ],
      "source": [
        "cov(df.instrument, df.outcome)[0][1] / cov(df.instrument, df.treatment)[0][1]"
      ]
    }
  ],
  "metadata": {
    "kernelspec": {
      "display_name": "Python 3 (ipykernel)",
      "language": "python",
      "name": "python3"
    },
    "language_info": {
      "codemirror_mode": {
        "name": "ipython",
        "version": 3
      },
      "file_extension": ".py",
      "mimetype": "text/x-python",
      "name": "python",
      "nbconvert_exporter": "python",
      "pygments_lexer": "ipython3",
      "version": "3.11.5"
    }
  },
  "nbformat": 4,
  "nbformat_minor": 5
}
