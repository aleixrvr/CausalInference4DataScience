{
  "cells": [
    {
      "cell_type": "markdown",
      "id": "8d30b059-359a-42b1-ab22-33ffba39772a",
      "metadata": {},
      "source": [
        "# Instrumental Variables\n",
        "\n",
        "# 1. Data simulation: a predictor of the outcome"
      ]
    },
    {
      "cell_type": "code",
      "execution_count": 2,
      "id": "7ff54b37",
      "metadata": {},
      "outputs": [],
      "source": [
        "from numpy.random import seed, normal, binomial, uniform\n",
        "from numpy import cov\n",
        "import statsmodels.formula.api as smf\n",
        "from pandas import DataFrame\n",
        "from seaborn import kdeplot\n",
        "import doubleml as dml\n",
        "from sklearn.linear_model import LinearRegression, LogisticRegression\n",
        "from linearmodels.iv.model import IV2SLS\n",
        "\n",
        "seed(1234)\n",
        "\n",
        "n = 1000\n",
        "instrument_impact = 0.7\n",
        "treatment_effect = -2\n",
        "\n",
        "confounder = binomial(1, 0.3, n)\n",
        "instrument = binomial(1, 0.5, n)\n",
        "treatment = (\n",
        "    uniform(0, 1, n) <= instrument_impact * instrument + 0.4 * confounder\n",
        ").astype(int)\n",
        "outcome = 30 + treatment_effect * treatment + 10 * confounder + normal(0, 2, n)\n",
        "\n",
        "df = DataFrame({\"instrument\": instrument, \"treatment\": treatment, \"outcome\": outcome})"
      ]
    },
    {
      "cell_type": "markdown",
      "id": "5728a63c-0cc4-4bc0-93ae-bfc401f48e66",
      "metadata": {},
      "source": [
        "# 2. Naive estimation"
      ]
    },
    {
      "cell_type": "code",
      "execution_count": 3,
      "id": "5e24f7e8",
      "metadata": {},
      "outputs": [
        {
          "data": {
            "text/html": [
              "<table class=\"simpletable\">\n",
              "<caption>OLS Regression Results</caption>\n",
              "<tr>\n",
              "  <th>Dep. Variable:</th>         <td>outcome</td>     <th>  R-squared:         </th> <td>   0.013</td>\n",
              "</tr>\n",
              "<tr>\n",
              "  <th>Model:</th>                   <td>OLS</td>       <th>  Adj. R-squared:    </th> <td>   0.012</td>\n",
              "</tr>\n",
              "<tr>\n",
              "  <th>Method:</th>             <td>Least Squares</td>  <th>  F-statistic:       </th> <td>   13.08</td>\n",
              "</tr>\n",
              "<tr>\n",
              "  <th>Date:</th>             <td>Thu, 20 Jun 2024</td> <th>  Prob (F-statistic):</th> <td>0.000313</td>\n",
              "</tr>\n",
              "<tr>\n",
              "  <th>Time:</th>                 <td>20:18:25</td>     <th>  Log-Likelihood:    </th> <td> -2988.0</td>\n",
              "</tr>\n",
              "<tr>\n",
              "  <th>No. Observations:</th>      <td>  1000</td>      <th>  AIC:               </th> <td>   5980.</td>\n",
              "</tr>\n",
              "<tr>\n",
              "  <th>Df Residuals:</th>          <td>   998</td>      <th>  BIC:               </th> <td>   5990.</td>\n",
              "</tr>\n",
              "<tr>\n",
              "  <th>Df Model:</th>              <td>     1</td>      <th>                     </th>     <td> </td>   \n",
              "</tr>\n",
              "<tr>\n",
              "  <th>Covariance Type:</th>      <td>nonrobust</td>    <th>                     </th>     <td> </td>   \n",
              "</tr>\n",
              "</table>\n",
              "<table class=\"simpletable\">\n",
              "<tr>\n",
              "      <td></td>         <th>coef</th>     <th>std err</th>      <th>t</th>      <th>P>|t|</th>  <th>[0.025</th>    <th>0.975]</th>  \n",
              "</tr>\n",
              "<tr>\n",
              "  <th>Intercept</th> <td>   31.8924</td> <td>    0.202</td> <td>  158.127</td> <td> 0.000</td> <td>   31.497</td> <td>   32.288</td>\n",
              "</tr>\n",
              "<tr>\n",
              "  <th>treatment</th> <td>    1.1099</td> <td>    0.307</td> <td>    3.617</td> <td> 0.000</td> <td>    0.508</td> <td>    1.712</td>\n",
              "</tr>\n",
              "</table>\n",
              "<table class=\"simpletable\">\n",
              "<tr>\n",
              "  <th>Omnibus:</th>       <td>82.111</td> <th>  Durbin-Watson:     </th> <td>   1.840</td>\n",
              "</tr>\n",
              "<tr>\n",
              "  <th>Prob(Omnibus):</th> <td> 0.000</td> <th>  Jarque-Bera (JB):  </th> <td>  61.319</td>\n",
              "</tr>\n",
              "<tr>\n",
              "  <th>Skew:</th>          <td> 0.507</td> <th>  Prob(JB):          </th> <td>4.84e-14</td>\n",
              "</tr>\n",
              "<tr>\n",
              "  <th>Kurtosis:</th>      <td> 2.333</td> <th>  Cond. No.          </th> <td>    2.49</td>\n",
              "</tr>\n",
              "</table><br/><br/>Notes:<br/>[1] Standard Errors assume that the covariance matrix of the errors is correctly specified."
            ],
            "text/latex": [
              "\\begin{center}\n",
              "\\begin{tabular}{lclc}\n",
              "\\toprule\n",
              "\\textbf{Dep. Variable:}    &     outcome      & \\textbf{  R-squared:         } &     0.013   \\\\\n",
              "\\textbf{Model:}            &       OLS        & \\textbf{  Adj. R-squared:    } &     0.012   \\\\\n",
              "\\textbf{Method:}           &  Least Squares   & \\textbf{  F-statistic:       } &     13.08   \\\\\n",
              "\\textbf{Date:}             & Thu, 20 Jun 2024 & \\textbf{  Prob (F-statistic):} &  0.000313   \\\\\n",
              "\\textbf{Time:}             &     20:18:25     & \\textbf{  Log-Likelihood:    } &   -2988.0   \\\\\n",
              "\\textbf{No. Observations:} &        1000      & \\textbf{  AIC:               } &     5980.   \\\\\n",
              "\\textbf{Df Residuals:}     &         998      & \\textbf{  BIC:               } &     5990.   \\\\\n",
              "\\textbf{Df Model:}         &           1      & \\textbf{                     } &             \\\\\n",
              "\\textbf{Covariance Type:}  &    nonrobust     & \\textbf{                     } &             \\\\\n",
              "\\bottomrule\n",
              "\\end{tabular}\n",
              "\\begin{tabular}{lcccccc}\n",
              "                   & \\textbf{coef} & \\textbf{std err} & \\textbf{t} & \\textbf{P$> |$t$|$} & \\textbf{[0.025} & \\textbf{0.975]}  \\\\\n",
              "\\midrule\n",
              "\\textbf{Intercept} &      31.8924  &        0.202     &   158.127  &         0.000        &       31.497    &       32.288     \\\\\n",
              "\\textbf{treatment} &       1.1099  &        0.307     &     3.617  &         0.000        &        0.508    &        1.712     \\\\\n",
              "\\bottomrule\n",
              "\\end{tabular}\n",
              "\\begin{tabular}{lclc}\n",
              "\\textbf{Omnibus:}       & 82.111 & \\textbf{  Durbin-Watson:     } &    1.840  \\\\\n",
              "\\textbf{Prob(Omnibus):} &  0.000 & \\textbf{  Jarque-Bera (JB):  } &   61.319  \\\\\n",
              "\\textbf{Skew:}          &  0.507 & \\textbf{  Prob(JB):          } & 4.84e-14  \\\\\n",
              "\\textbf{Kurtosis:}      &  2.333 & \\textbf{  Cond. No.          } &     2.49  \\\\\n",
              "\\bottomrule\n",
              "\\end{tabular}\n",
              "%\\caption{OLS Regression Results}\n",
              "\\end{center}\n",
              "\n",
              "Notes: \\newline\n",
              " [1] Standard Errors assume that the covariance matrix of the errors is correctly specified."
            ],
            "text/plain": [
              "<class 'statsmodels.iolib.summary.Summary'>\n",
              "\"\"\"\n",
              "                            OLS Regression Results                            \n",
              "==============================================================================\n",
              "Dep. Variable:                outcome   R-squared:                       0.013\n",
              "Model:                            OLS   Adj. R-squared:                  0.012\n",
              "Method:                 Least Squares   F-statistic:                     13.08\n",
              "Date:                Thu, 20 Jun 2024   Prob (F-statistic):           0.000313\n",
              "Time:                        20:18:25   Log-Likelihood:                -2988.0\n",
              "No. Observations:                1000   AIC:                             5980.\n",
              "Df Residuals:                     998   BIC:                             5990.\n",
              "Df Model:                           1                                         \n",
              "Covariance Type:            nonrobust                                         \n",
              "==============================================================================\n",
              "                 coef    std err          t      P>|t|      [0.025      0.975]\n",
              "------------------------------------------------------------------------------\n",
              "Intercept     31.8924      0.202    158.127      0.000      31.497      32.288\n",
              "treatment      1.1099      0.307      3.617      0.000       0.508       1.712\n",
              "==============================================================================\n",
              "Omnibus:                       82.111   Durbin-Watson:                   1.840\n",
              "Prob(Omnibus):                  0.000   Jarque-Bera (JB):               61.319\n",
              "Skew:                           0.507   Prob(JB):                     4.84e-14\n",
              "Kurtosis:                       2.333   Cond. No.                         2.49\n",
              "==============================================================================\n",
              "\n",
              "Notes:\n",
              "[1] Standard Errors assume that the covariance matrix of the errors is correctly specified.\n",
              "\"\"\""
            ]
          },
          "execution_count": 3,
          "metadata": {},
          "output_type": "execute_result"
        }
      ],
      "source": [
        "smf.ols(formula=\"outcome ~ treatment\", data=df).fit().summary()"
      ]
    },
    {
      "cell_type": "code",
      "execution_count": 4,
      "id": "e674cc16",
      "metadata": {},
      "outputs": [
        {
          "name": "stdout",
          "output_type": "stream",
          "text": [
            "1.1099472942084532\n"
          ]
        }
      ],
      "source": [
        "outcome_1 = df[df.treatment==1].outcome.mean()\n",
        "outcome_0 = df[df.treatment==0].outcome.mean()\n",
        "print(outcome_1 - outcome_0)"
      ]
    },
    {
      "cell_type": "markdown",
      "id": "b4efa122-5ea3-4bbd-a753-8d5d1dac623a",
      "metadata": {},
      "source": [
        "# 3. IV estimation"
      ]
    },
    {
      "cell_type": "code",
      "execution_count": 5,
      "id": "19e1f042",
      "metadata": {},
      "outputs": [
        {
          "data": {
            "text/plain": [
              "-1.9520210682409935"
            ]
          },
          "execution_count": 5,
          "metadata": {},
          "output_type": "execute_result"
        }
      ],
      "source": [
        "cov(instrument, outcome)[0][1]/cov(instrument, treatment)[0][1]"
      ]
    },
    {
      "cell_type": "markdown",
      "id": "79463c21-8692-4904-b056-3bebd93ec8da",
      "metadata": {},
      "source": [
        "# 4. Two-Stage Least Squares Estimation"
      ]
    },
    {
      "cell_type": "code",
      "execution_count": 6,
      "id": "0b3de9cf",
      "metadata": {},
      "outputs": [
        {
          "data": {
            "text/html": [
              "<table class=\"simpletable\">\n",
              "<caption>OLS Regression Results</caption>\n",
              "<tr>\n",
              "  <th>Dep. Variable:</th>         <td>outcome</td>     <th>  R-squared:         </th> <td>   0.017</td>\n",
              "</tr>\n",
              "<tr>\n",
              "  <th>Model:</th>                   <td>OLS</td>       <th>  Adj. R-squared:    </th> <td>   0.016</td>\n",
              "</tr>\n",
              "<tr>\n",
              "  <th>Method:</th>             <td>Least Squares</td>  <th>  F-statistic:       </th> <td>   17.70</td>\n",
              "</tr>\n",
              "<tr>\n",
              "  <th>Date:</th>             <td>Thu, 20 Jun 2024</td> <th>  Prob (F-statistic):</th> <td>2.82e-05</td>\n",
              "</tr>\n",
              "<tr>\n",
              "  <th>Time:</th>                 <td>20:18:25</td>     <th>  Log-Likelihood:    </th> <td> -2985.7</td>\n",
              "</tr>\n",
              "<tr>\n",
              "  <th>No. Observations:</th>      <td>  1000</td>      <th>  AIC:               </th> <td>   5975.</td>\n",
              "</tr>\n",
              "<tr>\n",
              "  <th>Df Residuals:</th>          <td>   998</td>      <th>  BIC:               </th> <td>   5985.</td>\n",
              "</tr>\n",
              "<tr>\n",
              "  <th>Df Model:</th>              <td>     1</td>      <th>                     </th>     <td> </td>   \n",
              "</tr>\n",
              "<tr>\n",
              "  <th>Covariance Type:</th>      <td>nonrobust</td>    <th>                     </th>     <td> </td>   \n",
              "</tr>\n",
              "</table>\n",
              "<table class=\"simpletable\">\n",
              "<tr>\n",
              "            <td></td>              <th>coef</th>     <th>std err</th>      <th>t</th>      <th>P>|t|</th>  <th>[0.025</th>    <th>0.975]</th>  \n",
              "</tr>\n",
              "<tr>\n",
              "  <th>Intercept</th>            <td>   33.2152</td> <td>    0.251</td> <td>  132.151</td> <td> 0.000</td> <td>   32.722</td> <td>   33.708</td>\n",
              "</tr>\n",
              "<tr>\n",
              "  <th>treatment_prediction</th> <td>   -1.9520</td> <td>    0.464</td> <td>   -4.207</td> <td> 0.000</td> <td>   -2.862</td> <td>   -1.042</td>\n",
              "</tr>\n",
              "</table>\n",
              "<table class=\"simpletable\">\n",
              "<tr>\n",
              "  <th>Omnibus:</th>       <td>172.446</td> <th>  Durbin-Watson:     </th> <td>   1.859</td>\n",
              "</tr>\n",
              "<tr>\n",
              "  <th>Prob(Omnibus):</th> <td> 0.000</td>  <th>  Jarque-Bera (JB):  </th> <td>  91.623</td>\n",
              "</tr>\n",
              "<tr>\n",
              "  <th>Skew:</th>          <td> 0.595</td>  <th>  Prob(JB):          </th> <td>1.27e-20</td>\n",
              "</tr>\n",
              "<tr>\n",
              "  <th>Kurtosis:</th>      <td> 2.116</td>  <th>  Cond. No.          </th> <td>    3.69</td>\n",
              "</tr>\n",
              "</table><br/><br/>Notes:<br/>[1] Standard Errors assume that the covariance matrix of the errors is correctly specified."
            ],
            "text/latex": [
              "\\begin{center}\n",
              "\\begin{tabular}{lclc}\n",
              "\\toprule\n",
              "\\textbf{Dep. Variable:}        &     outcome      & \\textbf{  R-squared:         } &     0.017   \\\\\n",
              "\\textbf{Model:}                &       OLS        & \\textbf{  Adj. R-squared:    } &     0.016   \\\\\n",
              "\\textbf{Method:}               &  Least Squares   & \\textbf{  F-statistic:       } &     17.70   \\\\\n",
              "\\textbf{Date:}                 & Thu, 20 Jun 2024 & \\textbf{  Prob (F-statistic):} &  2.82e-05   \\\\\n",
              "\\textbf{Time:}                 &     20:18:25     & \\textbf{  Log-Likelihood:    } &   -2985.7   \\\\\n",
              "\\textbf{No. Observations:}     &        1000      & \\textbf{  AIC:               } &     5975.   \\\\\n",
              "\\textbf{Df Residuals:}         &         998      & \\textbf{  BIC:               } &     5985.   \\\\\n",
              "\\textbf{Df Model:}             &           1      & \\textbf{                     } &             \\\\\n",
              "\\textbf{Covariance Type:}      &    nonrobust     & \\textbf{                     } &             \\\\\n",
              "\\bottomrule\n",
              "\\end{tabular}\n",
              "\\begin{tabular}{lcccccc}\n",
              "                               & \\textbf{coef} & \\textbf{std err} & \\textbf{t} & \\textbf{P$> |$t$|$} & \\textbf{[0.025} & \\textbf{0.975]}  \\\\\n",
              "\\midrule\n",
              "\\textbf{Intercept}             &      33.2152  &        0.251     &   132.151  &         0.000        &       32.722    &       33.708     \\\\\n",
              "\\textbf{treatment\\_prediction} &      -1.9520  &        0.464     &    -4.207  &         0.000        &       -2.862    &       -1.042     \\\\\n",
              "\\bottomrule\n",
              "\\end{tabular}\n",
              "\\begin{tabular}{lclc}\n",
              "\\textbf{Omnibus:}       & 172.446 & \\textbf{  Durbin-Watson:     } &    1.859  \\\\\n",
              "\\textbf{Prob(Omnibus):} &   0.000 & \\textbf{  Jarque-Bera (JB):  } &   91.623  \\\\\n",
              "\\textbf{Skew:}          &   0.595 & \\textbf{  Prob(JB):          } & 1.27e-20  \\\\\n",
              "\\textbf{Kurtosis:}      &   2.116 & \\textbf{  Cond. No.          } &     3.69  \\\\\n",
              "\\bottomrule\n",
              "\\end{tabular}\n",
              "%\\caption{OLS Regression Results}\n",
              "\\end{center}\n",
              "\n",
              "Notes: \\newline\n",
              " [1] Standard Errors assume that the covariance matrix of the errors is correctly specified."
            ],
            "text/plain": [
              "<class 'statsmodels.iolib.summary.Summary'>\n",
              "\"\"\"\n",
              "                            OLS Regression Results                            \n",
              "==============================================================================\n",
              "Dep. Variable:                outcome   R-squared:                       0.017\n",
              "Model:                            OLS   Adj. R-squared:                  0.016\n",
              "Method:                 Least Squares   F-statistic:                     17.70\n",
              "Date:                Thu, 20 Jun 2024   Prob (F-statistic):           2.82e-05\n",
              "Time:                        20:18:25   Log-Likelihood:                -2985.7\n",
              "No. Observations:                1000   AIC:                             5975.\n",
              "Df Residuals:                     998   BIC:                             5985.\n",
              "Df Model:                           1                                         \n",
              "Covariance Type:            nonrobust                                         \n",
              "========================================================================================\n",
              "                           coef    std err          t      P>|t|      [0.025      0.975]\n",
              "----------------------------------------------------------------------------------------\n",
              "Intercept               33.2152      0.251    132.151      0.000      32.722      33.708\n",
              "treatment_prediction    -1.9520      0.464     -4.207      0.000      -2.862      -1.042\n",
              "==============================================================================\n",
              "Omnibus:                      172.446   Durbin-Watson:                   1.859\n",
              "Prob(Omnibus):                  0.000   Jarque-Bera (JB):               91.623\n",
              "Skew:                           0.595   Prob(JB):                     1.27e-20\n",
              "Kurtosis:                       2.116   Cond. No.                         3.69\n",
              "==============================================================================\n",
              "\n",
              "Notes:\n",
              "[1] Standard Errors assume that the covariance matrix of the errors is correctly specified.\n",
              "\"\"\""
            ]
          },
          "execution_count": 6,
          "metadata": {},
          "output_type": "execute_result"
        }
      ],
      "source": [
        "model = smf.ols(formula='treatment ~ instrument', data=df).fit()\n",
        "df['treatment_prediction'] = model.predict(df)\n",
        "\n",
        "smf.ols(formula='outcome ~ treatment_prediction', data=df).fit().summary()"
      ]
    },
    {
      "cell_type": "code",
      "execution_count": 7,
      "id": "f2d8cf12",
      "metadata": {},
      "outputs": [
        {
          "data": {
            "text/html": [
              "<table class=\"simpletable\">\n",
              "<caption>IV-2SLS Estimation Summary</caption>\n",
              "<tr>\n",
              "  <th>Dep. Variable:</th>         <td>outcome</td>     <th>  R-squared:         </th> <td>-0.0855</td>\n",
              "</tr>\n",
              "<tr>\n",
              "  <th>Estimator:</th>             <td>IV-2SLS</td>     <th>  Adj. R-squared:    </th> <td>-0.0866</td>\n",
              "</tr>\n",
              "<tr>\n",
              "  <th>No. Observations:</th>       <td>1000</td>       <th>  F-statistic:       </th> <td>16.039</td> \n",
              "</tr>\n",
              "<tr>\n",
              "  <th>Date:</th>             <td>Thu, Jun 20 2024</td> <th>  P-value (F-stat)   </th> <td>0.0001</td> \n",
              "</tr>\n",
              "<tr>\n",
              "  <th>Time:</th>                 <td>20:18:25</td>     <th>  Distribution:      </th> <td>chi2(1)</td>\n",
              "</tr>\n",
              "<tr>\n",
              "  <th>Cov. Estimator:</th>        <td>robust</td>      <th>                     </th>    <td></td>    \n",
              "</tr>\n",
              "<tr>\n",
              "  <th></th>                          <td></td>         <th>                     </th>    <td></td>    \n",
              "</tr>\n",
              "</table>\n",
              "<table class=\"simpletable\">\n",
              "<caption>Parameter Estimates</caption>\n",
              "<tr>\n",
              "      <td></td>      <th>Parameter</th> <th>Std. Err.</th> <th>T-stat</th>  <th>P-value</th> <th>Lower CI</th> <th>Upper CI</th>\n",
              "</tr>\n",
              "<tr>\n",
              "  <th>Intercept</th>  <td>33.215</td>    <td>0.2622</td>   <td>126.67</td>  <td>0.0000</td>   <td>32.701</td>   <td>33.729</td> \n",
              "</tr>\n",
              "<tr>\n",
              "  <th>treatment</th>  <td>-1.9520</td>   <td>0.4874</td>   <td>-4.0049</td> <td>0.0001</td>   <td>-2.9073</td>  <td>-0.9967</td>\n",
              "</tr>\n",
              "</table><br/><br/>Endogenous: treatment<br/>Instruments: instrument<br/>Robust Covariance (Heteroskedastic)<br/>Debiased: False<br/>id: 0x2922a46d0"
            ],
            "text/plain": [
              "                          IV-2SLS Estimation Summary                          \n",
              "==============================================================================\n",
              "Dep. Variable:                outcome   R-squared:                     -0.0855\n",
              "Estimator:                    IV-2SLS   Adj. R-squared:                -0.0866\n",
              "No. Observations:                1000   F-statistic:                    16.039\n",
              "Date:                Thu, Jun 20 2024   P-value (F-stat)                0.0001\n",
              "Time:                        20:18:25   Distribution:                  chi2(1)\n",
              "Cov. Estimator:                robust                                         \n",
              "                                                                              \n",
              "                             Parameter Estimates                              \n",
              "==============================================================================\n",
              "            Parameter  Std. Err.     T-stat    P-value    Lower CI    Upper CI\n",
              "------------------------------------------------------------------------------\n",
              "Intercept      33.215     0.2622     126.67     0.0000      32.701      33.729\n",
              "treatment     -1.9520     0.4874    -4.0049     0.0001     -2.9073     -0.9967\n",
              "==============================================================================\n",
              "\n",
              "Endogenous: treatment\n",
              "Instruments: instrument\n",
              "Robust Covariance (Heteroskedastic)\n",
              "Debiased: False\n",
              "IVResults, id: 0x2922a46d0"
            ]
          },
          "execution_count": 7,
          "metadata": {},
          "output_type": "execute_result"
        }
      ],
      "source": [
        "IV2SLS.from_formula('outcome ~ 1  + [treatment ~ instrument]',df).fit()"
      ]
    },
    {
      "cell_type": "markdown",
      "id": "740c57f8-8c4c-48ce-b1da-b5b7c9152ea2",
      "metadata": {},
      "source": [
        "# 5. Weak instruments"
      ]
    },
    {
      "cell_type": "code",
      "execution_count": 8,
      "id": "ce9cc385",
      "metadata": {},
      "outputs": [],
      "source": [
        "def generate_data(instrument_impact, n):\n",
        "    confounder = binomial(1, 0.3, n)\n",
        "    instrument = binomial(1, 0.5, n)\n",
        "    treatment = (uniform(0, 1, n) <= instrument_impact*instrument + 0.4*confounder).astype(int)\n",
        "    outcome = 30 + instrument_impact*treatment + 10 * confounder + normal(0, 2, n)\n",
        "\n",
        "    return(DataFrame({\n",
        "        'instrument': instrument,\n",
        "        'treatment': treatment,\n",
        "        'outcome': outcome\n",
        "    }))\n",
        "\n",
        "def estimate_impact(df):\n",
        "    return(cov(df.instrument, df.outcome)[0][1]/cov(df.instrument, df.treatment)[0][1])"
      ]
    },
    {
      "cell_type": "code",
      "execution_count": 9,
      "id": "c0e4d241",
      "metadata": {},
      "outputs": [],
      "source": [
        "sim_n = 1000\n",
        "\n",
        "instrument_impact_1 = 0.3\n",
        "estimates_1 = []\n",
        "for i in range(sim_n):\n",
        "    df = generate_data(instrument_impact_1, n)\n",
        "    estimates_1.append(estimate_impact(df))"
      ]
    },
    {
      "cell_type": "code",
      "execution_count": 10,
      "id": "3c84a6ed",
      "metadata": {},
      "outputs": [],
      "source": [
        "instrument_impact_2 = 0.1\n",
        "estimates_2 = []\n",
        "for i in range(sim_n):\n",
        "    df = generate_data(instrument_impact_2, n)\n",
        "    estimates_2.append(estimate_impact(df))"
      ]
    },
    {
      "cell_type": "code",
      "execution_count": 11,
      "id": "2cbd822c",
      "metadata": {},
      "outputs": [
        {
          "name": "stderr",
          "output_type": "stream",
          "text": [
            "/opt/anaconda3/envs/env/lib/python3.11/site-packages/seaborn/_oldcore.py:1119: FutureWarning: use_inf_as_na option is deprecated and will be removed in a future version. Convert inf values to NaN before operating instead.\n",
            "  with pd.option_context('mode.use_inf_as_na', True):\n",
            "/opt/anaconda3/envs/env/lib/python3.11/site-packages/seaborn/_oldcore.py:1075: FutureWarning: When grouping with a length-1 list-like, you will need to pass a length-1 tuple to get_group in a future version of pandas. Pass `(name,)` instead of `name` to silence this warning.\n",
            "  data_subset = grouped_data.get_group(pd_key)\n",
            "/opt/anaconda3/envs/env/lib/python3.11/site-packages/seaborn/_oldcore.py:1075: FutureWarning: When grouping with a length-1 list-like, you will need to pass a length-1 tuple to get_group in a future version of pandas. Pass `(name,)` instead of `name` to silence this warning.\n",
            "  data_subset = grouped_data.get_group(pd_key)\n"
          ]
        },
        {
          "data": {
            "text/plain": [
              "<Axes: xlabel='estimate', ylabel='Density'>"
            ]
          },
          "execution_count": 11,
          "metadata": {},
          "output_type": "execute_result"
        },
        {
          "data": {
            "image/png": "[encoded data removed]",
            "text/plain": [
              "<Figure size 640x480 with 1 Axes>"
            ]
          },
          "metadata": {},
          "output_type": "display_data"
        }
      ],
      "source": [
        "df_plot = DataFrame({\n",
        "    'estimate': estimates_1 + estimates_2,\n",
        "    'instrument_impact': [instrument_impact_1]*n + [instrument_impact_2]*n\n",
        "})\n",
        "kdeplot(data = df_plot, x='estimate', hue='instrument_impact')"
      ]
    },
    {
      "cell_type": "markdown",
      "id": "03e43811-26d9-44ad-96a1-ea4fba5d4540",
      "metadata": {},
      "source": [
        "# 6. DoubleML"
      ]
    },
    {
      "cell_type": "code",
      "execution_count": 12,
      "id": "61b8f5de",
      "metadata": {},
      "outputs": [
        {
          "name": "stdout",
          "output_type": "stream",
          "text": [
            "-0.04609791728872278\n"
          ]
        },
        {
          "data": {
            "text/html": [
              "<div>\n",
              "<style scoped>\n",
              "    .dataframe tbody tr th:only-of-type {\n",
              "        vertical-align: middle;\n",
              "    }\n",
              "\n",
              "    .dataframe tbody tr th {\n",
              "        vertical-align: top;\n",
              "    }\n",
              "\n",
              "    .dataframe thead th {\n",
              "        text-align: right;\n",
              "    }\n",
              "</style>\n",
              "<table border=\"1\" class=\"dataframe\">\n",
              "  <thead>\n",
              "    <tr style=\"text-align: right;\">\n",
              "      <th></th>\n",
              "      <th>coef</th>\n",
              "      <th>std err</th>\n",
              "      <th>t</th>\n",
              "      <th>P&gt;|t|</th>\n",
              "      <th>2.5 %</th>\n",
              "      <th>97.5 %</th>\n",
              "    </tr>\n",
              "  </thead>\n",
              "  <tbody>\n",
              "    <tr>\n",
              "      <th>treatment</th>\n",
              "      <td>-0.046359</td>\n",
              "      <td>0.606106</td>\n",
              "      <td>-0.076487</td>\n",
              "      <td>0.939032</td>\n",
              "      <td>-1.234304</td>\n",
              "      <td>1.141586</td>\n",
              "    </tr>\n",
              "  </tbody>\n",
              "</table>\n",
              "</div>"
            ],
            "text/plain": [
              "               coef   std err         t     P>|t|     2.5 %    97.5 %\n",
              "treatment -0.046359  0.606106 -0.076487  0.939032 -1.234304  1.141586"
            ]
          },
          "execution_count": 12,
          "metadata": {},
          "output_type": "execute_result"
        }
      ],
      "source": [
        "n = 10000\n",
        "df = generate_data(0.5, 1000)\n",
        "\n",
        "print(estimate_impact(df))\n",
        "df['x'] = 1\n",
        "\n",
        "ml_g = LinearRegression()\n",
        "ml_m = LogisticRegression(penalty=None)\n",
        "ml_r = LogisticRegression(penalty=None)\n",
        "\n",
        "obj_dml_data = dml.DoubleMLData(df, y_col='outcome', d_cols='treatment', z_cols='instrument')\n",
        "dml_iivm_obj = dml.DoubleMLIIVM(obj_dml_data, ml_g, ml_m, ml_r)\n",
        "dml_iivm_obj.fit().summary"
      ]
    },
    {
      "cell_type": "code",
      "execution_count": 13,
      "id": "cc3151b9",
      "metadata": {},
      "outputs": [
        {
          "data": {
            "text/plain": [
              "-0.04609791728872278"
            ]
          },
          "execution_count": 13,
          "metadata": {},
          "output_type": "execute_result"
        }
      ],
      "source": [
        "cov(df.instrument, df.outcome)[0][1] / cov(df.instrument, df.treatment)[0][1]"
      ]
    }
  ],
  "metadata": {
    "kernelspec": {
      "display_name": "Python 3 (ipykernel)",
      "language": "python",
      "name": "python3"
    },
    "language_info": {
      "codemirror_mode": {
        "name": "ipython",
        "version": 3
      },
      "file_extension": ".py",
      "mimetype": "text/x-python",
      "name": "python",
      "nbconvert_exporter": "python",
      "pygments_lexer": "ipython3",
      "version": "3.11.9"
    }
  },
  "nbformat": 4,
  "nbformat_minor": 5
}
