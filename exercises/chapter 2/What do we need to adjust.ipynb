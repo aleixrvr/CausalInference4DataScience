{
 "cells": [
  {
   "cell_type": "code",
   "execution_count": 2,
   "id": "49f6f0fd",
   "metadata": {},
   "outputs": [],
   "source": [
    "from numpy.random import binomial, normal, seed\n",
    "from numpy import mean, unique"
   ]
  },
  {
   "cell_type": "markdown",
   "id": "73f1ae8d",
   "metadata": {},
   "source": [
    "# RCT or A/B TEST"
   ]
  },
  {
   "cell_type": "markdown",
   "id": "6d24c12b",
   "metadata": {},
   "source": [
    "## Data Simulation"
   ]
  },
  {
   "cell_type": "code",
   "execution_count": 3,
   "id": "4c9d608b",
   "metadata": {},
   "outputs": [],
   "source": [
    "seed(1234)\n",
    "n = 10000\n",
    "treatment = binomial(1, 0.5, size=n)\n",
    "outcome = binomial(1, 0.3, size=n)*treatment + binomial(1, 0.5, size=n)*(1-treatment)"
   ]
  },
  {
   "cell_type": "markdown",
   "id": "21ffa19f",
   "metadata": {},
   "source": [
    "## Results"
   ]
  },
  {
   "cell_type": "markdown",
   "id": "60be40ef",
   "metadata": {},
   "source": [
    "P(O=1|T=1)−P(O=1|T=0)"
   ]
  },
  {
   "cell_type": "code",
   "execution_count": 4,
   "id": "75ea4a61",
   "metadata": {},
   "outputs": [
    {
     "name": "stdout",
     "output_type": "stream",
     "text": [
      "-0.1810218929047634\n"
     ]
    }
   ],
   "source": [
    "condition_prob_diff = mean(outcome[treatment==1]) - mean(outcome[treatment==0])\n",
    "print(condition_prob_diff)"
   ]
  },
  {
   "cell_type": "markdown",
   "id": "a5f5ae2e",
   "metadata": {},
   "source": [
    "adjustment(1)−adjustment(0)  doesn’t apply"
   ]
  },
  {
   "cell_type": "markdown",
   "id": "13e109d4",
   "metadata": {},
   "source": [
    "ATE = 0.3 - 0.5 = -0.2"
   ]
  },
  {
   "cell_type": "markdown",
   "id": "25266ef5",
   "metadata": {},
   "source": [
    "$\\hat ATE$ =P(O=1|do(T=1))−P(O=1|do(T=0))  "
   ]
  },
  {
   "cell_type": "code",
   "execution_count": 5,
   "id": "517f090f",
   "metadata": {
    "scrolled": true
   },
   "outputs": [
    {
     "name": "stdout",
     "output_type": "stream",
     "text": [
      "-0.1810218929047634\n"
     ]
    }
   ],
   "source": [
    "print(condition_prob_diff)"
   ]
  },
  {
   "cell_type": "markdown",
   "id": "50a7989f",
   "metadata": {},
   "source": [
    "# CONFOUNDER"
   ]
  },
  {
   "cell_type": "markdown",
   "id": "2fbc05fe",
   "metadata": {},
   "source": [
    "## Data Simulation"
   ]
  },
  {
   "cell_type": "code",
   "execution_count": 6,
   "id": "89e8b63f",
   "metadata": {},
   "outputs": [],
   "source": [
    "seed(1234)\n",
    "n = 10000\n",
    "confounder = binomial(1, 0.8, size=n)\n",
    "treatment = binomial(1, 0.6, size=n)*confounder + binomial(1, 0.2, size=n)*(1-confounder)\n",
    "outcome = binomial(1, 0.3, size=n)*treatment + binomial(1, 0.5, size=n)*(1-treatment) + confounder + normal(size=n)"
   ]
  },
  {
   "cell_type": "markdown",
   "id": "a7f91d32",
   "metadata": {},
   "source": [
    "### Adjustment Formula"
   ]
  },
  {
   "cell_type": "code",
   "execution_count": 7,
   "id": "bb975bbc",
   "metadata": {},
   "outputs": [],
   "source": [
    "def adjustment(t, o, z, t0):\n",
    "    ind_t0 = t == t0\n",
    "    z_values = unique(z)\n",
    "\n",
    "    adjusted_prob = 0\n",
    "    for z_ in z_values:\n",
    "        ind_z_ = z == z_\n",
    "        ind = ind_t0 & ind_z_\n",
    "        adjusted_prob = adjusted_prob + mean(o[ind])*mean(ind_z_)\n",
    "    return(adjusted_prob)"
   ]
  },
  {
   "cell_type": "markdown",
   "id": "cc142206",
   "metadata": {},
   "source": [
    "## Results"
   ]
  },
  {
   "cell_type": "markdown",
   "id": "a25bdc36",
   "metadata": {},
   "source": [
    "P(O=1|T=1)−P(O=1|T=0)"
   ]
  },
  {
   "cell_type": "code",
   "execution_count": 8,
   "id": "1b999cb9",
   "metadata": {},
   "outputs": [
    {
     "name": "stdout",
     "output_type": "stream",
     "text": [
      "0.02107032530615749\n"
     ]
    }
   ],
   "source": [
    "condition_prob_diff = mean(outcome[treatment==1]) - mean(outcome[treatment==0])\n",
    "print(condition_prob_diff)"
   ]
  },
  {
   "cell_type": "markdown",
   "id": "413092cd",
   "metadata": {},
   "source": [
    "adjustment(1)−adjustment(0)"
   ]
  },
  {
   "cell_type": "code",
   "execution_count": 9,
   "id": "de31752c",
   "metadata": {},
   "outputs": [
    {
     "name": "stdout",
     "output_type": "stream",
     "text": [
      "-0.21901378090633217\n"
     ]
    }
   ],
   "source": [
    "adj_result = adjustment(treatment, outcome, confounder, 1) - adjustment(treatment, outcome, confounder, 0)\n",
    "print(adj_result)"
   ]
  },
  {
   "cell_type": "markdown",
   "id": "3e7ba94b",
   "metadata": {},
   "source": [
    "ATE = 0.3 - 0.5 = -0.2"
   ]
  },
  {
   "cell_type": "markdown",
   "id": "0aa8ddd8",
   "metadata": {},
   "source": [
    "$\\hat ATE$ =P(O=1|do(T=1))−P(O=1|do(T=0))  "
   ]
  },
  {
   "cell_type": "code",
   "execution_count": 10,
   "id": "08ddd05f",
   "metadata": {
    "scrolled": false
   },
   "outputs": [
    {
     "name": "stdout",
     "output_type": "stream",
     "text": [
      "-0.21901378090633217\n"
     ]
    }
   ],
   "source": [
    "print(adj_result)"
   ]
  },
  {
   "cell_type": "markdown",
   "id": "cd5785a8",
   "metadata": {},
   "source": [
    "# MEDIATOR"
   ]
  },
  {
   "cell_type": "markdown",
   "id": "d725a20a",
   "metadata": {},
   "source": [
    "## Data Simulation"
   ]
  },
  {
   "cell_type": "code",
   "execution_count": 23,
   "id": "45946b37",
   "metadata": {},
   "outputs": [],
   "source": [
    "seed(1234)\n",
    "n = 10000\n",
    "\n",
    "treatment = binomial(1, 0.4, size=n)\n",
    "mediator = binomial(1, 0.6, size=n)*treatment + binomial(1, 0.2, size=n)*(1-treatment)\n",
    "outcome = binomial(1, 0.4, size=n)*treatment + binomial(1, 0.5, size=n)*(1-treatment) + mediator + normal(size=n)"
   ]
  },
  {
   "cell_type": "markdown",
   "id": "7e953378",
   "metadata": {},
   "source": [
    "## Results"
   ]
  },
  {
   "cell_type": "markdown",
   "id": "bb50d769",
   "metadata": {},
   "source": [
    "P(O=1|T=1)−P(O=1|T=0)"
   ]
  },
  {
   "cell_type": "code",
   "execution_count": 24,
   "id": "f0e3bc75",
   "metadata": {},
   "outputs": [
    {
     "name": "stdout",
     "output_type": "stream",
     "text": [
      "0.29470156607738807\n"
     ]
    }
   ],
   "source": [
    "condition_prob_diff = mean(outcome[treatment==1]) - mean(outcome[treatment==0])\n",
    "print(condition_prob_diff)"
   ]
  },
  {
   "cell_type": "markdown",
   "id": "6893e350",
   "metadata": {},
   "source": [
    "adjustment(1)−adjustment(0)"
   ]
  },
  {
   "cell_type": "code",
   "execution_count": 25,
   "id": "37e4f5fa",
   "metadata": {},
   "outputs": [
    {
     "name": "stdout",
     "output_type": "stream",
     "text": [
      "-0.10511006573608273\n"
     ]
    }
   ],
   "source": [
    "adj_result = adjustment(treatment, outcome, mediator, 1) - adjustment(treatment, outcome, mediator, 0)\n",
    "print(adj_result)"
   ]
  },
  {
   "cell_type": "markdown",
   "id": "a9a5bb85",
   "metadata": {},
   "source": [
    "ATE = (0.6 + 0.4) - (0.2 + 0.5) = 0.3"
   ]
  },
  {
   "cell_type": "markdown",
   "id": "88a399e9",
   "metadata": {},
   "source": [
    "$\\hat ATE$ =P(O=1|do(T=1))−P(O=1|do(T=0))  "
   ]
  },
  {
   "cell_type": "code",
   "execution_count": 26,
   "id": "ebc0a150",
   "metadata": {
    "scrolled": false
   },
   "outputs": [
    {
     "name": "stdout",
     "output_type": "stream",
     "text": [
      "0.29470156607738807\n"
     ]
    }
   ],
   "source": [
    "print(condition_prob_diff)"
   ]
  },
  {
   "cell_type": "markdown",
   "id": "de7d2df6",
   "metadata": {},
   "source": [
    "# PREDICTOR"
   ]
  },
  {
   "cell_type": "markdown",
   "id": "3907aaf6",
   "metadata": {},
   "source": [
    "## Data Simulation"
   ]
  },
  {
   "cell_type": "code",
   "execution_count": 27,
   "id": "9265d665",
   "metadata": {},
   "outputs": [],
   "source": [
    "seed(1234)\n",
    "n = 10000\n",
    "\n",
    "treatment = binomial(1, 0.4, size=n)\n",
    "predictor = binomial(1, 0.4, size=n)\n",
    "outcome = binomial(1, 0.4, size=n)*treatment + binomial(1, 0.5, size=n)*(1-treatment) + predictor + normal(size=n)"
   ]
  },
  {
   "cell_type": "markdown",
   "id": "6245aed9",
   "metadata": {},
   "source": [
    "## Results"
   ]
  },
  {
   "cell_type": "markdown",
   "id": "134a4ee2",
   "metadata": {},
   "source": [
    "P(O=1|T=1)−P(O=1|T=0)"
   ]
  },
  {
   "cell_type": "code",
   "execution_count": 28,
   "id": "06a7177c",
   "metadata": {},
   "outputs": [
    {
     "name": "stdout",
     "output_type": "stream",
     "text": [
      "-0.07386507504710504\n"
     ]
    }
   ],
   "source": [
    "condition_prob_diff = mean(outcome[treatment==1]) - mean(outcome[treatment==0])\n",
    "print(condition_prob_diff)"
   ]
  },
  {
   "cell_type": "markdown",
   "id": "4abe2947",
   "metadata": {},
   "source": [
    "adjustment(1)−adjustment(0)"
   ]
  },
  {
   "cell_type": "code",
   "execution_count": 29,
   "id": "10b52a68",
   "metadata": {},
   "outputs": [
    {
     "name": "stdout",
     "output_type": "stream",
     "text": [
      "-0.08193645550537232\n"
     ]
    }
   ],
   "source": [
    "adj_result = adjustment(treatment, outcome, predictor, 1) - adjustment(treatment, outcome, predictor, 0)\n",
    "print(adj_result)"
   ]
  },
  {
   "cell_type": "markdown",
   "id": "9d208b1b",
   "metadata": {},
   "source": [
    "ATE = 0.4 - 0.5 = -0.1"
   ]
  },
  {
   "cell_type": "markdown",
   "id": "ff8fa55d",
   "metadata": {},
   "source": [
    "$\\hat ATE$ =P(O=1|do(T=1))−P(O=1|do(T=0))  has two unbiased estimators"
   ]
  },
  {
   "cell_type": "code",
   "execution_count": 30,
   "id": "202e8f26",
   "metadata": {
    "scrolled": false
   },
   "outputs": [
    {
     "name": "stdout",
     "output_type": "stream",
     "text": [
      "-0.07386507504710504\n",
      "-0.08193645550537232\n"
     ]
    }
   ],
   "source": [
    "print(condition_prob_diff)\n",
    "print(adj_result)"
   ]
  },
  {
   "cell_type": "markdown",
   "id": "d1cc2a96",
   "metadata": {},
   "source": [
    "# UNOBSERVED CONFOUNDER"
   ]
  },
  {
   "cell_type": "markdown",
   "id": "f2c20283",
   "metadata": {},
   "source": [
    "## Data Simulation"
   ]
  },
  {
   "cell_type": "code",
   "execution_count": 15,
   "id": "bde86f1e",
   "metadata": {},
   "outputs": [
    {
     "name": "stdout",
     "output_type": "stream",
     "text": [
      "-0.07386507504710504\n",
      "-0.08193645550537232\n"
     ]
    }
   ],
   "source": [
    "seed(1234)\n",
    "n = 10000\n",
    "confounder = binomial(1, 0.8, size=n)\n",
    "treatment = binomial(1, 0.6, size=n)*confounder + binomial(1, 0.2, size=n)*(1-confounder)\n",
    "outcome = binomial(1, 0.3, size=n)*treatment + binomial(1, 0.5, size=n)*(1-treatment) + confounder + normal(size=n)"
   ]
  },
  {
   "cell_type": "markdown",
   "id": "c68859c8",
   "metadata": {},
   "source": [
    "## Results"
   ]
  },
  {
   "cell_type": "markdown",
   "id": "eed90e8e",
   "metadata": {},
   "source": [
    "P(O=1|T=1)−P(O=1|T=0)"
   ]
  },
  {
   "cell_type": "code",
   "execution_count": 8,
   "id": "85d146b3",
   "metadata": {},
   "outputs": [
    {
     "name": "stdout",
     "output_type": "stream",
     "text": [
      "0.02107032530615749\n"
     ]
    }
   ],
   "source": [
    "condition_prob_diff = mean(outcome[treatment==1]) - mean(outcome[treatment==0])\n",
    "print(condition_prob_diff)"
   ]
  },
  {
   "cell_type": "markdown",
   "id": "377aa4ba",
   "metadata": {},
   "source": [
    "adjustment(1)−adjustment(0) cannot be calculated"
   ]
  },
  {
   "cell_type": "markdown",
   "id": "313f4051",
   "metadata": {},
   "source": [
    "ATE = 0.3 - 0.5 = -0.2"
   ]
  },
  {
   "cell_type": "markdown",
   "id": "0503ee74",
   "metadata": {},
   "source": [
    "$\\hat ATE$ =P(O=1|do(T=1))−P(O=1|do(T=0)) should be the result of the adjustment formula, but cannot be calculated"
   ]
  }
 ],
 "metadata": {
  "kernelspec": {
   "display_name": "Python 3",
   "language": "python",
   "name": "python3"
  },
  "language_info": {
   "codemirror_mode": {
    "name": "ipython",
    "version": 3
   },
   "file_extension": ".py",
   "mimetype": "text/x-python",
   "name": "python",
   "nbconvert_exporter": "python",
   "pygments_lexer": "ipython3",
   "version": "3.8.5"
  }
 },
 "nbformat": 4,
 "nbformat_minor": 5
}
