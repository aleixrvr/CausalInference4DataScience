{
  "cells": [
    {
      "cell_type": "markdown",
      "metadata": {},
      "source": [
        "# Exercise 1 - Solution\n",
        "\n",
        "## 0.1 RCT or A/B Test\n",
        "\n",
        "### 0.1.1 Data Simulation"
      ],
      "id": "2b540ef5-f1fb-4868-aaea-0319985028c2"
    },
    {
      "cell_type": "code",
      "execution_count": 1,
      "metadata": {},
      "outputs": [],
      "source": [
        "from numpy.random import binomial, normal, seed\n",
        "from numpy import mean, unique\n",
        "\n",
        "seed(1234)\n",
        "n = 10000\n",
        "treatment = binomial(1, 0.5, size=n)\n",
        "outcome = binomial(1, 0.3, size=n) * treatment + binomial(1, 0.5, size=n) * (\n",
        "    1 - treatment\n",
        ")"
      ],
      "id": "16c5e791"
    },
    {
      "cell_type": "markdown",
      "metadata": {},
      "source": [
        "### 0.1.2 Results\n",
        "\n",
        "-   $P(O=1|T=1) - P(O=1|T=0)$"
      ],
      "id": "5afdaa61-3363-424f-9718-1204b26a01e0"
    },
    {
      "cell_type": "code",
      "execution_count": 2,
      "metadata": {},
      "outputs": [
        {
          "output_type": "stream",
          "name": "stdout",
          "text": [
            "-0.1810218929047634"
          ]
        }
      ],
      "source": [
        "print(mean(outcome[treatment==1]) - mean(outcome[treatment==0]))"
      ],
      "id": "fae972ea"
    },
    {
      "cell_type": "code",
      "execution_count": 3,
      "metadata": {},
      "outputs": [
        {
          "output_type": "stream",
          "name": "stdout",
          "text": [
            "-0.1810218929047634"
          ]
        }
      ],
      "source": [
        "print(mean(outcome[treatment==1]) - mean(outcome[treatment==0]))"
      ],
      "id": "d96bbc33"
    },
    {
      "cell_type": "markdown",
      "metadata": {},
      "source": [
        "-   $\\mbox{adjustment}(1) - \\mbox{adjustment}(0)$ doesn’t apply\n",
        "-   ATE = 0.3 - 0.5 = -0.2\n",
        "-   $\\hat{ATE} = P(O=1|do(T=1)) - P(O=1|do(T=0))$"
      ],
      "id": "5eff180e-0d3e-4339-9fcf-b6c6effb9d0a"
    },
    {
      "cell_type": "code",
      "execution_count": 4,
      "metadata": {},
      "outputs": [
        {
          "output_type": "stream",
          "name": "stdout",
          "text": [
            "-0.1810218929047634"
          ]
        }
      ],
      "source": [
        "print(mean(outcome[treatment==1]) - mean(outcome[treatment==0]))"
      ],
      "id": "c42c571d"
    },
    {
      "cell_type": "markdown",
      "metadata": {},
      "source": [
        "## 0.2 Adjustment formula"
      ],
      "id": "6f0c58f4-5ab6-442e-b5c8-ac25acd6becf"
    },
    {
      "cell_type": "code",
      "execution_count": 5,
      "metadata": {},
      "outputs": [],
      "source": [
        "def adjustment(t, o, z, t0):\n",
        "    ind_t0 = t == t0\n",
        "    z_values = unique(z)\n",
        "\n",
        "    adjusted_prob = 0\n",
        "    for z_ in z_values:\n",
        "        ind_z_ = z == z_\n",
        "        ind = ind_t0 & ind_z_\n",
        "        adjusted_prob = adjusted_prob + mean(o[ind]) * mean(ind_z_)\n",
        "    return adjusted_prob\n"
      ],
      "id": "7feeff16"
    },
    {
      "cell_type": "markdown",
      "metadata": {},
      "source": [
        "## 0.3 Confounder\n",
        "\n",
        "### 0.3.1 Data Simulation"
      ],
      "id": "f032faa5-308a-4c0f-89da-4a7b6195385f"
    },
    {
      "cell_type": "code",
      "execution_count": 6,
      "metadata": {},
      "outputs": [],
      "source": [
        "seed(1234)\n",
        "n = 10000\n",
        "confounder = binomial(1, 0.8, size=n)\n",
        "treatment = binomial(1, 0.6, size=n) * confounder + binomial(1, 0.2, size=n) * (\n",
        "    1 - confounder\n",
        ")\n",
        "outcome = (\n",
        "    binomial(1, 0.3, size=n) * treatment\n",
        "    + binomial(1, 0.5, size=n) * (1 - treatment)\n",
        "    + confounder\n",
        "    + normal(size=n)\n",
        ")"
      ],
      "id": "03568c29"
    },
    {
      "cell_type": "markdown",
      "metadata": {},
      "source": [
        "### 0.3.2 Results\n",
        "\n",
        "-   $P(O=1|T=1) - P(O=1|T=0)$"
      ],
      "id": "648c0fd3-4fbf-46ad-a26c-53bd4db47cad"
    },
    {
      "cell_type": "code",
      "execution_count": 7,
      "metadata": {},
      "outputs": [
        {
          "output_type": "stream",
          "name": "stdout",
          "text": [
            "0.02107032530615749"
          ]
        }
      ],
      "source": [
        "print(mean(outcome[treatment==1]) - mean(outcome[treatment==0]))"
      ],
      "id": "ce14a88e"
    },
    {
      "cell_type": "markdown",
      "metadata": {},
      "source": [
        "-   $\\mbox{adjustment}(1) - \\mbox{adjustment}(0)$"
      ],
      "id": "04204aba-7013-4dcf-95c2-94070109455a"
    },
    {
      "cell_type": "code",
      "execution_count": 8,
      "metadata": {},
      "outputs": [
        {
          "output_type": "stream",
          "name": "stdout",
          "text": [
            "-0.21901378090633217"
          ]
        }
      ],
      "source": [
        "print(adjustment(treatment, outcome, confounder, 1) - adjustment(treatment, outcome, confounder, 0))"
      ],
      "id": "91361380"
    },
    {
      "cell_type": "markdown",
      "metadata": {},
      "source": [
        "-   ATE = 0.3 - 0.5 = -0.2\n",
        "-   $\\hat{ATE} = P(O=1|do(T=1)) - P(O=1|do(T=0))$"
      ],
      "id": "0a61c75e-0050-4afc-a176-da59e4a369fa"
    },
    {
      "cell_type": "code",
      "execution_count": 9,
      "metadata": {},
      "outputs": [
        {
          "output_type": "stream",
          "name": "stdout",
          "text": [
            "-0.21901378090633217"
          ]
        }
      ],
      "source": [
        "print(adjustment(treatment, outcome, confounder, 1) - adjustment(treatment, outcome, confounder, 0))"
      ],
      "id": "eac0ef4c"
    },
    {
      "cell_type": "markdown",
      "metadata": {},
      "source": [
        "## 0.4 Mediator\n",
        "\n",
        "### 0.4.1 Data Simulation"
      ],
      "id": "10bd5fb7-8d24-41b8-a4dd-67e77577d7bd"
    },
    {
      "cell_type": "code",
      "execution_count": 10,
      "metadata": {},
      "outputs": [],
      "source": [
        "seed(1234)\n",
        "n = 10000\n",
        "\n",
        "treatment = binomial(1, 0.4, size=n)\n",
        "mediator = binomial(1, 0.6, size=n) * treatment + binomial(1, 0.2, size=n) * (\n",
        "    1 - treatment\n",
        ")\n",
        "outcome = (\n",
        "    binomial(1, 0.4, size=n) * treatment\n",
        "    + binomial(1, 0.5, size=n) * (1 - treatment)\n",
        "    + mediator\n",
        "    + normal(size=n)\n",
        ")"
      ],
      "id": "c571a7c9"
    },
    {
      "cell_type": "markdown",
      "metadata": {},
      "source": [
        "### 0.4.2 Results\n",
        "\n",
        "-   $P(O=1|T=1) - P(O=1|T=0)$"
      ],
      "id": "72172de7-d45b-43a7-9ab5-ecb295a0ae1a"
    },
    {
      "cell_type": "code",
      "execution_count": 11,
      "metadata": {},
      "outputs": [
        {
          "output_type": "stream",
          "name": "stdout",
          "text": [
            "0.29470156607738807"
          ]
        }
      ],
      "source": [
        "print(mean(outcome[treatment==1]) - mean(outcome[treatment==0]))"
      ],
      "id": "2ef8d6c2"
    },
    {
      "cell_type": "markdown",
      "metadata": {},
      "source": [
        "-   $\\mbox{adjustment}(1) - \\mbox{adjustment}(0)$"
      ],
      "id": "376812c4-112a-4213-aa8e-03abec93dc16"
    },
    {
      "cell_type": "code",
      "execution_count": 12,
      "metadata": {},
      "outputs": [
        {
          "output_type": "stream",
          "name": "stdout",
          "text": [
            "-0.10511006573608273"
          ]
        }
      ],
      "source": [
        "print(adjustment(treatment, outcome, mediator, 1) - adjustment(treatment, outcome, mediator, 0))"
      ],
      "id": "af97a38c"
    },
    {
      "cell_type": "markdown",
      "metadata": {},
      "source": [
        "-   ATE = (0.6 + 0.4) - (0.2 + 0.5) = 0.3\n",
        "-   $\\hat{ATE} = P(O=1|do(T=1)) - P(O=1|do(T=0))$"
      ],
      "id": "46a6a87b-9bda-43b5-96ff-323676bf14f9"
    },
    {
      "cell_type": "code",
      "execution_count": 13,
      "metadata": {},
      "outputs": [
        {
          "output_type": "stream",
          "name": "stdout",
          "text": [
            "0.29470156607738807"
          ]
        }
      ],
      "source": [
        "print(mean(outcome[treatment==1]) - mean(outcome[treatment==0]))"
      ],
      "id": "4bdfd2d2"
    },
    {
      "cell_type": "markdown",
      "metadata": {},
      "source": [
        "## 0.5 Predictor\n",
        "\n",
        "### 0.5.1 Data Simulation"
      ],
      "id": "3d333b2c-c322-4aba-a078-cbefb4b2076b"
    },
    {
      "cell_type": "code",
      "execution_count": 14,
      "metadata": {},
      "outputs": [],
      "source": [
        "seed(1234)\n",
        "n = 10000\n",
        "\n",
        "treatment = binomial(1, 0.4, size=n)\n",
        "predictor = binomial(1, 0.4, size=n)\n",
        "outcome = (\n",
        "    binomial(1, 0.4, size=n) * treatment\n",
        "    + binomial(1, 0.5, size=n) * (1 - treatment)\n",
        "    + predictor\n",
        "    + normal(size=n)\n",
        ")"
      ],
      "id": "717cb4af"
    },
    {
      "cell_type": "markdown",
      "metadata": {},
      "source": [
        "### 0.5.2 Results\n",
        "\n",
        "-   $P(O=1|T=1) - P(O=1|T=0)$"
      ],
      "id": "12c0b3f7-93b7-4b50-a19f-9348ce044e8d"
    },
    {
      "cell_type": "code",
      "execution_count": 15,
      "metadata": {},
      "outputs": [
        {
          "output_type": "stream",
          "name": "stdout",
          "text": [
            "-0.07386507504710504"
          ]
        }
      ],
      "source": [
        "print(mean(outcome[treatment==1]) - mean(outcome[treatment==0]))"
      ],
      "id": "f593e8ba"
    },
    {
      "cell_type": "markdown",
      "metadata": {},
      "source": [
        "-   $\\mbox{adjustment}(1) - \\mbox{adjustment}(0)$"
      ],
      "id": "7a9f2c19-be95-4a74-b8ed-479a22b97566"
    },
    {
      "cell_type": "code",
      "execution_count": 16,
      "metadata": {},
      "outputs": [
        {
          "output_type": "stream",
          "name": "stdout",
          "text": [
            "-0.08193645550537232"
          ]
        }
      ],
      "source": [
        "print(adjustment(treatment, outcome, predictor, 1) - adjustment(treatment, outcome, predictor, 0))"
      ],
      "id": "4ce8837d"
    },
    {
      "cell_type": "markdown",
      "metadata": {},
      "source": [
        "-   ATE = 0.4 - 0.5 = -0.1\n",
        "\n",
        "$\\hat{ATE}$ has two unbiased estimators\n",
        "\n",
        "-   $\\hat{ATE} = P(O=1|do(T=1)) - P(O=1|do(T=0))$"
      ],
      "id": "17e3eac6-a41f-4ab6-9d6d-84c61dedf286"
    },
    {
      "cell_type": "code",
      "execution_count": 17,
      "metadata": {},
      "outputs": [
        {
          "output_type": "stream",
          "name": "stdout",
          "text": [
            "-0.07386507504710504"
          ]
        }
      ],
      "source": [
        "print(mean(outcome[treatment==1]) - mean(outcome[treatment==0]))"
      ],
      "id": "aac740bf"
    },
    {
      "cell_type": "markdown",
      "metadata": {},
      "source": [
        "-   $\\hat{ATE} = P(O=1|do(T=1)) - P(O=1|do(T=0))$"
      ],
      "id": "0d405f4a-d929-4204-afe1-3c6731b51645"
    },
    {
      "cell_type": "code",
      "execution_count": 18,
      "metadata": {},
      "outputs": [
        {
          "output_type": "stream",
          "name": "stdout",
          "text": [
            "-0.08193645550537232"
          ]
        }
      ],
      "source": [
        "print(adjustment(treatment, outcome, predictor, 1) - adjustment(treatment, outcome, predictor, 0))"
      ],
      "id": "2cf92f7f"
    },
    {
      "cell_type": "markdown",
      "metadata": {},
      "source": [
        "## 0.6 Unobserved Confounder\n",
        "\n",
        "### 0.6.1 Data Simulation"
      ],
      "id": "f06e7352-d705-446d-850a-9a506764d2bb"
    },
    {
      "cell_type": "code",
      "execution_count": 19,
      "metadata": {},
      "outputs": [],
      "source": [
        "seed(1234)\n",
        "n = 10000\n",
        "confounder = binomial(1, 0.8, size=n)\n",
        "treatment = binomial(1, 0.6, size=n) * confounder + binomial(1, 0.2, size=n) * (\n",
        "    1 - confounder\n",
        ")\n",
        "outcome = (\n",
        "    binomial(1, 0.3, size=n) * treatment\n",
        "    + binomial(1, 0.5, size=n) * (1 - treatment)\n",
        "    + confounder\n",
        "    + normal(size=n)\n",
        ")"
      ],
      "id": "0b07bd39"
    },
    {
      "cell_type": "markdown",
      "metadata": {},
      "source": [
        "### 0.6.2 Results\n",
        "\n",
        "-   $P(O=1|T=1) - P(O=1|T=0)$"
      ],
      "id": "c096da9d-3aae-49b3-9ad8-ef250ef018d5"
    },
    {
      "cell_type": "code",
      "execution_count": 20,
      "metadata": {},
      "outputs": [
        {
          "output_type": "stream",
          "name": "stdout",
          "text": [
            "0.02107032530615749"
          ]
        }
      ],
      "source": [
        "print(mean(outcome[treatment==1]) - mean(outcome[treatment==0]))"
      ],
      "id": "ce22d287"
    },
    {
      "cell_type": "markdown",
      "metadata": {},
      "source": [
        "-   $\\mbox{adjustment}(1) - \\mbox{adjustment}(0)$ cannot be calculated\n",
        "-   ATE = -0.2\n",
        "-   $\\hat{ATE} = P(O=1|do(T=1)) - P(O=1|do(T=0))$ cannot be calculated\n",
        "\n",
        "# 1. Part II\n",
        "\n",
        "$P^{do(C:=2)}(E) = P(E|C=2) \\sim N(2, 1)$\n",
        "\n",
        "$P^{do(E:=2)}(C) \\sim N(0, 1) ≠ P(C|E=2) = P(N1| N1+N2=2) \\sim N(1, (1/2)1/2)$"
      ],
      "id": "5f500f13-7a90-4d43-9467-c542775ef1d4"
    }
  ],
  "nbformat": 4,
  "nbformat_minor": 5,
  "metadata": {
    "kernelspec": {
      "name": "python3",
      "display_name": "Python 3 (ipykernel)",
      "language": "python"
    }
  }
}