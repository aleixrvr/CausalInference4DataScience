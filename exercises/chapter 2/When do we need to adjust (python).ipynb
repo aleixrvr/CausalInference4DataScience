{
  "cells": [
    {
      "cell_type": "markdown",
      "metadata": {},
      "source": [
        "# Exercise 1 - Solution\n",
        "\n",
        "# 1. RCT or A/B Test\n",
        "\n",
        "## 1.1 Data Simulation"
      ],
      "id": "37683703-b3e4-428a-9bb4-c96aa56b70ce"
    },
    {
      "cell_type": "code",
      "execution_count": 1,
      "metadata": {},
      "outputs": [],
      "source": [
        "from numpy.random import binomial, normal, seed\n",
        "from numpy import mean, unique\n",
        "\n",
        "seed(1234)\n",
        "n = 10000\n",
        "treatment = binomial(1, 0.5, size=n)\n",
        "outcome = binomial(1, 0.3, size=n) * treatment + binomial(1, 0.5, size=n) * (\n",
        "    1 - treatment\n",
        ")"
      ],
      "id": "8f23bd21"
    },
    {
      "cell_type": "markdown",
      "metadata": {},
      "source": [
        "## 1.2 Results\n",
        "\n",
        "-   $P(O=1|T=1) - P(O=1|T=0)$"
      ],
      "id": "a6919e9e-17c7-42b2-ab62-d6ce1993812d"
    },
    {
      "cell_type": "code",
      "execution_count": 2,
      "metadata": {},
      "outputs": [
        {
          "output_type": "stream",
          "name": "stdout",
          "text": [
            "-0.1810218929047634"
          ]
        }
      ],
      "source": [
        "print(mean(outcome[treatment==1]) - mean(outcome[treatment==0]))"
      ],
      "id": "b32400b8"
    },
    {
      "cell_type": "markdown",
      "metadata": {},
      "source": [
        "-   adjustment(1) - adjustment(0) doesn’t apply\n",
        "-   ATE = 0.3 - 0.5 = -0.2\n",
        "-   $\\hat{ATE} = P(O=1|do(T=1)) - P(O=1|do(T=0))$"
      ],
      "id": "336f2c21-941e-4951-a25c-e1af4caa31c3"
    },
    {
      "cell_type": "code",
      "execution_count": 3,
      "metadata": {},
      "outputs": [
        {
          "output_type": "stream",
          "name": "stdout",
          "text": [
            "-0.1810218929047634"
          ]
        }
      ],
      "source": [
        "print(mean(outcome[treatment==1]) - mean(outcome[treatment==0]))"
      ],
      "id": "a8d66775"
    },
    {
      "cell_type": "markdown",
      "metadata": {},
      "source": [
        "# 2. Adjustment formula"
      ],
      "id": "384079df-86dd-4886-a32c-4bccc0abce92"
    },
    {
      "cell_type": "code",
      "execution_count": 4,
      "metadata": {},
      "outputs": [],
      "source": [
        "def adjustment(t, o, z, t0):\n",
        "    ind_t0 = t == t0\n",
        "    z_values = unique(z)\n",
        "\n",
        "    adjusted_prob = 0\n",
        "    for z_ in z_values:\n",
        "        ind_z_ = z == z_\n",
        "        ind = ind_t0 & ind_z_\n",
        "        adjusted_prob = adjusted_prob + mean(o[ind]) * mean(ind_z_)\n",
        "    return adjusted_prob\n"
      ],
      "id": "3623a907"
    },
    {
      "cell_type": "markdown",
      "metadata": {},
      "source": [
        "# 3. Confounder\n",
        "\n",
        "## 3.1 Data Simulation"
      ],
      "id": "83cde067-75eb-42c4-9d0c-cbcf137c823a"
    },
    {
      "cell_type": "code",
      "execution_count": 5,
      "metadata": {},
      "outputs": [],
      "source": [
        "seed(1234)\n",
        "n = 10000\n",
        "confounder = binomial(1, 0.8, size=n)\n",
        "treatment = binomial(1, 0.6, size=n) * confounder + binomial(1, 0.2, size=n) * (\n",
        "    1 - confounder\n",
        ")\n",
        "outcome = (\n",
        "    binomial(1, 0.3, size=n) * treatment\n",
        "    + binomial(1, 0.5, size=n) * (1 - treatment)\n",
        "    + confounder\n",
        "    + normal(size=n)\n",
        ")"
      ],
      "id": "58500e45"
    },
    {
      "cell_type": "markdown",
      "metadata": {},
      "source": [
        "## 3.2 Results\n",
        "\n",
        "-   $P(O=1|T=1) - P(O=1|T=0)$"
      ],
      "id": "8589d5e5-eff0-4c78-8534-96aca3161907"
    },
    {
      "cell_type": "code",
      "execution_count": 6,
      "metadata": {},
      "outputs": [
        {
          "output_type": "stream",
          "name": "stdout",
          "text": [
            "0.02107032530615749"
          ]
        }
      ],
      "source": [
        "print(mean(outcome[treatment==1]) - mean(outcome[treatment==0]))"
      ],
      "id": "ecef1db7"
    },
    {
      "cell_type": "markdown",
      "metadata": {},
      "source": [
        "-   adjustment(1) - adjustment(0)"
      ],
      "id": "6288acae-a0ac-4ea0-8f0e-ba0344ff4d55"
    },
    {
      "cell_type": "code",
      "execution_count": 7,
      "metadata": {},
      "outputs": [
        {
          "output_type": "stream",
          "name": "stdout",
          "text": [
            "-0.21901378090633217"
          ]
        }
      ],
      "source": [
        "print(adjustment(treatment, outcome, confounder, 1) - adjustment(treatment, outcome, confounder, 0))"
      ],
      "id": "66355488"
    },
    {
      "cell_type": "markdown",
      "metadata": {},
      "source": [
        "-   ATE = 0.3 - 0.5 = -0.2\n",
        "-   $\\hat{ATE} = P(O=1|do(T=1)) - P(O=1|do(T=0))$"
      ],
      "id": "e6dcf989-0fc9-439d-a2f5-ebdf3e2b1362"
    },
    {
      "cell_type": "code",
      "execution_count": 8,
      "metadata": {},
      "outputs": [
        {
          "output_type": "stream",
          "name": "stdout",
          "text": [
            "-0.21901378090633217"
          ]
        }
      ],
      "source": [
        "print(adjustment(treatment, outcome, confounder, 1) - adjustment(treatment, outcome, confounder, 0))"
      ],
      "id": "cd2ba396"
    },
    {
      "cell_type": "markdown",
      "metadata": {},
      "source": [
        "# 4. Mediator\n",
        "\n",
        "## 4.1 Data Simulation"
      ],
      "id": "a51f5497-e52c-4217-ae78-989aaa7a891f"
    },
    {
      "cell_type": "code",
      "execution_count": 9,
      "metadata": {},
      "outputs": [],
      "source": [
        "seed(1234)\n",
        "n = 10000\n",
        "\n",
        "treatment = binomial(1, 0.4, size=n)\n",
        "mediator = binomial(1, 0.6, size=n) * treatment + binomial(1, 0.2, size=n) * (\n",
        "    1 - treatment\n",
        ")\n",
        "outcome = (\n",
        "    binomial(1, 0.4, size=n) * treatment\n",
        "    + binomial(1, 0.5, size=n) * (1 - treatment)\n",
        "    + mediator\n",
        "    + normal(size=n)\n",
        ")"
      ],
      "id": "82e4d3f9"
    },
    {
      "cell_type": "markdown",
      "metadata": {},
      "source": [
        "## 4.2 Results\n",
        "\n",
        "-   $P(O=1|T=1) - P(O=1|T=0)$"
      ],
      "id": "7bf93743-fd1e-4a5c-82c4-9f3ead3677f7"
    },
    {
      "cell_type": "code",
      "execution_count": 10,
      "metadata": {},
      "outputs": [
        {
          "output_type": "stream",
          "name": "stdout",
          "text": [
            "0.29470156607738807"
          ]
        }
      ],
      "source": [
        "print(mean(outcome[treatment==1]) - mean(outcome[treatment==0]))"
      ],
      "id": "6f49ce6e"
    },
    {
      "cell_type": "markdown",
      "metadata": {},
      "source": [
        "-   adjustment(1) - adjustment(0)"
      ],
      "id": "c37f4e4d-50cc-4c1c-ba0c-896202ba2888"
    },
    {
      "cell_type": "code",
      "execution_count": 11,
      "metadata": {},
      "outputs": [
        {
          "output_type": "stream",
          "name": "stdout",
          "text": [
            "-0.10511006573608273"
          ]
        }
      ],
      "source": [
        "print(adjustment(treatment, outcome, mediator, 1) - adjustment(treatment, outcome, mediator, 0))"
      ],
      "id": "7e7545a9"
    },
    {
      "cell_type": "markdown",
      "metadata": {},
      "source": [
        "-   ATE = (0.6 + 0.4) - (0.2 + 0.5) = 0.3\n",
        "-   $\\hat{ATE} = P(O=1|do(T=1)) - P(O=1|do(T=0))$"
      ],
      "id": "2cf43d65-ae8a-4219-a316-f61ccb34dab0"
    },
    {
      "cell_type": "code",
      "execution_count": 12,
      "metadata": {},
      "outputs": [
        {
          "output_type": "stream",
          "name": "stdout",
          "text": [
            "0.29470156607738807"
          ]
        }
      ],
      "source": [
        "print(mean(outcome[treatment==1]) - mean(outcome[treatment==0]))"
      ],
      "id": "eac299fa"
    },
    {
      "cell_type": "markdown",
      "metadata": {},
      "source": [
        "# 5. Predictor\n",
        "\n",
        "## 5.1 Data Simulation"
      ],
      "id": "f37be4b6-6ddd-48bf-bd4c-4dce46e1b603"
    },
    {
      "cell_type": "code",
      "execution_count": 13,
      "metadata": {},
      "outputs": [],
      "source": [
        "seed(1234)\n",
        "n = 10000\n",
        "\n",
        "treatment = binomial(1, 0.4, size=n)\n",
        "predictor = binomial(1, 0.4, size=n)\n",
        "outcome = (\n",
        "    binomial(1, 0.4, size=n) * treatment\n",
        "    + binomial(1, 0.5, size=n) * (1 - treatment)\n",
        "    + predictor\n",
        "    + normal(size=n)\n",
        ")"
      ],
      "id": "d2a01f9f"
    },
    {
      "cell_type": "markdown",
      "metadata": {},
      "source": [
        "## 5.2 Results\n",
        "\n",
        "-   $P(O=1|T=1) - P(O=1|T=0)$"
      ],
      "id": "dbc14c8d-582b-4e18-b90c-7250dbc45a76"
    },
    {
      "cell_type": "code",
      "execution_count": 14,
      "metadata": {},
      "outputs": [
        {
          "output_type": "stream",
          "name": "stdout",
          "text": [
            "-0.07386507504710504"
          ]
        }
      ],
      "source": [
        "print(mean(outcome[treatment==1]) - mean(outcome[treatment==0]))"
      ],
      "id": "4c98c41f"
    },
    {
      "cell_type": "markdown",
      "metadata": {},
      "source": [
        "-   adjustment(1) - adjustment(0)"
      ],
      "id": "e961a85e-193e-49bc-91ac-9a3808f83bc0"
    },
    {
      "cell_type": "code",
      "execution_count": 15,
      "metadata": {},
      "outputs": [
        {
          "output_type": "stream",
          "name": "stdout",
          "text": [
            "-0.08193645550537232"
          ]
        }
      ],
      "source": [
        "print(adjustment(treatment, outcome, predictor, 1) - adjustment(treatment, outcome, predictor, 0))"
      ],
      "id": "bfb0f41c"
    },
    {
      "cell_type": "markdown",
      "metadata": {},
      "source": [
        "-   ATE = 0.4 - 0.5 = -0.1\n",
        "\n",
        "$\\hat{ATE}$ has two unbiased estimators\n",
        "\n",
        "-   $\\hat{ATE} = P(O=1|do(T=1)) - P(O=1|do(T=0))$"
      ],
      "id": "37181130-8463-44ff-9c88-d17b4330d6e2"
    },
    {
      "cell_type": "code",
      "execution_count": 16,
      "metadata": {},
      "outputs": [
        {
          "output_type": "stream",
          "name": "stdout",
          "text": [
            "-0.07386507504710504"
          ]
        }
      ],
      "source": [
        "print(mean(outcome[treatment==1]) - mean(outcome[treatment==0]))"
      ],
      "id": "98d5db41"
    },
    {
      "cell_type": "markdown",
      "metadata": {},
      "source": [
        "-   $\\hat{ATE} = P(O=1|do(T=1)) - P(O=1|do(T=0))$"
      ],
      "id": "022f4544-5f13-4cc9-a1df-85d1307d21cb"
    },
    {
      "cell_type": "code",
      "execution_count": 17,
      "metadata": {},
      "outputs": [
        {
          "output_type": "stream",
          "name": "stdout",
          "text": [
            "-0.08193645550537232"
          ]
        }
      ],
      "source": [
        "print(adjustment(treatment, outcome, predictor, 1) - adjustment(treatment, outcome, predictor, 0))"
      ],
      "id": "72896971"
    },
    {
      "cell_type": "markdown",
      "metadata": {},
      "source": [
        "# 6. Unobserved Confounder\n",
        "\n",
        "## 6.1 Data Simulation"
      ],
      "id": "53b02dfd-0f49-4fc8-bb53-56a89f243562"
    },
    {
      "cell_type": "code",
      "execution_count": 18,
      "metadata": {},
      "outputs": [],
      "source": [
        "seed(1234)\n",
        "n = 10000\n",
        "confounder = binomial(1, 0.8, size=n)\n",
        "treatment = binomial(1, 0.6, size=n) * confounder + binomial(1, 0.2, size=n) * (\n",
        "    1 - confounder\n",
        ")\n",
        "outcome = (\n",
        "    binomial(1, 0.3, size=n) * treatment\n",
        "    + binomial(1, 0.5, size=n) * (1 - treatment)\n",
        "    + confounder\n",
        "    + normal(size=n)\n",
        ")"
      ],
      "id": "979f1a73"
    },
    {
      "cell_type": "markdown",
      "metadata": {},
      "source": [
        "## 6.2 Results\n",
        "\n",
        "-   $P(O=1|T=1) - P(O=1|T=0)$"
      ],
      "id": "c55453cf-6954-43bf-bc3c-39572ec20ef5"
    },
    {
      "cell_type": "code",
      "execution_count": 19,
      "metadata": {},
      "outputs": [
        {
          "output_type": "stream",
          "name": "stdout",
          "text": [
            "0.02107032530615749"
          ]
        }
      ],
      "source": [
        "print(mean(outcome[treatment==1]) - mean(outcome[treatment==0]))"
      ],
      "id": "432f21fd"
    },
    {
      "cell_type": "markdown",
      "metadata": {},
      "source": [
        "-   adjustment(1) - adjustment(0) cannot be calculated\n",
        "-   ATE = -0.2\n",
        "-   $\\hat{ATE} = P(O=1|do(T=1)) - P(O=1|do(T=0))$ cannot be calculated\n",
        "\n",
        "# 7. Part II\n",
        "\n",
        "$P^{do(C:=2)}(E) = P(E|C=2) \\sim N(2, 1)$\n",
        "\n",
        "$P^{do(E:=2)}(C) \\sim N(0, 1) ≠ P(C|E=2) = P(N1| N1+N2=2) \\sim N(1, (1/2)1/2)$"
      ],
      "id": "2af960ab-0876-4b15-af1a-78347bc1ab8b"
    }
  ],
  "nbformat": 4,
  "nbformat_minor": 5,
  "metadata": {
    "kernelspec": {
      "name": "python3",
      "display_name": "Python 3 (ipykernel)",
      "language": "python"
    },
    "language_info": {
      "name": "python",
      "codemirror_mode": {
        "name": "ipython",
        "version": "3"
      },
      "file_extension": ".py",
      "mimetype": "text/x-python",
      "nbconvert_exporter": "python",
      "pygments_lexer": "ipython3",
      "version": "3.10.9"
    }
  }
}