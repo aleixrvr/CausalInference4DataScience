{
  "cells": [
    {
      "cell_type": "markdown",
      "metadata": {},
      "source": [
        "# Finding the difference between the S-learner and the T-learner\n",
        "\n",
        "Here you can find the solution to the exercise in Chapter 4. We will use\n",
        "the library `scikit learn` from Python that trains decision trees.\n",
        "First, we set the parameters (we used the function `numpy.random.seed`\n",
        "to make the example is reproducible)."
      ],
      "id": "6b323c6b-e72d-4b45-8591-51193779339f"
    },
    {
      "cell_type": "code",
      "execution_count": 1,
      "metadata": {},
      "outputs": [],
      "source": [
        "from sklearn.tree import DecisionTreeRegressor\n",
        "from numpy.random import normal, uniform, seed\n",
        "from numpy import exp, mean\n",
        "from pandas import DataFrame\n",
        "\n",
        "seed(54321)\n",
        "\n",
        "n = 20\n",
        "max_depth = 5\n",
        "b_z_x = 5\n",
        "b_z_y = 5\n",
        "b_x_y = 2\n",
        "sd = 1"
      ],
      "id": "72aef018"
    },
    {
      "cell_type": "markdown",
      "metadata": {},
      "source": [
        "# 1. Generate the data"
      ],
      "id": "6d935f38-c511-4a91-9276-a160c7d24f7c"
    },
    {
      "cell_type": "code",
      "execution_count": 2,
      "metadata": {},
      "outputs": [],
      "source": [
        "z = normal(size=n, scale=sd)\n",
        "x = (uniform(size=n) < 1 / (1 + exp(-b_z_x * z))).astype(int)\n",
        "y = b_z_y * z + b_x_y * x + normal(size=n, scale=sd)\n",
        "df = DataFrame({\"z\": z, \"x\": x, \"y\": y})"
      ],
      "id": "4959cb87"
    },
    {
      "cell_type": "markdown",
      "metadata": {},
      "source": [
        "Note that if we tried to see the difference of outcome y, as a naive\n",
        "estimation of the impact of x into y, we would see that the result is\n",
        "7.24, quite far from the actual value.\n",
        "\n",
        "# 2. Calculate the difference between groups of outcome y"
      ],
      "id": "d6297232-3079-4875-bce2-f81232354d68"
    },
    {
      "cell_type": "code",
      "execution_count": 3,
      "metadata": {},
      "outputs": [
        {
          "output_type": "display_data",
          "metadata": {},
          "data": {
            "text/plain": [
              "7.2363405261057805"
            ]
          }
        }
      ],
      "source": [
        "df.query(\"x==1\").y.mean() - df.query(\"x==0\").y.mean()"
      ],
      "id": "a10b2171"
    },
    {
      "cell_type": "markdown",
      "metadata": {},
      "source": [
        "Third, we use the S-learner. For that we train a decision tree, and\n",
        "create two new datasets, one with variable x set 0 zero in all\n",
        "observations and another with x=1 in all observations. Finally, the ATE\n",
        "is estimated as the mean difference of the prediction of the trained\n",
        "model in both new datasets.\n",
        "\n",
        "# 3. S-learner"
      ],
      "id": "b95eaac3-4f31-41a7-926a-c4404bec2bfb"
    },
    {
      "cell_type": "code",
      "execution_count": 4,
      "metadata": {},
      "outputs": [
        {
          "output_type": "stream",
          "name": "stdout",
          "text": [
            "ATE\n",
            "0.0\n",
            "[0. 0. 0. 0. 0. 0. 0. 0. 0. 0. 0. 0. 0. 0. 0. 0. 0. 0. 0. 0.]"
          ]
        }
      ],
      "source": [
        "model = DecisionTreeRegressor(max_depth=max_depth)\n",
        "X = df[[\"x\", \"z\"]]\n",
        "y = df[\"y\"]\n",
        "model.fit(X, y)\n",
        "\n",
        "\n",
        "df_do_0 = df.copy()\n",
        "df_do_0.x = 0\n",
        "predictions_0 = model.predict(df_do_0[[\"x\", \"z\"]])\n",
        "\n",
        "df_do_1 = df.copy()\n",
        "df_do_1.x = 1\n",
        "predictions_1 = model.predict(df_do_1[[\"x\", \"z\"]])\n",
        "\n",
        "print(\"ATE\")\n",
        "print(mean(predictions_1 - predictions_0))\n",
        "print(predictions_1 - predictions_0)"
      ],
      "id": "29656c10"
    },
    {
      "cell_type": "markdown",
      "metadata": {},
      "source": [
        "You will get an ATE of 0. Moreover, the differences for each observation\n",
        "(predictions_1 – predictions_0) are also 0. Notice that this happens for\n",
        "a particular choice of seed. In general, if you change the seed, you\n",
        "will see that not always you have an ATE of 0. However, a numerical\n",
        "methods that from time to time gives an incorrect answer, zero, is not a\n",
        "good numerical method.\n",
        "\n",
        "Let’s see how the T-Learner works now. First, we partition the dataset\n",
        "into the observations with x = 0 and with x = 1. Then we train a model\n",
        "for each group, and use both models to predict for each observation,\n",
        "what would be the expected outcome y when x is set to 0 and the same for\n",
        "x equal 1.\n",
        "\n",
        "# 4. T-Learner"
      ],
      "id": "98c62b1c-f44c-45f3-97e4-aed5baa7c44e"
    },
    {
      "cell_type": "code",
      "execution_count": 5,
      "metadata": {},
      "outputs": [
        {
          "output_type": "stream",
          "name": "stdout",
          "text": [
            "ATE\n",
            "4.278751389023496\n",
            "[ 3.24930881  2.61665433  3.56572722  6.09852166 15.18519343  3.74718771\n",
            "  2.01039955  3.06142779  7.02389793  3.33348004  5.85945538  2.01039955\n",
            "  1.93609629  2.26595439  2.61665433  2.61665433  3.24930881  5.80432186\n",
            "  2.61665433  6.70773005]"
          ]
        }
      ],
      "source": [
        "df_0 = df.query(\"x==0\")\n",
        "df_1 = df.query(\"x==1\")\n",
        "\n",
        "model_0 = DecisionTreeRegressor(max_depth=max_depth)\n",
        "X_0 = df_0[[\"x\", \"z\"]]\n",
        "y_0 = df_0[\"y\"]\n",
        "model_0.fit(X_0, y_0)\n",
        "\n",
        "model_1 = DecisionTreeRegressor(max_depth=max_depth)\n",
        "X_1 = df_1[[\"x\", \"z\"]]\n",
        "y_1 = df_1[\"y\"]\n",
        "model_1.fit(X_1, y_1)\n",
        "\n",
        "predictions_0 = model_0.predict(df[[\"x\", \"z\"]])\n",
        "predictions_1 = model_1.predict(df[[\"x\", \"z\"]])\n",
        "\n",
        "print(\"ATE\")\n",
        "print(mean(predictions_1 - predictions_0))\n",
        "print(predictions_1 - predictions_0)"
      ],
      "id": "302a1504"
    },
    {
      "cell_type": "markdown",
      "metadata": {},
      "source": [
        "You can see that the ATE in this case is 4.28, much better (closer to\n",
        "the actual value of 2) than the difference of means of outcomes in group\n",
        "x = 0 and x = 1, that were 7.23.\n",
        "\n",
        "Notice also that we have set the maximum depth to 5. In a realistic\n",
        "situation, maximum depth would be chosen via hyperparameter tunning, so\n",
        "splitting data into many groups, calculating cross-validations and\n",
        "trying different sets of parameters."
      ],
      "id": "f284628b-41b5-4dca-96a8-5fe6a26fc9c3"
    }
  ],
  "nbformat": 4,
  "nbformat_minor": 5,
  "metadata": {
    "kernelspec": {
      "name": "python3",
      "display_name": "Python 3 (ipykernel)",
      "language": "python",
      "path": "/opt/anaconda3/envs/env/share/jupyter/kernels/python3"
    },
    "language_info": {
      "name": "python",
      "codemirror_mode": {
        "name": "ipython",
        "version": "3"
      },
      "file_extension": ".py",
      "mimetype": "text/x-python",
      "nbconvert_exporter": "python",
      "pygments_lexer": "ipython3",
      "version": "3.11.9"
    }
  }
}