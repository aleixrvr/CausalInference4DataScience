{
  "cells": [
    {
      "cell_type": "markdown",
      "metadata": {},
      "source": [
        "# Finding the difference between the S-learner and the T-learner"
      ],
      "id": "20f6220b-0d92-453c-8b49-61c5a686fdfd"
    },
    {
      "cell_type": "code",
      "execution_count": 1,
      "metadata": {},
      "outputs": [],
      "source": [
        "from sklearn.tree import DecisionTreeRegressor\n",
        "from numpy.random import normal, uniform, seed\n",
        "from numpy import exp, mean\n",
        "from pandas import DataFrame\n",
        "\n",
        "seed(54321)\n",
        "\n",
        "n = 20\n",
        "max_depth = 5\n",
        "a_z_d = 5\n",
        "a_z_y = 5\n",
        "a_d_y = 2\n",
        "sd = 1"
      ],
      "id": "1684b6f1"
    },
    {
      "cell_type": "markdown",
      "metadata": {},
      "source": [
        "# 1. Generate the data"
      ],
      "id": "554ca093-7dcf-44ff-b09e-c3a170dcb31b"
    },
    {
      "cell_type": "code",
      "execution_count": 2,
      "metadata": {},
      "outputs": [],
      "source": [
        "z = normal(size=n, scale=sd)\n",
        "x = (uniform(size=n) < 1 / (1 + exp(-a_z_d * z))).astype(int)\n",
        "y = a_z_y * z + a_d_y * x + normal(size=n, scale=sd)\n",
        "df = DataFrame({\"z\": z, \"x\": x, \"y\": y})"
      ],
      "id": "c0270c36"
    },
    {
      "cell_type": "markdown",
      "metadata": {},
      "source": [
        "# 2. Calculate the difference between groups of outcome y"
      ],
      "id": "54916f3c-07ce-4c1f-841e-d9f55e228e57"
    },
    {
      "cell_type": "code",
      "execution_count": 3,
      "metadata": {},
      "outputs": [
        {
          "output_type": "display_data",
          "metadata": {},
          "data": {
            "text/plain": [
              "7.2363405261057805"
            ]
          }
        }
      ],
      "source": [
        "df.query(\"x==1\").y.mean() - df.query(\"x==0\").y.mean()"
      ],
      "id": "40a4e1a2"
    },
    {
      "cell_type": "markdown",
      "metadata": {},
      "source": [
        "# 3. S-learner"
      ],
      "id": "e7712a87-df8d-4737-bd00-5233fb5cd90b"
    },
    {
      "cell_type": "code",
      "execution_count": 4,
      "metadata": {},
      "outputs": [
        {
          "output_type": "stream",
          "name": "stdout",
          "text": [
            "ATE\n",
            "0.0\n",
            "[0. 0. 0. 0. 0. 0. 0. 0. 0. 0. 0. 0. 0. 0. 0. 0. 0. 0. 0. 0.]"
          ]
        }
      ],
      "source": [
        "model = DecisionTreeRegressor(max_depth=max_depth)\n",
        "X = df[[\"x\", \"z\"]]\n",
        "y = df[\"y\"]\n",
        "model.fit(X, y)\n",
        "\n",
        "\n",
        "df_do_0 = df.copy()\n",
        "df_do_0.x = 0\n",
        "predictions_0 = model.predict(df_do_0[[\"x\", \"z\"]])\n",
        "\n",
        "df_do_1 = df.copy()\n",
        "df_do_1.x = 1\n",
        "predictions_1 = model.predict(df_do_1[[\"x\", \"z\"]])\n",
        "\n",
        "print(\"ATE\")\n",
        "print(mean(predictions_1 - predictions_0))\n",
        "print(predictions_1 - predictions_0)"
      ],
      "id": "b56a894b"
    },
    {
      "cell_type": "markdown",
      "metadata": {},
      "source": [
        "# 4. T-Learner"
      ],
      "id": "53e718dd-ed2d-47e3-abdf-67a464a93d1c"
    },
    {
      "cell_type": "code",
      "execution_count": 5,
      "metadata": {},
      "outputs": [
        {
          "output_type": "stream",
          "name": "stdout",
          "text": [
            "ATE\n",
            "4.278751389023496\n",
            "[ 3.24930881  2.61665433  3.56572722  6.09852166 15.18519343  3.74718771\n",
            "  2.01039955  3.06142779  7.02389793  3.33348004  5.85945538  2.01039955\n",
            "  1.93609629  2.26595439  2.61665433  2.61665433  3.24930881  5.80432186\n",
            "  2.61665433  6.70773005]"
          ]
        }
      ],
      "source": [
        "df_0 = df.query(\"x==0\")\n",
        "df_1 = df.query(\"x==1\")\n",
        "\n",
        "model_0 = DecisionTreeRegressor(max_depth=max_depth)\n",
        "X_0 = df_0[[\"x\", \"z\"]]\n",
        "y_0 = df_0[\"y\"]\n",
        "model_0.fit(X_0, y_0)\n",
        "\n",
        "model_1 = DecisionTreeRegressor(max_depth=max_depth)\n",
        "X_1 = df_1[[\"x\", \"z\"]]\n",
        "y_1 = df_1[\"y\"]\n",
        "model_1.fit(X_1, y_1)\n",
        "\n",
        "predictions_0 = model_0.predict(df[[\"x\", \"z\"]])\n",
        "predictions_1 = model_1.predict(df[[\"x\", \"z\"]])\n",
        "\n",
        "print(\"ATE\")\n",
        "print(mean(predictions_1 - predictions_0))\n",
        "print(predictions_1 - predictions_0)"
      ],
      "id": "a1cd2103"
    }
  ],
  "nbformat": 4,
  "nbformat_minor": 5,
  "metadata": {
    "kernelspec": {
      "name": "python3",
      "display_name": "Python 3 (ipykernel)",
      "language": "python"
    },
    "language_info": {
      "name": "python",
      "codemirror_mode": {
        "name": "ipython",
        "version": "3"
      },
      "file_extension": ".py",
      "mimetype": "text/x-python",
      "nbconvert_exporter": "python",
      "pygments_lexer": "ipython3",
      "version": "3.10.9"
    }
  }
}