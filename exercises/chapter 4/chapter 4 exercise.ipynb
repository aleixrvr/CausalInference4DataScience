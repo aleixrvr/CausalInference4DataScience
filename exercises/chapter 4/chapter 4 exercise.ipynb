{
 "cells": [
  {
   "cell_type": "code",
   "execution_count": 44,
   "id": "ad7bd50a",
   "metadata": {},
   "outputs": [],
   "source": [
    "from sklearn.tree import DecisionTreeRegressor\n",
    "from numpy.random import normal, uniform, seed\n",
    "from numpy import exp, mean\n",
    "from pandas import DataFrame"
   ]
  },
  {
   "cell_type": "code",
   "execution_count": 57,
   "id": "db9a5406",
   "metadata": {},
   "outputs": [],
   "source": [
    "seed(54321)\n",
    "n = 20\n",
    "max_depth = 5\n",
    "a_z_d = 5\n",
    "a_z_y = 5\n",
    "a_d_y = 2\n",
    "sd = 1"
   ]
  },
  {
   "cell_type": "markdown",
   "id": "b6a4214b",
   "metadata": {},
   "source": [
    "# Generate the data"
   ]
  },
  {
   "cell_type": "code",
   "execution_count": null,
   "id": "70f59e6b",
   "metadata": {},
   "outputs": [],
   "source": [
    "z = normal(size=n, scale=sd)\n",
    "x = (uniform(size=n) < 1/(1+exp(-a_z_d*z))).astype(int)\n",
    "y = a_z_y*z + a_d_y*x + normal(size=n, scale=sd)\n",
    "df = DataFrame({'z': z, 'x': x, 'y': y})"
   ]
  },
  {
   "cell_type": "markdown",
   "id": "fd96f846",
   "metadata": {},
   "source": [
    "# Calculate the difference between groups of outcome y"
   ]
  },
  {
   "cell_type": "code",
   "execution_count": 58,
   "id": "ed1877ac",
   "metadata": {},
   "outputs": [
    {
     "data": {
      "text/plain": [
       "7.2363405261057805"
      ]
     },
     "execution_count": 58,
     "metadata": {},
     "output_type": "execute_result"
    }
   ],
   "source": [
    "df.query('x==1').y.mean() - df.query('x==0').y.mean()  "
   ]
  },
  {
   "cell_type": "markdown",
   "id": "30df8343",
   "metadata": {},
   "source": [
    "# S-learner"
   ]
  },
  {
   "cell_type": "code",
   "execution_count": 50,
   "id": "ad7ed6cb",
   "metadata": {},
   "outputs": [
    {
     "name": "stdout",
     "output_type": "stream",
     "text": [
      "ATE\n",
      "0.0\n",
      "[0. 0. 0. 0. 0. 0. 0. 0. 0. 0. 0. 0. 0. 0. 0. 0. 0. 0. 0. 0.]\n"
     ]
    }
   ],
   "source": [
    "model = DecisionTreeRegressor(max_depth = max_depth)\n",
    "X = df[['x', 'z']]\n",
    "y = df['y']\n",
    "model.fit(X, y)\n",
    "\n",
    "\n",
    "df_do_0 = df.copy()\n",
    "df_do_0.x = 0\n",
    "predictions_0 = model.predict(df_do_0[['x', 'z']])\n",
    "\n",
    "df_do_1 = df.copy()\n",
    "df_do_1.x = 1\n",
    "predictions_1 = model.predict(df_do_1[['x', 'z']])\n",
    "\n",
    "print(\"ATE\")\n",
    "print(mean(predictions_1 - predictions_0))\n",
    "print(predictions_1 - predictions_0)"
   ]
  },
  {
   "cell_type": "markdown",
   "id": "92d7da60",
   "metadata": {},
   "source": [
    "# T-learner"
   ]
  },
  {
   "cell_type": "code",
   "execution_count": 56,
   "id": "11c89577",
   "metadata": {},
   "outputs": [
    {
     "name": "stdout",
     "output_type": "stream",
     "text": [
      "ATE\n",
      "4.278751389023496\n",
      "[ 3.24930881  2.61665433  3.56572722  6.09852166 15.18519343  3.74718771\n",
      "  2.01039955  3.06142779  7.02389793  3.33348004  5.85945538  2.01039955\n",
      "  1.93609629  2.26595439  2.61665433  2.61665433  3.24930881  5.80432186\n",
      "  2.61665433  6.70773005]\n"
     ]
    }
   ],
   "source": [
    "df_0 = df.query('x==0')\n",
    "df_1 = df.query('x==1')\n",
    "\n",
    "model_0 = DecisionTreeRegressor(max_depth = max_depth)\n",
    "X_0 = df_0[['x', 'z']]\n",
    "y_0 = df_0['y']\n",
    "model_0.fit(X_0, y_0)\n",
    "\n",
    "model_1 = DecisionTreeRegressor(max_depth = max_depth)\n",
    "X_1 = df_1[['x', 'z']]\n",
    "y_1 = df_1['y']\n",
    "model_1.fit(X_1, y_1)\n",
    "\n",
    "predictions_0 = model_0.predict(df[['x', 'z']])\n",
    "predictions_1 = model_1.predict(df[['x', 'z']])\n",
    "\n",
    "print(\"ATE\")\n",
    "print(mean(predictions_1 - predictions_0))\n",
    "print(predictions_1 - predictions_0)"
   ]
  }
 ],
 "metadata": {
  "kernelspec": {
   "display_name": "Python 3 (ipykernel)",
   "language": "python",
   "name": "python3"
  },
  "language_info": {
   "codemirror_mode": {
    "name": "ipython",
    "version": 3
   },
   "file_extension": ".py",
   "mimetype": "text/x-python",
   "name": "python",
   "nbconvert_exporter": "python",
   "pygments_lexer": "ipython3",
   "version": "3.10.4"
  }
 },
 "nbformat": 4,
 "nbformat_minor": 5
}
