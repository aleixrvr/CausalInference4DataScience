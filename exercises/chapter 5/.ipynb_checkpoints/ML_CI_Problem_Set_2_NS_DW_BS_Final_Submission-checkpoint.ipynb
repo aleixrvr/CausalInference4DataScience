{
 "cells": [
  {
   "cell_type": "markdown",
   "id": "58d9f96e",
   "metadata": {},
   "source": [
    "# Problem Set 2 - Propensity Scores"
   ]
  },
  {
   "cell_type": "markdown",
   "id": "428e01f4",
   "metadata": {},
   "source": [
    "Ben Seimon, Dorian Weber, Niamh Sheehan"
   ]
  },
  {
   "cell_type": "code",
   "execution_count": 190,
   "id": "9cf11e4e",
   "metadata": {},
   "outputs": [],
   "source": [
    "#pip install xgboost\n",
    "#pip install pyyaml\n",
    "import matplotlib.pyplot as plt\n",
    "from sklearn import datasets, metrics, model_selection, svm"
   ]
  },
  {
   "cell_type": "code",
   "execution_count": 191,
   "id": "f308b2a6",
   "metadata": {},
   "outputs": [],
   "source": [
    "#Imports\n",
    "import os\n",
    "import pandas as pd\n",
    "from sklearn.model_selection import train_test_split\n",
    "import xgboost as xgb\n",
    "import yaml\n",
    "from sklearn.model_selection import GridSearchCV\n",
    "from sklearn.metrics import confusion_matrix\n",
    "from sklearn.metrics import accuracy_score\n",
    "from sklearn.metrics import f1_score\n",
    "from sklearn.metrics import roc_auc_score\n",
    "import numpy as np\n",
    "import seaborn as sns\n",
    "\n",
    "from sklearn.compose import make_column_transformer\n",
    "from sklearn.preprocessing import StandardScaler\n",
    "from sklearn import preprocessing\n",
    "from sklearn.impute import KNNImputer\n",
    "from imblearn.over_sampling import SMOTE\n",
    "\n",
    "from sklearn.experimental import enable_halving_search_cv \n",
    "from imblearn.pipeline import Pipeline as imbPipeline\n",
    "from sklearn.model_selection import HalvingGridSearchCV\n",
    "from scipy.stats import chi2_contingency, ttest_ind\n",
    "\n",
    "from sklearn.linear_model import LogisticRegression\n",
    "import matplotlib.pyplot as plt"
   ]
  },
  {
   "cell_type": "code",
   "execution_count": 192,
   "id": "370f512d",
   "metadata": {},
   "outputs": [],
   "source": [
    "#pip install category_encoders"
   ]
  },
  {
   "cell_type": "code",
   "execution_count": 193,
   "id": "b5b5344c",
   "metadata": {},
   "outputs": [],
   "source": [
    "\n",
    "import pandas as pd\n",
    "import numpy as np \n",
    "import os\n",
    "import plotly.express as px\n",
    "import seaborn as sns\n",
    "import matplotlib.pyplot as plt \n",
    "from datetime import datetime \n",
    "from sklearn.neighbors import NearestNeighbors, KNeighborsClassifier\n",
    "from sklearn.experimental import enable_halving_search_cv \n",
    "from sklearn.model_selection import HalvingGridSearchCV\n",
    "from imblearn.pipeline import Pipeline as imbPipeline\n",
    "from sklearn.impute import SimpleImputer\n",
    "from sklearn.compose import make_column_transformer\n",
    "from sklearn.preprocessing import OneHotEncoder\n",
    "from sklearn.experimental import enable_iterative_imputer  # noqa\n",
    "from sklearn.impute import IterativeImputer\n",
    "from sklearn.preprocessing import StandardScaler\n",
    "import imblearn\n",
    "from imblearn.over_sampling import SMOTE\n",
    "from sklearn.model_selection import GridSearchCV\n",
    "from sklearn.pipeline import Pipeline\n",
    "from sklearn.compose import ColumnTransformer\n",
    "from sklearn.metrics import confusion_matrix\n",
    "from category_encoders import TargetEncoder, BinaryEncoder, WOEEncoder\n",
    "from sklearn.linear_model import BayesianRidge\n",
    "from sklearn.tree import DecisionTreeRegressor\n",
    "from sklearn.ensemble import ExtraTreesRegressor\n",
    "from sklearn.neighbors import KNeighborsRegressor\n",
    "import pickle\n",
    "from sklearn.impute import KNNImputer\n",
    "import datetime as dt\n",
    "from sklearn.svm import SVC\n"
   ]
  },
  {
   "cell_type": "code",
   "execution_count": 194,
   "id": "c7a6ad33",
   "metadata": {},
   "outputs": [],
   "source": [
    "#path\n",
    "path = '/Users/benseimon/Documents/Barca GSE/Studies/Term 2/ML and Causal Inference/Problem Sets/Problem Set 2'\n",
    "os.chdir(path)"
   ]
  },
  {
   "cell_type": "code",
   "execution_count": 195,
   "id": "803af01d",
   "metadata": {
    "scrolled": true
   },
   "outputs": [
    {
     "data": {
      "text/html": [
       "<div>\n",
       "<style scoped>\n",
       "    .dataframe tbody tr th:only-of-type {\n",
       "        vertical-align: middle;\n",
       "    }\n",
       "\n",
       "    .dataframe tbody tr th {\n",
       "        vertical-align: top;\n",
       "    }\n",
       "\n",
       "    .dataframe thead th {\n",
       "        text-align: right;\n",
       "    }\n",
       "</style>\n",
       "<table border=\"1\" class=\"dataframe\">\n",
       "  <thead>\n",
       "    <tr style=\"text-align: right;\">\n",
       "      <th></th>\n",
       "      <th>Unnamed: 0</th>\n",
       "      <th>cat1</th>\n",
       "      <th>cat2</th>\n",
       "      <th>ca</th>\n",
       "      <th>sadmdte</th>\n",
       "      <th>dschdte</th>\n",
       "      <th>dthdte</th>\n",
       "      <th>lstctdte</th>\n",
       "      <th>death</th>\n",
       "      <th>cardiohx</th>\n",
       "      <th>...</th>\n",
       "      <th>meta</th>\n",
       "      <th>hema</th>\n",
       "      <th>seps</th>\n",
       "      <th>trauma</th>\n",
       "      <th>ortho</th>\n",
       "      <th>adld3p</th>\n",
       "      <th>urin1</th>\n",
       "      <th>race</th>\n",
       "      <th>income</th>\n",
       "      <th>ptid</th>\n",
       "    </tr>\n",
       "  </thead>\n",
       "  <tbody>\n",
       "    <tr>\n",
       "      <th>0</th>\n",
       "      <td>1</td>\n",
       "      <td>COPD</td>\n",
       "      <td>NaN</td>\n",
       "      <td>Yes</td>\n",
       "      <td>11142</td>\n",
       "      <td>11151.0</td>\n",
       "      <td>NaN</td>\n",
       "      <td>11382</td>\n",
       "      <td>No</td>\n",
       "      <td>0</td>\n",
       "      <td>...</td>\n",
       "      <td>No</td>\n",
       "      <td>No</td>\n",
       "      <td>No</td>\n",
       "      <td>No</td>\n",
       "      <td>No</td>\n",
       "      <td>0.0</td>\n",
       "      <td>NaN</td>\n",
       "      <td>white</td>\n",
       "      <td>Under $11k</td>\n",
       "      <td>5</td>\n",
       "    </tr>\n",
       "    <tr>\n",
       "      <th>1</th>\n",
       "      <td>2</td>\n",
       "      <td>MOSF w/Sepsis</td>\n",
       "      <td>NaN</td>\n",
       "      <td>No</td>\n",
       "      <td>11799</td>\n",
       "      <td>11844.0</td>\n",
       "      <td>11844.0</td>\n",
       "      <td>11844</td>\n",
       "      <td>Yes</td>\n",
       "      <td>1</td>\n",
       "      <td>...</td>\n",
       "      <td>No</td>\n",
       "      <td>No</td>\n",
       "      <td>Yes</td>\n",
       "      <td>No</td>\n",
       "      <td>No</td>\n",
       "      <td>NaN</td>\n",
       "      <td>1437.0</td>\n",
       "      <td>white</td>\n",
       "      <td>Under $11k</td>\n",
       "      <td>7</td>\n",
       "    </tr>\n",
       "    <tr>\n",
       "      <th>2</th>\n",
       "      <td>3</td>\n",
       "      <td>MOSF w/Malignancy</td>\n",
       "      <td>MOSF w/Sepsis</td>\n",
       "      <td>Yes</td>\n",
       "      <td>12083</td>\n",
       "      <td>12143.0</td>\n",
       "      <td>NaN</td>\n",
       "      <td>12400</td>\n",
       "      <td>No</td>\n",
       "      <td>0</td>\n",
       "      <td>...</td>\n",
       "      <td>No</td>\n",
       "      <td>No</td>\n",
       "      <td>No</td>\n",
       "      <td>No</td>\n",
       "      <td>No</td>\n",
       "      <td>NaN</td>\n",
       "      <td>599.0</td>\n",
       "      <td>white</td>\n",
       "      <td>$25-$50k</td>\n",
       "      <td>9</td>\n",
       "    </tr>\n",
       "    <tr>\n",
       "      <th>3</th>\n",
       "      <td>4</td>\n",
       "      <td>ARF</td>\n",
       "      <td>NaN</td>\n",
       "      <td>No</td>\n",
       "      <td>11146</td>\n",
       "      <td>11183.0</td>\n",
       "      <td>11183.0</td>\n",
       "      <td>11182</td>\n",
       "      <td>Yes</td>\n",
       "      <td>0</td>\n",
       "      <td>...</td>\n",
       "      <td>No</td>\n",
       "      <td>No</td>\n",
       "      <td>No</td>\n",
       "      <td>No</td>\n",
       "      <td>No</td>\n",
       "      <td>NaN</td>\n",
       "      <td>NaN</td>\n",
       "      <td>white</td>\n",
       "      <td>$11-$25k</td>\n",
       "      <td>10</td>\n",
       "    </tr>\n",
       "    <tr>\n",
       "      <th>4</th>\n",
       "      <td>5</td>\n",
       "      <td>MOSF w/Sepsis</td>\n",
       "      <td>NaN</td>\n",
       "      <td>No</td>\n",
       "      <td>12035</td>\n",
       "      <td>12037.0</td>\n",
       "      <td>12037.0</td>\n",
       "      <td>12036</td>\n",
       "      <td>Yes</td>\n",
       "      <td>0</td>\n",
       "      <td>...</td>\n",
       "      <td>No</td>\n",
       "      <td>No</td>\n",
       "      <td>No</td>\n",
       "      <td>No</td>\n",
       "      <td>No</td>\n",
       "      <td>NaN</td>\n",
       "      <td>64.0</td>\n",
       "      <td>white</td>\n",
       "      <td>Under $11k</td>\n",
       "      <td>11</td>\n",
       "    </tr>\n",
       "  </tbody>\n",
       "</table>\n",
       "<p>5 rows × 63 columns</p>\n",
       "</div>"
      ],
      "text/plain": [
       "   Unnamed: 0               cat1           cat2   ca  sadmdte  dschdte  \\\n",
       "0           1               COPD            NaN  Yes    11142  11151.0   \n",
       "1           2      MOSF w/Sepsis            NaN   No    11799  11844.0   \n",
       "2           3  MOSF w/Malignancy  MOSF w/Sepsis  Yes    12083  12143.0   \n",
       "3           4                ARF            NaN   No    11146  11183.0   \n",
       "4           5      MOSF w/Sepsis            NaN   No    12035  12037.0   \n",
       "\n",
       "    dthdte  lstctdte death  cardiohx  ...  meta  hema  seps  trauma  ortho  \\\n",
       "0      NaN     11382    No         0  ...    No    No    No      No     No   \n",
       "1  11844.0     11844   Yes         1  ...    No    No   Yes      No     No   \n",
       "2      NaN     12400    No         0  ...    No    No    No      No     No   \n",
       "3  11183.0     11182   Yes         0  ...    No    No    No      No     No   \n",
       "4  12037.0     12036   Yes         0  ...    No    No    No      No     No   \n",
       "\n",
       "   adld3p   urin1   race      income  ptid  \n",
       "0     0.0     NaN  white  Under $11k     5  \n",
       "1     NaN  1437.0  white  Under $11k     7  \n",
       "2     NaN   599.0  white    $25-$50k     9  \n",
       "3     NaN     NaN  white    $11-$25k    10  \n",
       "4     NaN    64.0  white  Under $11k    11  \n",
       "\n",
       "[5 rows x 63 columns]"
      ]
     },
     "execution_count": 195,
     "metadata": {},
     "output_type": "execute_result"
    }
   ],
   "source": [
    "#Load the data\n",
    "data = pd.read_csv(\"rhc.csv\")\n",
    "confounders = open(\"cofounders.yml\")\n",
    "confounders = yaml.full_load(confounders)\n",
    "data.head()"
   ]
  },
  {
   "cell_type": "markdown",
   "id": "8e990144",
   "metadata": {},
   "source": [
    "#for convenience, drop missing data\n",
    "missing_data_bool = data.isnull().sum()>0\n",
    "features_with_missing_data = list(missing_data_bool[missing_data_bool==True].index)\n",
    "data = data.drop(features_with_missing_data, axis = 1)"
   ]
  },
  {
   "cell_type": "code",
   "execution_count": 196,
   "id": "a80b17f1",
   "metadata": {},
   "outputs": [
    {
     "name": "stdout",
     "output_type": "stream",
     "text": [
      "['No RHC' 'RHC']\n",
      "[0 1]\n"
     ]
    }
   ],
   "source": [
    "#classification exercise\n",
    "print(data['swang1'].unique())\n",
    "#convert to binary variable\n",
    "data['swang1'] = data['swang1'].replace({'No RHC': 0, 'RHC': 1})\n",
    "print(data['swang1'].unique())"
   ]
  },
  {
   "cell_type": "code",
   "execution_count": 197,
   "id": "c6a9fb1d",
   "metadata": {},
   "outputs": [
    {
     "name": "stdout",
     "output_type": "stream",
     "text": [
      "0    3551\n",
      "1    2184\n",
      "Name: swang1, dtype: int64\n"
     ]
    },
    {
     "data": {
      "text/plain": [
       "<AxesSubplot:xlabel='swang1', ylabel='count'>"
      ]
     },
     "execution_count": 197,
     "metadata": {},
     "output_type": "execute_result"
    },
    {
     "data": {
      "image/png": "[encoded data removed]",
      "text/plain": [
       "<Figure size 432x288 with 1 Axes>"
      ]
     },
     "metadata": {
      "needs_background": "light"
     },
     "output_type": "display_data"
    }
   ],
   "source": [
    "#checking for class imbalance\n",
    "print(data['swang1'].value_counts())\n",
    "sns.countplot(x=\"swang1\", data=data, palette=['green', 'red']) #not crazy but will try to rebalance in pipeline"
   ]
  },
  {
   "cell_type": "markdown",
   "id": "32125186",
   "metadata": {},
   "source": [
    "### Question 1: Train a model for the propensity score with the treatment variable 'swang1'"
   ]
  },
  {
   "cell_type": "code",
   "execution_count": 198,
   "id": "2af58cc9",
   "metadata": {},
   "outputs": [
    {
     "data": {
      "image/png": "[encoded data removed]",
      "text/plain": [
       "<Figure size 720x288 with 1 Axes>"
      ]
     },
     "metadata": {
      "needs_background": "light"
     },
     "output_type": "display_data"
    }
   ],
   "source": [
    "#Checking for missings\n",
    "Nulls= data.isnull().sum()\n",
    "x_vals = Nulls.index\n",
    "y_vals = 100*Nulls.values/len(data.index)\n",
    "plt.figure(figsize=(10,4))\n",
    "plt.xticks(rotation='vertical')\n",
    "plt.bar(x_vals, y_vals)\n",
    "plt.ylabel('% missing data')\n",
    "plt.title('Pctg missing data in original dataset')\n",
    "plt.show()\n",
    "\n",
    "#Levels of missingness too high to compute with confidence so drop\n",
    "data = data.drop(columns=['Unnamed: 0', 'cat2', 'dthdte', 'adld3p', 'urin1']).copy()\n",
    "\n",
    "#One missing value remains - just drop that observation\n",
    "data = data.dropna()"
   ]
  },
  {
   "cell_type": "code",
   "execution_count": 199,
   "id": "35aa0636",
   "metadata": {},
   "outputs": [],
   "source": [
    "#Set up data for model using only confounders\n",
    "treatment_var = data['swang1']\n",
    "to_split = data.drop(['swang1'], axis = 1)\n",
    "to_split = data[confounders]\n",
    "X_train, X_test, y_train, y_test = train_test_split(to_split, treatment_var, test_size=0.3, random_state=42)"
   ]
  },
  {
   "cell_type": "code",
   "execution_count": 200,
   "id": "5eb9b33b",
   "metadata": {},
   "outputs": [],
   "source": [
    "#assign features\n",
    "numerical_vars = list(to_split.dtypes[data.dtypes == 'int64'].index) + list(to_split.dtypes[data.dtypes == 'float64'].index) \n",
    "categorical_vars = list(to_split.dtypes[data.dtypes == 'O'].index) #to encode"
   ]
  },
  {
   "cell_type": "code",
   "execution_count": 201,
   "id": "5aac90c6",
   "metadata": {},
   "outputs": [],
   "source": [
    "#specifying elements of the pipeline\n",
    "#categorical_vars = list(data.dtypes[data.dtypes == 'O'].index)\n",
    "#dummy_creation = make_column_transformer((preprocessing.OneHotEncoder(drop = 'if_binary', handle_unknown='ignore'),\n",
    "                                          #[categorical_vars]), remainder = 'passthrough') \n",
    "categorical_vars\n",
    "categorical_transformer_one_hot = OneHotEncoder(drop='if_binary',handle_unknown=\"ignore\") #set handle_unknown to ignore, since if it encounters an unseen categorical type in the test set, it will automatically create a column of 0s \n",
    "preprocessor = ColumnTransformer(\n",
    "    transformers=[\n",
    "        (\"cat\", categorical_transformer_one_hot, categorical_vars),\n",
    "    ]\n",
    ")\n",
    "\n",
    "\n",
    "#specifying our classifier model\n",
    "xg_boost = xgb.XGBClassifier(objective='binary:logistic',\n",
    "                          booster='gbtree',\n",
    "                          eval_metric='auc',\n",
    "                          tree_method='hist',\n",
    "                          grow_policy='lossguide',\n",
    "                          use_label_encoder=False)\n",
    "##Final pipeline\n",
    "xg_boost_pipeline = imbPipeline([(\"preprocessor\", preprocessor),(\"classifier\", xg_boost)]\n",
    ")\n",
    "#specifying grid search parameters\n",
    "grid_params = [{'classifier__n_estimators':[35, 50, 60],\n",
    "                'classifier__gamma': [.75, 1, 1.5, 2],\n",
    "                'classifier__max_depth': [2, 3, 4],\n",
    "                }] #this is just an example - we ran more!\n",
    "xg_boost_pipeline = GridSearchCV(xg_boost_pipeline, param_grid = grid_params, scoring = 'roc_auc', cv = 3, verbose = 3) \n"
   ]
  },
  {
   "cell_type": "code",
   "execution_count": 202,
   "id": "d79dea7c",
   "metadata": {},
   "outputs": [
    {
     "name": "stdout",
     "output_type": "stream",
     "text": [
      "Fitting 3 folds for each of 36 candidates, totalling 108 fits\n",
      "[CV 1/3] END classifier__gamma=0.75, classifier__max_depth=2, classifier__n_estimators=35;, score=0.710 total time=   0.1s\n",
      "[CV 2/3] END classifier__gamma=0.75, classifier__max_depth=2, classifier__n_estimators=35;, score=0.705 total time=   0.0s\n",
      "[CV 3/3] END classifier__gamma=0.75, classifier__max_depth=2, classifier__n_estimators=35;, score=0.705 total time=   0.0s\n",
      "[CV 1/3] END classifier__gamma=0.75, classifier__max_depth=2, classifier__n_estimators=50;, score=0.713 total time=   0.0s\n",
      "[CV 2/3] END classifier__gamma=0.75, classifier__max_depth=2, classifier__n_estimators=50;, score=0.704 total time=   0.0s\n",
      "[CV 3/3] END classifier__gamma=0.75, classifier__max_depth=2, classifier__n_estimators=50;, score=0.705 total time=   0.0s\n",
      "[CV 1/3] END classifier__gamma=0.75, classifier__max_depth=2, classifier__n_estimators=60;, score=0.713 total time=   0.0s\n",
      "[CV 2/3] END classifier__gamma=0.75, classifier__max_depth=2, classifier__n_estimators=60;, score=0.704 total time=   0.0s\n",
      "[CV 3/3] END classifier__gamma=0.75, classifier__max_depth=2, classifier__n_estimators=60;, score=0.705 total time=   0.0s\n",
      "[CV 1/3] END classifier__gamma=0.75, classifier__max_depth=3, classifier__n_estimators=35;, score=0.708 total time=   0.0s\n",
      "[CV 2/3] END classifier__gamma=0.75, classifier__max_depth=3, classifier__n_estimators=35;, score=0.701 total time=   0.0s\n",
      "[CV 3/3] END classifier__gamma=0.75, classifier__max_depth=3, classifier__n_estimators=35;, score=0.703 total time=   0.0s\n",
      "[CV 1/3] END classifier__gamma=0.75, classifier__max_depth=3, classifier__n_estimators=50;, score=0.707 total time=   0.0s\n",
      "[CV 2/3] END classifier__gamma=0.75, classifier__max_depth=3, classifier__n_estimators=50;, score=0.700 total time=   0.0s\n",
      "[CV 3/3] END classifier__gamma=0.75, classifier__max_depth=3, classifier__n_estimators=50;, score=0.705 total time=   0.0s\n",
      "[CV 1/3] END classifier__gamma=0.75, classifier__max_depth=3, classifier__n_estimators=60;, score=0.707 total time=   0.0s\n",
      "[CV 2/3] END classifier__gamma=0.75, classifier__max_depth=3, classifier__n_estimators=60;, score=0.700 total time=   0.1s\n",
      "[CV 3/3] END classifier__gamma=0.75, classifier__max_depth=3, classifier__n_estimators=60;, score=0.705 total time=   0.0s\n",
      "[CV 1/3] END classifier__gamma=0.75, classifier__max_depth=4, classifier__n_estimators=35;, score=0.705 total time=   0.0s\n",
      "[CV 2/3] END classifier__gamma=0.75, classifier__max_depth=4, classifier__n_estimators=35;, score=0.697 total time=   0.0s\n",
      "[CV 3/3] END classifier__gamma=0.75, classifier__max_depth=4, classifier__n_estimators=35;, score=0.701 total time=   0.1s\n",
      "[CV 1/3] END classifier__gamma=0.75, classifier__max_depth=4, classifier__n_estimators=50;, score=0.707 total time=   0.0s\n",
      "[CV 2/3] END classifier__gamma=0.75, classifier__max_depth=4, classifier__n_estimators=50;, score=0.694 total time=   0.0s\n",
      "[CV 3/3] END classifier__gamma=0.75, classifier__max_depth=4, classifier__n_estimators=50;, score=0.701 total time=   0.0s\n",
      "[CV 1/3] END classifier__gamma=0.75, classifier__max_depth=4, classifier__n_estimators=60;, score=0.704 total time=   0.1s\n",
      "[CV 2/3] END classifier__gamma=0.75, classifier__max_depth=4, classifier__n_estimators=60;, score=0.693 total time=   0.1s\n",
      "[CV 3/3] END classifier__gamma=0.75, classifier__max_depth=4, classifier__n_estimators=60;, score=0.701 total time=   0.1s\n",
      "[CV 1/3] END classifier__gamma=1, classifier__max_depth=2, classifier__n_estimators=35;, score=0.710 total time=   0.0s\n",
      "[CV 2/3] END classifier__gamma=1, classifier__max_depth=2, classifier__n_estimators=35;, score=0.705 total time=   0.0s\n",
      "[CV 3/3] END classifier__gamma=1, classifier__max_depth=2, classifier__n_estimators=35;, score=0.705 total time=   0.0s\n",
      "[CV 1/3] END classifier__gamma=1, classifier__max_depth=2, classifier__n_estimators=50;, score=0.710 total time=   0.0s\n",
      "[CV 2/3] END classifier__gamma=1, classifier__max_depth=2, classifier__n_estimators=50;, score=0.705 total time=   0.0s\n",
      "[CV 3/3] END classifier__gamma=1, classifier__max_depth=2, classifier__n_estimators=50;, score=0.705 total time=   0.1s\n",
      "[CV 1/3] END classifier__gamma=1, classifier__max_depth=2, classifier__n_estimators=60;, score=0.710 total time=   0.0s\n",
      "[CV 2/3] END classifier__gamma=1, classifier__max_depth=2, classifier__n_estimators=60;, score=0.705 total time=   0.0s\n",
      "[CV 3/3] END classifier__gamma=1, classifier__max_depth=2, classifier__n_estimators=60;, score=0.705 total time=   0.0s\n",
      "[CV 1/3] END classifier__gamma=1, classifier__max_depth=3, classifier__n_estimators=35;, score=0.706 total time=   0.0s\n",
      "[CV 2/3] END classifier__gamma=1, classifier__max_depth=3, classifier__n_estimators=35;, score=0.698 total time=   0.0s\n",
      "[CV 3/3] END classifier__gamma=1, classifier__max_depth=3, classifier__n_estimators=35;, score=0.705 total time=   0.1s\n",
      "[CV 1/3] END classifier__gamma=1, classifier__max_depth=3, classifier__n_estimators=50;, score=0.706 total time=   0.0s\n",
      "[CV 2/3] END classifier__gamma=1, classifier__max_depth=3, classifier__n_estimators=50;, score=0.702 total time=   0.1s\n",
      "[CV 3/3] END classifier__gamma=1, classifier__max_depth=3, classifier__n_estimators=50;, score=0.705 total time=   0.0s\n",
      "[CV 1/3] END classifier__gamma=1, classifier__max_depth=3, classifier__n_estimators=60;, score=0.706 total time=   0.0s\n",
      "[CV 2/3] END classifier__gamma=1, classifier__max_depth=3, classifier__n_estimators=60;, score=0.702 total time=   0.0s\n",
      "[CV 3/3] END classifier__gamma=1, classifier__max_depth=3, classifier__n_estimators=60;, score=0.705 total time=   0.0s\n",
      "[CV 1/3] END classifier__gamma=1, classifier__max_depth=4, classifier__n_estimators=35;, score=0.701 total time=   0.1s\n",
      "[CV 2/3] END classifier__gamma=1, classifier__max_depth=4, classifier__n_estimators=35;, score=0.698 total time=   0.0s\n",
      "[CV 3/3] END classifier__gamma=1, classifier__max_depth=4, classifier__n_estimators=35;, score=0.703 total time=   0.0s\n",
      "[CV 1/3] END classifier__gamma=1, classifier__max_depth=4, classifier__n_estimators=50;, score=0.701 total time=   0.0s\n",
      "[CV 2/3] END classifier__gamma=1, classifier__max_depth=4, classifier__n_estimators=50;, score=0.697 total time=   0.1s\n",
      "[CV 3/3] END classifier__gamma=1, classifier__max_depth=4, classifier__n_estimators=50;, score=0.698 total time=   0.1s\n",
      "[CV 1/3] END classifier__gamma=1, classifier__max_depth=4, classifier__n_estimators=60;, score=0.701 total time=   0.1s\n",
      "[CV 2/3] END classifier__gamma=1, classifier__max_depth=4, classifier__n_estimators=60;, score=0.697 total time=   0.1s\n",
      "[CV 3/3] END classifier__gamma=1, classifier__max_depth=4, classifier__n_estimators=60;, score=0.698 total time=   0.1s\n",
      "[CV 1/3] END classifier__gamma=1.5, classifier__max_depth=2, classifier__n_estimators=35;, score=0.710 total time=   0.0s\n",
      "[CV 2/3] END classifier__gamma=1.5, classifier__max_depth=2, classifier__n_estimators=35;, score=0.705 total time=   0.0s\n",
      "[CV 3/3] END classifier__gamma=1.5, classifier__max_depth=2, classifier__n_estimators=35;, score=0.705 total time=   0.0s\n",
      "[CV 1/3] END classifier__gamma=1.5, classifier__max_depth=2, classifier__n_estimators=50;, score=0.710 total time=   0.0s\n",
      "[CV 2/3] END classifier__gamma=1.5, classifier__max_depth=2, classifier__n_estimators=50;, score=0.705 total time=   0.0s\n",
      "[CV 3/3] END classifier__gamma=1.5, classifier__max_depth=2, classifier__n_estimators=50;, score=0.705 total time=   0.0s\n",
      "[CV 1/3] END classifier__gamma=1.5, classifier__max_depth=2, classifier__n_estimators=60;, score=0.710 total time=   0.0s\n",
      "[CV 2/3] END classifier__gamma=1.5, classifier__max_depth=2, classifier__n_estimators=60;, score=0.705 total time=   0.0s\n",
      "[CV 3/3] END classifier__gamma=1.5, classifier__max_depth=2, classifier__n_estimators=60;, score=0.705 total time=   0.0s\n",
      "[CV 1/3] END classifier__gamma=1.5, classifier__max_depth=3, classifier__n_estimators=35;, score=0.708 total time=   0.0s\n",
      "[CV 2/3] END classifier__gamma=1.5, classifier__max_depth=3, classifier__n_estimators=35;, score=0.702 total time=   0.0s\n",
      "[CV 3/3] END classifier__gamma=1.5, classifier__max_depth=3, classifier__n_estimators=35;, score=0.708 total time=   0.0s\n",
      "[CV 1/3] END classifier__gamma=1.5, classifier__max_depth=3, classifier__n_estimators=50;, score=0.708 total time=   0.0s\n",
      "[CV 2/3] END classifier__gamma=1.5, classifier__max_depth=3, classifier__n_estimators=50;, score=0.702 total time=   0.0s\n",
      "[CV 3/3] END classifier__gamma=1.5, classifier__max_depth=3, classifier__n_estimators=50;, score=0.708 total time=   0.0s\n",
      "[CV 1/3] END classifier__gamma=1.5, classifier__max_depth=3, classifier__n_estimators=60;, score=0.708 total time=   0.0s\n"
     ]
    },
    {
     "name": "stdout",
     "output_type": "stream",
     "text": [
      "[CV 2/3] END classifier__gamma=1.5, classifier__max_depth=3, classifier__n_estimators=60;, score=0.702 total time=   0.0s\n",
      "[CV 3/3] END classifier__gamma=1.5, classifier__max_depth=3, classifier__n_estimators=60;, score=0.708 total time=   0.0s\n",
      "[CV 1/3] END classifier__gamma=1.5, classifier__max_depth=4, classifier__n_estimators=35;, score=0.705 total time=   0.0s\n",
      "[CV 2/3] END classifier__gamma=1.5, classifier__max_depth=4, classifier__n_estimators=35;, score=0.701 total time=   0.0s\n",
      "[CV 3/3] END classifier__gamma=1.5, classifier__max_depth=4, classifier__n_estimators=35;, score=0.705 total time=   0.0s\n",
      "[CV 1/3] END classifier__gamma=1.5, classifier__max_depth=4, classifier__n_estimators=50;, score=0.705 total time=   0.0s\n",
      "[CV 2/3] END classifier__gamma=1.5, classifier__max_depth=4, classifier__n_estimators=50;, score=0.701 total time=   0.1s\n",
      "[CV 3/3] END classifier__gamma=1.5, classifier__max_depth=4, classifier__n_estimators=50;, score=0.705 total time=   0.0s\n",
      "[CV 1/3] END classifier__gamma=1.5, classifier__max_depth=4, classifier__n_estimators=60;, score=0.705 total time=   0.0s\n",
      "[CV 2/3] END classifier__gamma=1.5, classifier__max_depth=4, classifier__n_estimators=60;, score=0.701 total time=   0.0s\n",
      "[CV 3/3] END classifier__gamma=1.5, classifier__max_depth=4, classifier__n_estimators=60;, score=0.705 total time=   0.1s\n",
      "[CV 1/3] END classifier__gamma=2, classifier__max_depth=2, classifier__n_estimators=35;, score=0.711 total time=   0.0s\n",
      "[CV 2/3] END classifier__gamma=2, classifier__max_depth=2, classifier__n_estimators=35;, score=0.705 total time=   0.0s\n",
      "[CV 3/3] END classifier__gamma=2, classifier__max_depth=2, classifier__n_estimators=35;, score=0.706 total time=   0.0s\n",
      "[CV 1/3] END classifier__gamma=2, classifier__max_depth=2, classifier__n_estimators=50;, score=0.711 total time=   0.0s\n",
      "[CV 2/3] END classifier__gamma=2, classifier__max_depth=2, classifier__n_estimators=50;, score=0.705 total time=   0.0s\n",
      "[CV 3/3] END classifier__gamma=2, classifier__max_depth=2, classifier__n_estimators=50;, score=0.706 total time=   0.0s\n",
      "[CV 1/3] END classifier__gamma=2, classifier__max_depth=2, classifier__n_estimators=60;, score=0.711 total time=   0.0s\n",
      "[CV 2/3] END classifier__gamma=2, classifier__max_depth=2, classifier__n_estimators=60;, score=0.705 total time=   0.0s\n",
      "[CV 3/3] END classifier__gamma=2, classifier__max_depth=2, classifier__n_estimators=60;, score=0.706 total time=   0.0s\n",
      "[CV 1/3] END classifier__gamma=2, classifier__max_depth=3, classifier__n_estimators=35;, score=0.705 total time=   0.0s\n",
      "[CV 2/3] END classifier__gamma=2, classifier__max_depth=3, classifier__n_estimators=35;, score=0.701 total time=   0.0s\n",
      "[CV 3/3] END classifier__gamma=2, classifier__max_depth=3, classifier__n_estimators=35;, score=0.705 total time=   0.0s\n",
      "[CV 1/3] END classifier__gamma=2, classifier__max_depth=3, classifier__n_estimators=50;, score=0.705 total time=   0.0s\n",
      "[CV 2/3] END classifier__gamma=2, classifier__max_depth=3, classifier__n_estimators=50;, score=0.701 total time=   0.0s\n",
      "[CV 3/3] END classifier__gamma=2, classifier__max_depth=3, classifier__n_estimators=50;, score=0.705 total time=   0.0s\n",
      "[CV 1/3] END classifier__gamma=2, classifier__max_depth=3, classifier__n_estimators=60;, score=0.705 total time=   0.0s\n",
      "[CV 2/3] END classifier__gamma=2, classifier__max_depth=3, classifier__n_estimators=60;, score=0.701 total time=   0.0s\n",
      "[CV 3/3] END classifier__gamma=2, classifier__max_depth=3, classifier__n_estimators=60;, score=0.705 total time=   0.0s\n",
      "[CV 1/3] END classifier__gamma=2, classifier__max_depth=4, classifier__n_estimators=35;, score=0.704 total time=   0.0s\n",
      "[CV 2/3] END classifier__gamma=2, classifier__max_depth=4, classifier__n_estimators=35;, score=0.701 total time=   0.0s\n",
      "[CV 3/3] END classifier__gamma=2, classifier__max_depth=4, classifier__n_estimators=35;, score=0.706 total time=   0.0s\n",
      "[CV 1/3] END classifier__gamma=2, classifier__max_depth=4, classifier__n_estimators=50;, score=0.704 total time=   0.0s\n",
      "[CV 2/3] END classifier__gamma=2, classifier__max_depth=4, classifier__n_estimators=50;, score=0.701 total time=   0.0s\n",
      "[CV 3/3] END classifier__gamma=2, classifier__max_depth=4, classifier__n_estimators=50;, score=0.706 total time=   0.0s\n",
      "[CV 1/3] END classifier__gamma=2, classifier__max_depth=4, classifier__n_estimators=60;, score=0.704 total time=   0.0s\n",
      "[CV 2/3] END classifier__gamma=2, classifier__max_depth=4, classifier__n_estimators=60;, score=0.701 total time=   0.1s\n",
      "[CV 3/3] END classifier__gamma=2, classifier__max_depth=4, classifier__n_estimators=60;, score=0.706 total time=   0.0s\n"
     ]
    },
    {
     "data": {
      "text/plain": [
       "GridSearchCV(cv=3,\n",
       "             estimator=Pipeline(steps=[('preprocessor',\n",
       "                                        ColumnTransformer(transformers=[('cat',\n",
       "                                                                         OneHotEncoder(drop='if_binary',\n",
       "                                                                                       handle_unknown='ignore'),\n",
       "                                                                         ['sex',\n",
       "                                                                          'race',\n",
       "                                                                          'income',\n",
       "                                                                          'ninsclas',\n",
       "                                                                          'cat1',\n",
       "                                                                          'dnr1',\n",
       "                                                                          'ca',\n",
       "                                                                          'resp',\n",
       "                                                                          'card',\n",
       "                                                                          'neuro',\n",
       "                                                                          'gastr',\n",
       "                                                                          'renal',\n",
       "                                                                          'meta',\n",
       "                                                                          'hema',\n",
       "                                                                          'seps',\n",
       "                                                                          'trauma',\n",
       "                                                                          'ortho'])])),\n",
       "                                       ('classifier',\n",
       "                                        XGBClassifier(base_score=None,\n",
       "                                                      booster='gbtree',...\n",
       "                                                      n_jobs=None,\n",
       "                                                      num_parallel_tree=None,\n",
       "                                                      predictor=None,\n",
       "                                                      random_state=None,\n",
       "                                                      reg_alpha=None,\n",
       "                                                      reg_lambda=None,\n",
       "                                                      scale_pos_weight=None,\n",
       "                                                      subsample=None,\n",
       "                                                      tree_method='hist',\n",
       "                                                      use_label_encoder=False,\n",
       "                                                      validate_parameters=None, ...))]),\n",
       "             param_grid=[{'classifier__gamma': [0.75, 1, 1.5, 2],\n",
       "                          'classifier__max_depth': [2, 3, 4],\n",
       "                          'classifier__n_estimators': [35, 50, 60]}],\n",
       "             scoring='roc_auc', verbose=3)"
      ]
     },
     "execution_count": 202,
     "metadata": {},
     "output_type": "execute_result"
    }
   ],
   "source": [
    "#Fit model to train data\n",
    "xg_boost_pipeline.fit(X_train, y_train)"
   ]
  },
  {
   "cell_type": "code",
   "execution_count": 203,
   "id": "b2454780",
   "metadata": {},
   "outputs": [
    {
     "name": "stdout",
     "output_type": "stream",
     "text": [
      "best parameters: {'classifier__gamma': 2, 'classifier__max_depth': 2, 'classifier__n_estimators': 35}\n"
     ]
    },
    {
     "data": {
      "text/plain": [
       "0.7074878181068556"
      ]
     },
     "execution_count": 203,
     "metadata": {},
     "output_type": "execute_result"
    }
   ],
   "source": [
    "print('best parameters:', xg_boost_pipeline.best_params_) #in case want to do a more narrow GridSearch\n",
    "xg_boost_pipeline.best_score_"
   ]
  },
  {
   "cell_type": "markdown",
   "id": "56154121",
   "metadata": {},
   "source": [
    "### Question 2: Is income a confounder?"
   ]
  },
  {
   "cell_type": "markdown",
   "id": "992b77cf",
   "metadata": {},
   "source": [
    "Initial intuition would lead one to believe that income will be casually related to access to healthcare (particularly considering the health care system in the USA). Additionally, it is not unreasonable to argue that income will also be related to our outcome variable, death. For us to check whether it is a confounder we must, \n",
    "1. Assess whether it is correlated with the treatment variable. (RHS procedure in this case). This may be a causal relationship, but it does not have to be.\n",
    "2. Whether it is causally related to the outcome variable. "
   ]
  },
  {
   "cell_type": "code",
   "execution_count": 204,
   "id": "4fdd58ec",
   "metadata": {},
   "outputs": [
    {
     "name": "stdout",
     "output_type": "stream",
     "text": [
      "p-value of chisquare test [Ho: variables are independent] = 0.99930027941502\n",
      "       income  swang1     value\n",
      "0    $11-$25k       0  0.612017\n",
      "1    $25-$50k       0  0.560538\n",
      "2      > $50k       0  0.569845\n",
      "3  Under $11k       0  0.645071\n",
      "4    $11-$25k       1  0.387983\n",
      "5    $25-$50k       1  0.439462\n",
      "6      > $50k       1  0.430155\n",
      "7  Under $11k       1  0.354929\n"
     ]
    },
    {
     "data": {
      "text/plain": [
       "<seaborn.axisgrid.FacetGrid at 0x7fa7e8edacd0>"
      ]
     },
     "execution_count": 204,
     "metadata": {},
     "output_type": "execute_result"
    },
    {
     "data": {
      "image/png": "[encoded data removed]",
      "text/plain": [
       "<Figure size 454.5x360 with 1 Axes>"
      ]
     },
     "metadata": {
      "needs_background": "light"
     },
     "output_type": "display_data"
    }
   ],
   "source": [
    "#Examining correlation between the treatment variable (rhs) and income\n",
    "ct = pd.crosstab(data['income'], data['swang1'], normalize='index')\n",
    "chi2, p, dof, ex = chi2_contingency(ct)\n",
    "print('p-value of chisquare test [Ho: variables are independent] =', p) #fail to reject H0 \n",
    "\n",
    "for_plot = ct.melt(ignore_index=False).reset_index()\n",
    "print(for_plot)\n",
    "sns.catplot(x=\"swang1\", y = 'value', hue=\"income\", data=for_plot, kind = 'bar')"
   ]
  },
  {
   "cell_type": "code",
   "execution_count": 205,
   "id": "e19f5f42",
   "metadata": {},
   "outputs": [
    {
     "name": "stdout",
     "output_type": "stream",
     "text": [
      "p-value of chi square test [Ho: variables are independent] = 0.9991248340238809\n",
      "       income death     value\n",
      "0    $11-$25k    No  0.363948\n",
      "1    $25-$50k    No  0.418161\n",
      "2      > $50k    No  0.394678\n",
      "3  Under $11k    No  0.321761\n",
      "4    $11-$25k   Yes  0.636052\n",
      "5    $25-$50k   Yes  0.581839\n",
      "6      > $50k   Yes  0.605322\n",
      "7  Under $11k   Yes  0.678239\n"
     ]
    },
    {
     "data": {
      "text/plain": [
       "<seaborn.axisgrid.FacetGrid at 0x7fa7f89f1040>"
      ]
     },
     "execution_count": 205,
     "metadata": {},
     "output_type": "execute_result"
    },
    {
     "data": {
      "image/png": "[encoded data removed]",
      "text/plain": [
       "<Figure size 454.5x360 with 1 Axes>"
      ]
     },
     "metadata": {
      "needs_background": "light"
     },
     "output_type": "display_data"
    }
   ],
   "source": [
    "#Assessing the relationship between our outcome variable (death) and income\n",
    "#Examining correlation between the treatment variable (rhs) and income\n",
    "ct = pd.crosstab(data['income'], data['death'], normalize='index')\n",
    "chi2, p, dof, ex = chi2_contingency(ct)\n",
    "print('p-value of chi square test [Ho: variables are independent] =', p) #fail to reject H0\n",
    "\n",
    "for_plot = ct.melt(ignore_index=False).reset_index()\n",
    "print(for_plot)\n",
    "\n",
    "#Visualise using a plot\n",
    "sns.catplot(x=\"death\", y = 'value', hue=\"income\", data=for_plot, kind = 'bar')"
   ]
  },
  {
   "cell_type": "markdown",
   "id": "cfdb9a1e",
   "metadata": {},
   "source": [
    "Given the p-values from conducting chi squared tests of association and the plots above the two criterion for income being a confounder are not met. As such we cannot conclude that it is a confounder. "
   ]
  },
  {
   "cell_type": "markdown",
   "id": "0690ffa9",
   "metadata": {},
   "source": [
    "### Question 3: Make predictions (probabilities) on the same dataset and calculate its AUC. Verify that it is higher than the AUC reported with the cross validation"
   ]
  },
  {
   "cell_type": "code",
   "execution_count": 206,
   "id": "143a10d5",
   "metadata": {},
   "outputs": [
    {
     "data": {
      "text/plain": [
       "0.7291748971139583"
      ]
     },
     "execution_count": 206,
     "metadata": {},
     "output_type": "execute_result"
    }
   ],
   "source": [
    "prop_score = xg_boost_pipeline.predict_proba(X_train)[:,1]\n",
    "roc_auc_score(y_train, prop_score)"
   ]
  },
  {
   "cell_type": "code",
   "execution_count": 207,
   "id": "0db9dfde",
   "metadata": {},
   "outputs": [
    {
     "name": "stderr",
     "output_type": "stream",
     "text": [
      "/Users/benseimon/opt/miniconda3/lib/python3.9/site-packages/sklearn/utils/deprecation.py:87: FutureWarning: Function plot_roc_curve is deprecated; Function `plot_roc_curve` is deprecated in 1.0 and will be removed in 1.2. Use one of the class methods: RocCurveDisplay.from_predictions or RocCurveDisplay.from_estimator.\n",
      "  warnings.warn(msg, category=FutureWarning)\n"
     ]
    },
    {
     "data": {
      "text/plain": [
       "<sklearn.metrics._plot.roc_curve.RocCurveDisplay at 0x7fa7e8debfa0>"
      ]
     },
     "execution_count": 207,
     "metadata": {},
     "output_type": "execute_result"
    },
    {
     "data": {
      "image/png": "[encoded data removed]",
      "text/plain": [
       "<Figure size 432x288 with 1 Axes>"
      ]
     },
     "metadata": {
      "needs_background": "light"
     },
     "output_type": "display_data"
    }
   ],
   "source": [
    "metrics.plot_roc_curve(xg_boost_pipeline, X_train, y_train)"
   ]
  },
  {
   "cell_type": "code",
   "execution_count": 208,
   "id": "b86ad73e",
   "metadata": {},
   "outputs": [
    {
     "name": "stdout",
     "output_type": "stream",
     "text": [
      "Higher than the AUC reported with cross validation: True\n"
     ]
    }
   ],
   "source": [
    "print(\"Higher than the AUC reported with cross validation:\", roc_auc_score(y_train, prop_score)>xg_boost_pipeline.best_score_)"
   ]
  },
  {
   "cell_type": "markdown",
   "id": "1fd374bb",
   "metadata": {},
   "source": [
    "### Question 4: Answer the question: from ML perspective the higher the AUC the better, but from PS perspective not. Why is it so?"
   ]
  },
  {
   "cell_type": "markdown",
   "id": "a0f52f57",
   "metadata": {},
   "source": [
    "A good performance predicting (high AUC) might suggest a bad propensity model because propensity scores should not be able to discriminate well between observations of treatment and control groups. \n",
    "\n",
    "Having a higher AUC indicates that you can successfully identify those who are in the control versus treatment group. From the PS perspective we want a positive probability for the treated to be in the control group (and vice versa). That is to say, there should be a common support such that in each subspace of features, there are observations from both the treated and control groups. Perfect discrimination between the two groups suggests that the groups occupy mutually exclusive regions of the feature-space and thus there is no common support. From the PS persepctive the existence of a common support is required. The higher the AUC, the less the overlap between the distributions of the control and treatment groups. Therefore from the PS perspective a higher AUC is not better. In fact, from a PS perspective a lower AUC is not necessarily bad because it may just mean that we are underfitting or that the treatment groups are mixed. "
   ]
  },
  {
   "cell_type": "markdown",
   "id": "9c28497a",
   "metadata": {},
   "source": [
    "### Question 5: Calculate the PS using 2-fold cross-fitting: split the data set into 2 equally sized data sets D1 and D2. Train a model for PS using D1 and predict on D2, and viceversa."
   ]
  },
  {
   "cell_type": "code",
   "execution_count": 209,
   "id": "e752d195",
   "metadata": {},
   "outputs": [],
   "source": [
    "#Load the data\n",
    "data = pd.read_csv(\"rhc.csv\")\n",
    "confounders = open(\"cofounders.yml\")\n",
    "confounders = yaml.full_load(confounders)\n",
    "#set up data\n",
    "data['swang1'] = data['swang1'].replace({'No RHC': 0, 'RHC': 1})\n",
    "#Levels of missingness too high to compute with confidence so drop\n",
    "data = data.drop(columns=['Unnamed: 0', 'cat2', 'dthdte', 'adld3p', 'urin1']).copy()\n",
    "#One missing value remains - just drop that observation\n",
    "data = data.dropna()\n",
    "#Set up data for model using only confounders\n",
    "treatment_var = data['swang1']\n",
    "to_split = data.drop(['swang1'], axis = 1)\n",
    "to_split = data[confounders]\n",
    "D1, D2, y1, y2 = train_test_split(to_split, treatment_var, test_size=0.5, random_state=42)\n",
    "#assign features\n",
    "numerical_vars = list(to_split.dtypes[data.dtypes == 'int64'].index) + list(to_split.dtypes[data.dtypes == 'float64'].index) \n",
    "categorical_vars = list(to_split.dtypes[data.dtypes == 'O'].index) #to encode"
   ]
  },
  {
   "cell_type": "code",
   "execution_count": 210,
   "id": "62d49957",
   "metadata": {},
   "outputs": [],
   "source": [
    "D1 = pd.get_dummies(D1, columns = categorical_vars)\n",
    "D2 = pd.get_dummies(D2, columns = categorical_vars)"
   ]
  },
  {
   "cell_type": "code",
   "execution_count": 211,
   "id": "1cc17f4b",
   "metadata": {},
   "outputs": [
    {
     "name": "stdout",
     "output_type": "stream",
     "text": [
      "n_iterations: 5\n",
      "n_required_iterations: 5\n",
      "n_possible_iterations: 5\n",
      "min_resources_: 35\n",
      "max_resources_: 2867\n",
      "aggressive_elimination: False\n",
      "factor: 3\n",
      "----------\n",
      "iter: 0\n",
      "n_candidates: 162\n",
      "n_resources: 35\n",
      "Fitting 3 folds for each of 162 candidates, totalling 486 fits\n",
      "----------\n",
      "iter: 1\n",
      "n_candidates: 54\n",
      "n_resources: 105\n",
      "Fitting 3 folds for each of 54 candidates, totalling 162 fits\n",
      "----------\n",
      "iter: 2\n",
      "n_candidates: 18\n",
      "n_resources: 315\n",
      "Fitting 3 folds for each of 18 candidates, totalling 54 fits\n",
      "----------\n",
      "iter: 3\n",
      "n_candidates: 6\n",
      "n_resources: 945\n",
      "Fitting 3 folds for each of 6 candidates, totalling 18 fits\n",
      "----------\n",
      "iter: 4\n",
      "n_candidates: 2\n",
      "n_resources: 2835\n",
      "Fitting 3 folds for each of 2 candidates, totalling 6 fits\n",
      "Best score in D1: 0.718068259946791\n",
      "n_iterations: 5\n",
      "n_required_iterations: 5\n",
      "n_possible_iterations: 5\n",
      "min_resources_: 35\n",
      "max_resources_: 2867\n",
      "aggressive_elimination: False\n",
      "factor: 3\n",
      "----------\n",
      "iter: 0\n",
      "n_candidates: 162\n",
      "n_resources: 35\n",
      "Fitting 3 folds for each of 162 candidates, totalling 486 fits\n",
      "----------\n",
      "iter: 1\n",
      "n_candidates: 54\n",
      "n_resources: 105\n",
      "Fitting 3 folds for each of 54 candidates, totalling 162 fits\n",
      "----------\n",
      "iter: 2\n",
      "n_candidates: 18\n",
      "n_resources: 315\n",
      "Fitting 3 folds for each of 18 candidates, totalling 54 fits\n",
      "----------\n",
      "iter: 3\n",
      "n_candidates: 6\n",
      "n_resources: 945\n",
      "Fitting 3 folds for each of 6 candidates, totalling 18 fits\n",
      "----------\n",
      "iter: 4\n",
      "n_candidates: 2\n",
      "n_resources: 2835\n",
      "Fitting 3 folds for each of 2 candidates, totalling 6 fits\n",
      "Best score in D2: 0.7254711834514094\n"
     ]
    }
   ],
   "source": [
    "# Define Grid to be searched\n",
    "params = {\n",
    "        'min_child_weight': [1, 5],\n",
    "        'gamma': [0.5, 1, 2],\n",
    "        'subsample': [0.6, 0.8, 1.0],\n",
    "        'colsample_bytree': [0.6, 0.8, 1.0],\n",
    "        'max_depth': [3, 4, 5]\n",
    "        }\n",
    "\n",
    "#set default class\n",
    "xgbc0 = xgb.XGBClassifier(objective='binary:logistic',\n",
    "                          booster='gbtree',\n",
    "                          eval_metric='auc',\n",
    "                          tree_method='hist',\n",
    "                          grow_policy='lossguide',\n",
    "                          use_label_encoder=False)\n",
    "\n",
    "##### D1 #####\n",
    "# Perform Grid Search\n",
    "clf_D1 = HalvingGridSearchCV(estimator=xgbc0, scoring='accuracy', param_grid=params, return_train_score=True, verbose=1, cv=3)\n",
    "\n",
    "# Obtain best score and parameters\n",
    "clf_D1.fit(D1, y1.values.ravel())\n",
    "print('Best score in D1: %s' % clf_D1.best_score_)\n",
    "params_D1 = clf_D1.best_params_\n",
    "\n",
    "##### D2 #####\n",
    "# Perform Grid Search\n",
    "clf_D2 = HalvingGridSearchCV(estimator=xgbc0, scoring='accuracy', param_grid=params, return_train_score=True, verbose=1, cv=3)\n",
    "\n",
    "# Obtain best score and parameters\n",
    "clf_D2.fit(D2, y2.values.ravel())\n",
    "print('Best score in D2: %s' % clf_D2.best_score_)\n",
    "params_D2 = clf_D2.best_params_\n",
    "\n",
    "\n",
    "##### Predict PS #####\n",
    "# Use model trained on D1 to predict in D2\n",
    "ps2 = clf_D1.predict_proba(D2)[:,1]\n",
    "\n",
    "# Use model trained on D2 to predict in D1\n",
    "ps1 = clf_D2.predict_proba(D1)[:,1]"
   ]
  },
  {
   "cell_type": "code",
   "execution_count": 212,
   "id": "213268c9",
   "metadata": {},
   "outputs": [
    {
     "name": "stdout",
     "output_type": "stream",
     "text": [
      "           age        edu  das2d3pc  surv2md1  aps1  scoma1   wtkilo1  \\\n",
      "4531  85.99298  12.000000  29.14844  0.702000    44       9  53.00000   \n",
      "3893  67.14600   9.945259  21.93359  0.282959    71      41  60.00000   \n",
      "2423  72.43500  12.000000  23.58594  0.368000    63      26  86.29999   \n",
      "5596  60.44098   9.945259  19.14453  0.644897    54     100  65.19995   \n",
      "4942  73.75800  10.000000  18.67578  0.498000    45       0  41.69998   \n",
      "...        ...        ...       ...       ...   ...     ...       ...   \n",
      "3772  76.28497  12.000000  14.00000  0.661987    57       9  53.79999   \n",
      "5192  39.67697  14.000000  29.14844  0.485000    65     100  83.39996   \n",
      "5227  96.42200  11.421669  17.74609  0.456970    61       0  49.50000   \n",
      "5391  81.77399  16.000000  22.57422  0.484000    63       0  87.00000   \n",
      "860   77.87799  20.000000  21.29688  0.158000    97     100  56.29999   \n",
      "\n",
      "         temp1  meanbp1  resp1  ...  meta_No  meta_Yes  hema_No  hema_Yes  \\\n",
      "4531  36.69531     69.0   30.0  ...        1         0        1         0   \n",
      "3893  41.00000     39.0   48.0  ...        0         1        1         0   \n",
      "2423  39.69531     54.0   32.0  ...        1         0        1         0   \n",
      "5596  38.00000     58.0   10.0  ...        1         0        1         0   \n",
      "4942  39.00000     46.0   10.0  ...        1         0        1         0   \n",
      "...        ...      ...    ...  ...      ...       ...      ...       ...   \n",
      "3772  38.09375     43.0   28.0  ...        1         0        1         0   \n",
      "5192  40.09375     36.0   24.0  ...        1         0        1         0   \n",
      "5227  35.79688     41.0   36.0  ...        1         0        1         0   \n",
      "5391  38.79688    129.0    9.0  ...        1         0        1         0   \n",
      "860   40.59375     43.0    4.0  ...        1         0        1         0   \n",
      "\n",
      "      seps_No  seps_Yes  trauma_No  trauma_Yes  ortho_No  ortho_Yes  \n",
      "4531        1         0          1           0         1          0  \n",
      "3893        1         0          1           0         1          0  \n",
      "2423        1         0          1           0         1          0  \n",
      "5596        1         0          1           0         1          0  \n",
      "4942        1         0          1           0         1          0  \n",
      "...       ...       ...        ...         ...       ...        ...  \n",
      "3772        0         1          1           0         1          0  \n",
      "5192        0         1          1           0         1          0  \n",
      "5227        1         0          1           0         1          0  \n",
      "5391        1         0          1           0         1          0  \n",
      "860         1         0          1           0         1          0  \n",
      "\n",
      "[2867 rows x 82 columns] 4531    0\n",
      "3893    0\n",
      "2423    0\n",
      "5596    1\n",
      "4942    1\n",
      "       ..\n",
      "3772    0\n",
      "5192    1\n",
      "5227    0\n",
      "5391    1\n",
      "860     0\n",
      "Name: swang1, Length: 2867, dtype: int64 [0.02951782 0.49945104 0.6391905  ... 0.22330508 0.83355856 0.13220693]\n"
     ]
    }
   ],
   "source": [
    "print(D1, y1, ps1)"
   ]
  },
  {
   "cell_type": "markdown",
   "id": "a2174c6e",
   "metadata": {},
   "source": [
    "### Question 6: Make the plot of the density of the PS by treatment group. Answer: Are the two groups comparable?"
   ]
  },
  {
   "cell_type": "code",
   "execution_count": 213,
   "id": "5df4cb4d",
   "metadata": {},
   "outputs": [
    {
     "data": {
      "image/png": "[encoded data removed]",
      "text/plain": [
       "<Figure size 1008x720 with 1 Axes>"
      ]
     },
     "metadata": {
      "needs_background": "light"
     },
     "output_type": "display_data"
    }
   ],
   "source": [
    "data_ps = pd.DataFrame({\"PS\": pd.concat([pd.Series(ps1), pd.Series(ps2)], ignore_index=True), \n",
    "                        \"Treatment\": pd.concat([y1, y2], ignore_index=True)})\n",
    "\n",
    "plt.figure(figsize=(14,10))\n",
    "sns.kdeplot(x = 'PS', hue = 'Treatment', data = data_ps, fill = True)\n",
    "plt.title('Density of Propensity Score by treatment', fontsize=14, style='italic')\n",
    "#plt.suptitle(\"Distributions of the propensity scores\", weight = 'bold').set_fontsize('20')\n",
    "plt.xlabel(\"Propensity score\").set_fontsize('13')\n",
    "plt.ylabel(\"Density\").set_fontsize('13')\n",
    "plt.show()"
   ]
  },
  {
   "cell_type": "markdown",
   "id": "e9254a41",
   "metadata": {},
   "source": [
    "Yes the two groups are comparable since the distributions overlap and therefore we have a common support."
   ]
  },
  {
   "cell_type": "markdown",
   "id": "a4fc1c5a",
   "metadata": {},
   "source": [
    "### Question 7: Calculate ATEs using T-learner & cross-fitting in order to estimate the effect of swang1 to death:"
   ]
  },
  {
   "cell_type": "code",
   "execution_count": 214,
   "id": "0aebc2e0",
   "metadata": {},
   "outputs": [],
   "source": [
    "#load data\n",
    "data = pd.read_csv(\"rhc.csv\")\n",
    "#select treatment variable, outcome variable and propensity scores\n",
    "data = data[['swang1','death']]\n",
    "#make treatment and outcome binary \n",
    "data['swang1'] = data['swang1'].replace({'No RHC': 0, 'RHC': 1})\n",
    "data['death'] = data['death'].replace({'Yes': 0, 'No': 1})"
   ]
  },
  {
   "cell_type": "markdown",
   "id": "b790191a",
   "metadata": {},
   "source": [
    "###### Step 1. Split the data set into 2 equally sized data sets D1 and D2"
   ]
  },
  {
   "cell_type": "code",
   "execution_count": 215,
   "id": "d9fcb154",
   "metadata": {},
   "outputs": [
    {
     "data": {
      "text/html": [
       "<div>\n",
       "<style scoped>\n",
       "    .dataframe tbody tr th:only-of-type {\n",
       "        vertical-align: middle;\n",
       "    }\n",
       "\n",
       "    .dataframe tbody tr th {\n",
       "        vertical-align: top;\n",
       "    }\n",
       "\n",
       "    .dataframe thead th {\n",
       "        text-align: right;\n",
       "    }\n",
       "</style>\n",
       "<table border=\"1\" class=\"dataframe\">\n",
       "  <thead>\n",
       "    <tr style=\"text-align: right;\">\n",
       "      <th></th>\n",
       "      <th>swang1</th>\n",
       "      <th>death</th>\n",
       "      <th>PS</th>\n",
       "    </tr>\n",
       "  </thead>\n",
       "  <tbody>\n",
       "    <tr>\n",
       "      <th>0</th>\n",
       "      <td>0</td>\n",
       "      <td>1</td>\n",
       "      <td>0.748543</td>\n",
       "    </tr>\n",
       "    <tr>\n",
       "      <th>1</th>\n",
       "      <td>1</td>\n",
       "      <td>0</td>\n",
       "      <td>0.597075</td>\n",
       "    </tr>\n",
       "    <tr>\n",
       "      <th>2</th>\n",
       "      <td>1</td>\n",
       "      <td>1</td>\n",
       "      <td>0.170636</td>\n",
       "    </tr>\n",
       "    <tr>\n",
       "      <th>3</th>\n",
       "      <td>0</td>\n",
       "      <td>0</td>\n",
       "      <td>0.168078</td>\n",
       "    </tr>\n",
       "    <tr>\n",
       "      <th>4</th>\n",
       "      <td>1</td>\n",
       "      <td>0</td>\n",
       "      <td>0.629537</td>\n",
       "    </tr>\n",
       "    <tr>\n",
       "      <th>...</th>\n",
       "      <td>...</td>\n",
       "      <td>...</td>\n",
       "      <td>...</td>\n",
       "    </tr>\n",
       "    <tr>\n",
       "      <th>5730</th>\n",
       "      <td>0</td>\n",
       "      <td>1</td>\n",
       "      <td>0.512096</td>\n",
       "    </tr>\n",
       "    <tr>\n",
       "      <th>5731</th>\n",
       "      <td>0</td>\n",
       "      <td>0</td>\n",
       "      <td>0.641378</td>\n",
       "    </tr>\n",
       "    <tr>\n",
       "      <th>5732</th>\n",
       "      <td>0</td>\n",
       "      <td>0</td>\n",
       "      <td>0.012502</td>\n",
       "    </tr>\n",
       "    <tr>\n",
       "      <th>5733</th>\n",
       "      <td>0</td>\n",
       "      <td>0</td>\n",
       "      <td>0.414727</td>\n",
       "    </tr>\n",
       "    <tr>\n",
       "      <th>5734</th>\n",
       "      <td>0</td>\n",
       "      <td>0</td>\n",
       "      <td>0.886153</td>\n",
       "    </tr>\n",
       "  </tbody>\n",
       "</table>\n",
       "<p>5734 rows × 3 columns</p>\n",
       "</div>"
      ],
      "text/plain": [
       "      swang1  death        PS\n",
       "0          0      1  0.748543\n",
       "1          1      0  0.597075\n",
       "2          1      1  0.170636\n",
       "3          0      0  0.168078\n",
       "4          1      0  0.629537\n",
       "...      ...    ...       ...\n",
       "5730       0      1  0.512096\n",
       "5731       0      0  0.641378\n",
       "5732       0      0  0.012502\n",
       "5733       0      0  0.414727\n",
       "5734       0      0  0.886153\n",
       "\n",
       "[5734 rows x 3 columns]"
      ]
     },
     "execution_count": 215,
     "metadata": {},
     "output_type": "execute_result"
    }
   ],
   "source": [
    "#add propensity scores from Qs 5 and 6 to previous D1 and D2 to get indices\n",
    "D2['PS'] = ps2\n",
    "D1['PS'] = ps1\n",
    "#concatenate propensity scores\n",
    "PS = pd.concat([D2['PS'], D1['PS']])\n",
    "PS.sort_index()\n",
    "#merge on index \n",
    "data = pd.merge(data, PS, left_index = True, right_index = True)\n",
    "data"
   ]
  },
  {
   "cell_type": "code",
   "execution_count": 216,
   "id": "67b300af",
   "metadata": {},
   "outputs": [],
   "source": [
    "#split data\n",
    "D1, D2, y1, y2 = train_test_split(data.drop('death', axis=1), data['death'], test_size=0.5, random_state=42)"
   ]
  },
  {
   "cell_type": "markdown",
   "id": "e7c4b188",
   "metadata": {},
   "source": [
    "##### Step 2. Take D1 and and train two models:\n",
    "* With swang1 = RHC: model f1,R\n",
    "* With swang1 = Non-RHC: model f1,N"
   ]
  },
  {
   "cell_type": "code",
   "execution_count": 217,
   "id": "b35b4c52",
   "metadata": {},
   "outputs": [],
   "source": [
    "D1['death'] = y1\n",
    "#get those that were treated and those that weren't for training models\n",
    "D1_treated = D1[D1['swang1'] == 1]\n",
    "D1_not_treated = D1[D1['swang1'] == 0]"
   ]
  },
  {
   "cell_type": "markdown",
   "id": "7c5009a3",
   "metadata": {},
   "source": [
    "##### Step 3. With swang1 = RHC: model f1,R"
   ]
  },
  {
   "cell_type": "code",
   "execution_count": 218,
   "id": "4fe7a720",
   "metadata": {},
   "outputs": [
    {
     "data": {
      "text/plain": [
       "XGBClassifier(base_score=0.5, booster='gbtree', colsample_bylevel=1,\n",
       "              colsample_bynode=1, colsample_bytree=1, enable_categorical=False,\n",
       "              eval_metric='auc', gamma=0, gpu_id=-1, grow_policy='lossguide',\n",
       "              importance_type=None, interaction_constraints='',\n",
       "              learning_rate=0.300000012, max_delta_step=0, max_depth=6,\n",
       "              min_child_weight=1, missing=nan, monotone_constraints='()',\n",
       "              n_estimators=100, n_jobs=8, num_parallel_tree=1, predictor='auto',\n",
       "              random_state=0, reg_alpha=0, reg_lambda=1, scale_pos_weight=1,\n",
       "              subsample=1, tree_method='hist', use_label_encoder=False,\n",
       "              validate_parameters=1, ...)"
      ]
     },
     "execution_count": 218,
     "metadata": {},
     "output_type": "execute_result"
    }
   ],
   "source": [
    "#model for treated\n",
    "xgbc_treated = xgb.XGBClassifier(objective='binary:logistic',\n",
    "                          booster='gbtree',\n",
    "                          eval_metric='auc',\n",
    "                          tree_method='hist',\n",
    "                          grow_policy='lossguide',\n",
    "                          use_label_encoder=False)\n",
    "xgbc_treated.fit(D1_treated[['PS']], D1_treated['death'])"
   ]
  },
  {
   "cell_type": "markdown",
   "id": "e656c7a1",
   "metadata": {},
   "source": [
    "##### Step 4. With swang1 = Non-RHC: model f1,N"
   ]
  },
  {
   "cell_type": "code",
   "execution_count": 219,
   "id": "0b31bd25",
   "metadata": {},
   "outputs": [
    {
     "data": {
      "text/plain": [
       "XGBClassifier(base_score=0.5, booster='gbtree', colsample_bylevel=1,\n",
       "              colsample_bynode=1, colsample_bytree=1, enable_categorical=False,\n",
       "              eval_metric='auc', gamma=0, gpu_id=-1, grow_policy='lossguide',\n",
       "              importance_type=None, interaction_constraints='',\n",
       "              learning_rate=0.300000012, max_delta_step=0, max_depth=6,\n",
       "              min_child_weight=1, missing=nan, monotone_constraints='()',\n",
       "              n_estimators=100, n_jobs=8, num_parallel_tree=1, predictor='auto',\n",
       "              random_state=0, reg_alpha=0, reg_lambda=1, scale_pos_weight=1,\n",
       "              subsample=1, tree_method='hist', use_label_encoder=False,\n",
       "              validate_parameters=1, ...)"
      ]
     },
     "execution_count": 219,
     "metadata": {},
     "output_type": "execute_result"
    }
   ],
   "source": [
    "#model for not treated\n",
    "xgbc_not_treated = xgb.XGBClassifier(objective='binary:logistic',\n",
    "                          booster='gbtree',\n",
    "                          eval_metric='auc',\n",
    "                          tree_method='hist',\n",
    "                          grow_policy='lossguide',\n",
    "                          use_label_encoder=False)\n",
    "xgbc_not_treated.fit(D1_not_treated[['PS']], D1_not_treated['death'])"
   ]
  },
  {
   "cell_type": "markdown",
   "id": "fa72db72",
   "metadata": {},
   "source": [
    "##### Step 5. Calculate on D2 the vector of predictions f1,R(x) - f1,N(x) where x ranges for all observations in D2."
   ]
  },
  {
   "cell_type": "code",
   "execution_count": 220,
   "id": "65a67b46",
   "metadata": {},
   "outputs": [
    {
     "data": {
      "text/plain": [
       "array([ 0.07242292, -0.13040303, -0.44562405, ...,  0.42656732,\n",
       "       -0.17741965,  0.05318129], dtype=float32)"
      ]
     },
     "execution_count": 220,
     "metadata": {},
     "output_type": "execute_result"
    }
   ],
   "source": [
    "D2_pred_D1_treated = xgbc_treated.predict_proba(D2[['PS']])[:,1]\n",
    "D2_pred_D1_not_treated = xgbc_not_treated.predict_proba(D2[['PS']])[:,1]\n",
    "D2_pred = D2_pred_D1_treated - D2_pred_D1_not_treated\n",
    "D2_pred"
   ]
  },
  {
   "cell_type": "markdown",
   "id": "64abafd1",
   "metadata": {},
   "source": [
    "##### Step 6. Switch roles between D1 and D2"
   ]
  },
  {
   "cell_type": "code",
   "execution_count": 221,
   "id": "4135e0ad",
   "metadata": {},
   "outputs": [],
   "source": [
    "D2['death'] = y2\n",
    "#get those that were treated and those that weren't for training models\n",
    "D2_treated = D2[D2['swang1'] == 1]\n",
    "D2_not_treated = D2[D2['swang1'] == 0]"
   ]
  },
  {
   "cell_type": "code",
   "execution_count": 222,
   "id": "8ba03fe9",
   "metadata": {},
   "outputs": [
    {
     "data": {
      "text/plain": [
       "XGBClassifier(base_score=0.5, booster='gbtree', colsample_bylevel=1,\n",
       "              colsample_bynode=1, colsample_bytree=1, enable_categorical=False,\n",
       "              eval_metric='auc', gamma=0, gpu_id=-1, grow_policy='lossguide',\n",
       "              importance_type=None, interaction_constraints='',\n",
       "              learning_rate=0.300000012, max_delta_step=0, max_depth=6,\n",
       "              min_child_weight=1, missing=nan, monotone_constraints='()',\n",
       "              n_estimators=100, n_jobs=8, num_parallel_tree=1, predictor='auto',\n",
       "              random_state=0, reg_alpha=0, reg_lambda=1, scale_pos_weight=1,\n",
       "              subsample=1, tree_method='hist', use_label_encoder=False,\n",
       "              validate_parameters=1, ...)"
      ]
     },
     "execution_count": 222,
     "metadata": {},
     "output_type": "execute_result"
    }
   ],
   "source": [
    "#model for not treated\n",
    "xgbc_not_treated = xgb.XGBClassifier(objective='binary:logistic',\n",
    "                          booster='gbtree',\n",
    "                          eval_metric='auc',\n",
    "                          tree_method='hist',\n",
    "                          grow_policy='lossguide',\n",
    "                          use_label_encoder=False)\n",
    "xgbc_not_treated.fit(D2_not_treated[['PS']], D2_not_treated['death'])"
   ]
  },
  {
   "cell_type": "code",
   "execution_count": 223,
   "id": "20da5904",
   "metadata": {},
   "outputs": [
    {
     "data": {
      "text/plain": [
       "XGBClassifier(base_score=0.5, booster='gbtree', colsample_bylevel=1,\n",
       "              colsample_bynode=1, colsample_bytree=1, enable_categorical=False,\n",
       "              eval_metric='auc', gamma=0, gpu_id=-1, grow_policy='lossguide',\n",
       "              importance_type=None, interaction_constraints='',\n",
       "              learning_rate=0.300000012, max_delta_step=0, max_depth=6,\n",
       "              min_child_weight=1, missing=nan, monotone_constraints='()',\n",
       "              n_estimators=100, n_jobs=8, num_parallel_tree=1, predictor='auto',\n",
       "              random_state=0, reg_alpha=0, reg_lambda=1, scale_pos_weight=1,\n",
       "              subsample=1, tree_method='hist', use_label_encoder=False,\n",
       "              validate_parameters=1, ...)"
      ]
     },
     "execution_count": 223,
     "metadata": {},
     "output_type": "execute_result"
    }
   ],
   "source": [
    "#model for treated\n",
    "xgbc_treated = xgb.XGBClassifier(objective='binary:logistic',\n",
    "                          booster='gbtree',\n",
    "                          eval_metric='auc',\n",
    "                          tree_method='hist',\n",
    "                          grow_policy='lossguide',\n",
    "                          use_label_encoder=False)\n",
    "xgbc_treated.fit(D2_treated[['PS']], D2_treated['death'])"
   ]
  },
  {
   "cell_type": "code",
   "execution_count": 224,
   "id": "49044d22",
   "metadata": {},
   "outputs": [
    {
     "data": {
      "text/plain": [
       "array([ 0.00349912, -0.3310895 ,  0.3470558 , ..., -0.17020388,\n",
       "       -0.17273088,  0.31211555], dtype=float32)"
      ]
     },
     "execution_count": 224,
     "metadata": {},
     "output_type": "execute_result"
    }
   ],
   "source": [
    "D1_pred_D2_treated = xgbc_treated.predict_proba(D1[['PS']])[:,1]\n",
    "D1_pred_D2_not_treated = xgbc_not_treated.predict_proba(D1[['PS']])[:,1]\n",
    "D1_pred = D1_pred_D2_treated - D1_pred_D2_not_treated\n",
    "D1_pred"
   ]
  },
  {
   "cell_type": "markdown",
   "id": "82be42b0",
   "metadata": {},
   "source": [
    "##### Step 7. Calculate ATEs"
   ]
  },
  {
   "cell_type": "code",
   "execution_count": 225,
   "id": "450fdbf9",
   "metadata": {},
   "outputs": [
    {
     "name": "stdout",
     "output_type": "stream",
     "text": [
      "Average treatment effect in D1: -0.03622533\n",
      "Average treatment effect in D2: -0.0372661\n"
     ]
    }
   ],
   "source": [
    "ATE_1 = D1_pred.mean()\n",
    "ATE_2 = D2_pred.mean()\n",
    "print(\"Average treatment effect in D1:\", ATE_1)\n",
    "print(\"Average treatment effect in D2:\", ATE_2)"
   ]
  }
 ],
 "metadata": {
  "kernelspec": {
   "display_name": "Python 3 (ipykernel)",
   "language": "python",
   "name": "python3"
  },
  "language_info": {
   "codemirror_mode": {
    "name": "ipython",
    "version": 3
   },
   "file_extension": ".py",
   "mimetype": "text/x-python",
   "name": "python",
   "nbconvert_exporter": "python",
   "pygments_lexer": "ipython3",
   "version": "3.10.4"
  }
 },
 "nbformat": 4,
 "nbformat_minor": 5
}
