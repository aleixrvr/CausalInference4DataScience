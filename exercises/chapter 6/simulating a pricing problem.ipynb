{
 "cells": [
  {
   "cell_type": "code",
   "execution_count": 10,
   "id": "3e158f7e",
   "metadata": {},
   "outputs": [],
   "source": [
    "from numpy.random import choice, normal\n",
    "import statsmodels.formula.api as smf\n",
    "import random\n",
    "import pandas as pd\n",
    "\n",
    "random.seed(1234)"
   ]
  },
  {
   "cell_type": "markdown",
   "id": "1c53fa1c",
   "metadata": {},
   "source": [
    "# Generate the data"
   ]
  },
  {
   "cell_type": "code",
   "execution_count": 11,
   "id": "79e3174b",
   "metadata": {},
   "outputs": [],
   "source": [
    "n = 100\n",
    "\n",
    "distance = choice([0, 0.5, 1], n)\n",
    "price = 10 - 3*distance + normal(loc=0, scale=.5, size=n)\n",
    "customers = 30 - 2*price - 10*distance + normal(loc=0, scale=2, size=n)\n",
    "\n",
    "df = pd.DataFrame({'price': price, 'distance': distance, 'customers': customers})"
   ]
  },
  {
   "cell_type": "markdown",
   "id": "3cf7821d",
   "metadata": {},
   "source": [
    "# Impact of price"
   ]
  },
  {
   "cell_type": "code",
   "execution_count": 12,
   "id": "aea6fca5",
   "metadata": {},
   "outputs": [
    {
     "data": {
      "text/html": [
       "<table class=\"simpletable\">\n",
       "<caption>OLS Regression Results</caption>\n",
       "<tr>\n",
       "  <th>Dep. Variable:</th>        <td>customers</td>    <th>  R-squared:         </th> <td>   0.170</td>\n",
       "</tr>\n",
       "<tr>\n",
       "  <th>Model:</th>                   <td>OLS</td>       <th>  Adj. R-squared:    </th> <td>   0.162</td>\n",
       "</tr>\n",
       "<tr>\n",
       "  <th>Method:</th>             <td>Least Squares</td>  <th>  F-statistic:       </th> <td>   20.09</td>\n",
       "</tr>\n",
       "<tr>\n",
       "  <th>Date:</th>             <td>Tue, 30 Aug 2022</td> <th>  Prob (F-statistic):</th> <td>2.00e-05</td>\n",
       "</tr>\n",
       "<tr>\n",
       "  <th>Time:</th>                 <td>19:15:45</td>     <th>  Log-Likelihood:    </th> <td> -236.99</td>\n",
       "</tr>\n",
       "<tr>\n",
       "  <th>No. Observations:</th>      <td>   100</td>      <th>  AIC:               </th> <td>   478.0</td>\n",
       "</tr>\n",
       "<tr>\n",
       "  <th>Df Residuals:</th>          <td>    98</td>      <th>  BIC:               </th> <td>   483.2</td>\n",
       "</tr>\n",
       "<tr>\n",
       "  <th>Df Model:</th>              <td>     1</td>      <th>                     </th>     <td> </td>   \n",
       "</tr>\n",
       "<tr>\n",
       "  <th>Covariance Type:</th>      <td>nonrobust</td>    <th>                     </th>     <td> </td>   \n",
       "</tr>\n",
       "</table>\n",
       "<table class=\"simpletable\">\n",
       "<tr>\n",
       "      <td></td>         <th>coef</th>     <th>std err</th>      <th>t</th>      <th>P>|t|</th>  <th>[0.025</th>    <th>0.975]</th>  \n",
       "</tr>\n",
       "<tr>\n",
       "  <th>Intercept</th> <td>    0.8113</td> <td>    1.687</td> <td>    0.481</td> <td> 0.632</td> <td>   -2.536</td> <td>    4.159</td>\n",
       "</tr>\n",
       "<tr>\n",
       "  <th>price</th>     <td>    0.8743</td> <td>    0.195</td> <td>    4.482</td> <td> 0.000</td> <td>    0.487</td> <td>    1.261</td>\n",
       "</tr>\n",
       "</table>\n",
       "<table class=\"simpletable\">\n",
       "<tr>\n",
       "  <th>Omnibus:</th>       <td> 2.824</td> <th>  Durbin-Watson:     </th> <td>   1.765</td>\n",
       "</tr>\n",
       "<tr>\n",
       "  <th>Prob(Omnibus):</th> <td> 0.244</td> <th>  Jarque-Bera (JB):  </th> <td>   2.512</td>\n",
       "</tr>\n",
       "<tr>\n",
       "  <th>Skew:</th>          <td>-0.292</td> <th>  Prob(JB):          </th> <td>   0.285</td>\n",
       "</tr>\n",
       "<tr>\n",
       "  <th>Kurtosis:</th>      <td> 2.489</td> <th>  Cond. No.          </th> <td>    56.5</td>\n",
       "</tr>\n",
       "</table><br/><br/>Notes:<br/>[1] Standard Errors assume that the covariance matrix of the errors is correctly specified."
      ],
      "text/plain": [
       "<class 'statsmodels.iolib.summary.Summary'>\n",
       "\"\"\"\n",
       "                            OLS Regression Results                            \n",
       "==============================================================================\n",
       "Dep. Variable:              customers   R-squared:                       0.170\n",
       "Model:                            OLS   Adj. R-squared:                  0.162\n",
       "Method:                 Least Squares   F-statistic:                     20.09\n",
       "Date:                Tue, 30 Aug 2022   Prob (F-statistic):           2.00e-05\n",
       "Time:                        19:15:45   Log-Likelihood:                -236.99\n",
       "No. Observations:                 100   AIC:                             478.0\n",
       "Df Residuals:                      98   BIC:                             483.2\n",
       "Df Model:                           1                                         \n",
       "Covariance Type:            nonrobust                                         \n",
       "==============================================================================\n",
       "                 coef    std err          t      P>|t|      [0.025      0.975]\n",
       "------------------------------------------------------------------------------\n",
       "Intercept      0.8113      1.687      0.481      0.632      -2.536       4.159\n",
       "price          0.8743      0.195      4.482      0.000       0.487       1.261\n",
       "==============================================================================\n",
       "Omnibus:                        2.824   Durbin-Watson:                   1.765\n",
       "Prob(Omnibus):                  0.244   Jarque-Bera (JB):                2.512\n",
       "Skew:                          -0.292   Prob(JB):                        0.285\n",
       "Kurtosis:                       2.489   Cond. No.                         56.5\n",
       "==============================================================================\n",
       "\n",
       "Notes:\n",
       "[1] Standard Errors assume that the covariance matrix of the errors is correctly specified.\n",
       "\"\"\""
      ]
     },
     "execution_count": 12,
     "metadata": {},
     "output_type": "execute_result"
    }
   ],
   "source": [
    "mod = smf.ols(formula='customers ~ price', data=df)\n",
    "\n",
    "mod.fit().summary()"
   ]
  },
  {
   "cell_type": "code",
   "execution_count": null,
   "id": "6f449b84",
   "metadata": {},
   "outputs": [],
   "source": []
  }
 ],
 "metadata": {
  "kernelspec": {
   "display_name": "nuclia",
   "language": "python",
   "name": "nuclia"
  },
  "language_info": {
   "codemirror_mode": {
    "name": "ipython",
    "version": 3
   },
   "file_extension": ".py",
   "mimetype": "text/x-python",
   "name": "python",
   "nbconvert_exporter": "python",
   "pygments_lexer": "ipython3",
   "version": "3.10.4"
  }
 },
 "nbformat": 4,
 "nbformat_minor": 5
}
