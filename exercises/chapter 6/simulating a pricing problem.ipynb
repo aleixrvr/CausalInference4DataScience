{
 "cells": [
  {
   "cell_type": "code",
   "execution_count": 6,
   "id": "3e158f7e",
   "metadata": {},
   "outputs": [],
   "source": [
    "from numpy.random import choice, normal\n",
    "import statsmodels.formula.api as smf\n",
    "import random\n",
    "import pandas as pd\n",
    "import seaborn as sns\n",
    "import matplotlib.pyplot as plt\n",
    "\n",
    "random.seed(1234)"
   ]
  },
  {
   "cell_type": "markdown",
   "id": "1c53fa1c",
   "metadata": {},
   "source": [
    "# Data simulation"
   ]
  },
  {
   "cell_type": "code",
   "execution_count": 2,
   "id": "79e3174b",
   "metadata": {},
   "outputs": [],
   "source": [
    "n = 100\n",
    "\n",
    "distance = choice([0, 0.5, 1], n)\n",
    "price = 10 - 3*distance + normal(loc=0, scale=.5, size=n)\n",
    "customers = 30 - 2*price - 10*distance + normal(loc=0, scale=2, size=n)\n",
    "\n",
    "df = pd.DataFrame({'price': price, 'distance': distance, 'customers': customers})"
   ]
  },
  {
   "cell_type": "markdown",
   "id": "3cf7821d",
   "metadata": {},
   "source": [
    "# Impact of price\n",
    "\n",
    "Running a linear regression"
   ]
  },
  {
   "cell_type": "code",
   "execution_count": 15,
   "id": "aea6fca5",
   "metadata": {},
   "outputs": [
    {
     "data": {
      "text/html": [
       "<table class=\"simpletable\">\n",
       "<caption>OLS Regression Results</caption>\n",
       "<tr>\n",
       "  <th>Dep. Variable:</th>        <td>customers</td>    <th>  R-squared:         </th> <td>   0.191</td>\n",
       "</tr>\n",
       "<tr>\n",
       "  <th>Model:</th>                   <td>OLS</td>       <th>  Adj. R-squared:    </th> <td>   0.183</td>\n",
       "</tr>\n",
       "<tr>\n",
       "  <th>Method:</th>             <td>Least Squares</td>  <th>  F-statistic:       </th> <td>   23.16</td>\n",
       "</tr>\n",
       "<tr>\n",
       "  <th>Date:</th>             <td>Sun, 04 Sep 2022</td> <th>  Prob (F-statistic):</th> <td>5.41e-06</td>\n",
       "</tr>\n",
       "<tr>\n",
       "  <th>Time:</th>                 <td>12:26:48</td>     <th>  Log-Likelihood:    </th> <td> -236.99</td>\n",
       "</tr>\n",
       "<tr>\n",
       "  <th>No. Observations:</th>      <td>   100</td>      <th>  AIC:               </th> <td>   478.0</td>\n",
       "</tr>\n",
       "<tr>\n",
       "  <th>Df Residuals:</th>          <td>    98</td>      <th>  BIC:               </th> <td>   483.2</td>\n",
       "</tr>\n",
       "<tr>\n",
       "  <th>Df Model:</th>              <td>     1</td>      <th>                     </th>     <td> </td>   \n",
       "</tr>\n",
       "<tr>\n",
       "  <th>Covariance Type:</th>      <td>nonrobust</td>    <th>                     </th>     <td> </td>   \n",
       "</tr>\n",
       "</table>\n",
       "<table class=\"simpletable\">\n",
       "<tr>\n",
       "      <td></td>         <th>coef</th>     <th>std err</th>      <th>t</th>      <th>P>|t|</th>  <th>[0.025</th>    <th>0.975]</th>  \n",
       "</tr>\n",
       "<tr>\n",
       "  <th>Intercept</th> <td>   -0.6948</td> <td>    1.818</td> <td>   -0.382</td> <td> 0.703</td> <td>   -4.302</td> <td>    2.912</td>\n",
       "</tr>\n",
       "<tr>\n",
       "  <th>price</th>     <td>    1.0036</td> <td>    0.209</td> <td>    4.812</td> <td> 0.000</td> <td>    0.590</td> <td>    1.417</td>\n",
       "</tr>\n",
       "</table>\n",
       "<table class=\"simpletable\">\n",
       "<tr>\n",
       "  <th>Omnibus:</th>       <td> 0.158</td> <th>  Durbin-Watson:     </th> <td>   1.933</td>\n",
       "</tr>\n",
       "<tr>\n",
       "  <th>Prob(Omnibus):</th> <td> 0.924</td> <th>  Jarque-Bera (JB):  </th> <td>   0.262</td>\n",
       "</tr>\n",
       "<tr>\n",
       "  <th>Skew:</th>          <td> 0.089</td> <th>  Prob(JB):          </th> <td>   0.877</td>\n",
       "</tr>\n",
       "<tr>\n",
       "  <th>Kurtosis:</th>      <td> 2.822</td> <th>  Cond. No.          </th> <td>    61.4</td>\n",
       "</tr>\n",
       "</table><br/><br/>Notes:<br/>[1] Standard Errors assume that the covariance matrix of the errors is correctly specified."
      ],
      "text/plain": [
       "<class 'statsmodels.iolib.summary.Summary'>\n",
       "\"\"\"\n",
       "                            OLS Regression Results                            \n",
       "==============================================================================\n",
       "Dep. Variable:              customers   R-squared:                       0.191\n",
       "Model:                            OLS   Adj. R-squared:                  0.183\n",
       "Method:                 Least Squares   F-statistic:                     23.16\n",
       "Date:                Sun, 04 Sep 2022   Prob (F-statistic):           5.41e-06\n",
       "Time:                        12:26:48   Log-Likelihood:                -236.99\n",
       "No. Observations:                 100   AIC:                             478.0\n",
       "Df Residuals:                      98   BIC:                             483.2\n",
       "Df Model:                           1                                         \n",
       "Covariance Type:            nonrobust                                         \n",
       "==============================================================================\n",
       "                 coef    std err          t      P>|t|      [0.025      0.975]\n",
       "------------------------------------------------------------------------------\n",
       "Intercept     -0.6948      1.818     -0.382      0.703      -4.302       2.912\n",
       "price          1.0036      0.209      4.812      0.000       0.590       1.417\n",
       "==============================================================================\n",
       "Omnibus:                        0.158   Durbin-Watson:                   1.933\n",
       "Prob(Omnibus):                  0.924   Jarque-Bera (JB):                0.262\n",
       "Skew:                           0.089   Prob(JB):                        0.877\n",
       "Kurtosis:                       2.822   Cond. No.                         61.4\n",
       "==============================================================================\n",
       "\n",
       "Notes:\n",
       "[1] Standard Errors assume that the covariance matrix of the errors is correctly specified.\n",
       "\"\"\""
      ]
     },
     "execution_count": 15,
     "metadata": {},
     "output_type": "execute_result"
    }
   ],
   "source": [
    "smf.ols(formula='customers ~ price', data=df).fit().summary()"
   ]
  },
  {
   "cell_type": "markdown",
   "id": "9c77ee89",
   "metadata": {},
   "source": [
    "We see that the coefficient of the price is positive, which shouldn't be like this (we know for sure that it should be -2)\n",
    "\n",
    "If we plot the data, we see that there is a positive trend of the price into the number of customers, so it is not a problem of the linear regression."
   ]
  },
  {
   "cell_type": "code",
   "execution_count": 4,
   "id": "3d355393",
   "metadata": {},
   "outputs": [
    {
     "data": {
      "text/plain": [
       "<AxesSubplot:xlabel='price', ylabel='customers'>"
      ]
     },
     "execution_count": 4,
     "metadata": {},
     "output_type": "execute_result"
    },
    {
     "data": {
      "image/png": "[encoded data removed]",
      "text/plain": [
       "<Figure size 432x288 with 1 Axes>"
      ]
     },
     "metadata": {
      "needs_background": "light"
     },
     "output_type": "display_data"
    }
   ],
   "source": [
    "sns.regplot(x = 'price', y = 'customers', data=df)"
   ]
  },
  {
   "cell_type": "markdown",
   "id": "873232bf",
   "metadata": {},
   "source": [
    "If we plot the data including the distance we can see that the distance is acting as a confounder"
   ]
  },
  {
   "cell_type": "code",
   "execution_count": 14,
   "id": "cc0fae91",
   "metadata": {},
   "outputs": [
    {
     "data": {
      "image/png": "[encoded data removed]",
      "text/plain": [
       "<Figure size 432x432 with 1 Axes>"
      ]
     },
     "metadata": {
      "needs_background": "light"
     },
     "output_type": "display_data"
    }
   ],
   "source": [
    "fig, ax = plt.subplots(figsize=(6, 6))\n",
    "\n",
    "df_0 = df[df['distance'] == 0.0]\n",
    "df_05 = df[df['distance'] == 0.5]\n",
    "df_1 = df[df['distance'] == 1.0]\n",
    "\n",
    "sns.regplot(x = 'price', y = 'customers', data=df_0, ax=ax, label='center')\n",
    "sns.regplot(x = 'price', y = 'customers', data=df_05, ax=ax, label='suburbs')\n",
    "sns.regplot(x = 'price', y = 'customers', data=df_1, ax=ax, label='countryside')\n",
    "ax.legend()\n",
    "plt.show()"
   ]
  },
  {
   "cell_type": "markdown",
   "id": "7678ee46",
   "metadata": {},
   "source": [
    "Now we include the distance into the regression and we see that the coefficient of price is close to the real coefficient."
   ]
  },
  {
   "cell_type": "code",
   "execution_count": null,
   "id": "35cc302c",
   "metadata": {},
   "outputs": [],
   "source": [
    "smf.ols(formula='customers ~ price + distance', data=df).fit().summary()"
   ]
  },
  {
   "cell_type": "markdown",
   "id": "51f8d0df",
   "metadata": {},
   "source": [
    "## Impact of distance"
   ]
  },
  {
   "cell_type": "markdown",
   "id": "871938e2",
   "metadata": {},
   "source": [
    "When we are interested in measuring the total effect, since the distance has no confounders, we can directly run the regression"
   ]
  },
  {
   "cell_type": "code",
   "execution_count": 16,
   "id": "c2b8b155",
   "metadata": {},
   "outputs": [
    {
     "data": {
      "text/html": [
       "<table class=\"simpletable\">\n",
       "<caption>OLS Regression Results</caption>\n",
       "<tr>\n",
       "  <th>Dep. Variable:</th>        <td>customers</td>    <th>  R-squared:         </th> <td>   0.405</td>\n",
       "</tr>\n",
       "<tr>\n",
       "  <th>Model:</th>                   <td>OLS</td>       <th>  Adj. R-squared:    </th> <td>   0.399</td>\n",
       "</tr>\n",
       "<tr>\n",
       "  <th>Method:</th>             <td>Least Squares</td>  <th>  F-statistic:       </th> <td>   66.69</td>\n",
       "</tr>\n",
       "<tr>\n",
       "  <th>Date:</th>             <td>Sun, 04 Sep 2022</td> <th>  Prob (F-statistic):</th> <td>1.12e-12</td>\n",
       "</tr>\n",
       "<tr>\n",
       "  <th>Time:</th>                 <td>12:27:51</td>     <th>  Log-Likelihood:    </th> <td> -221.65</td>\n",
       "</tr>\n",
       "<tr>\n",
       "  <th>No. Observations:</th>      <td>   100</td>      <th>  AIC:               </th> <td>   447.3</td>\n",
       "</tr>\n",
       "<tr>\n",
       "  <th>Df Residuals:</th>          <td>    98</td>      <th>  BIC:               </th> <td>   452.5</td>\n",
       "</tr>\n",
       "<tr>\n",
       "  <th>Df Model:</th>              <td>     1</td>      <th>                     </th>     <td> </td>   \n",
       "</tr>\n",
       "<tr>\n",
       "  <th>Covariance Type:</th>      <td>nonrobust</td>    <th>                     </th>     <td> </td>   \n",
       "</tr>\n",
       "</table>\n",
       "<table class=\"simpletable\">\n",
       "<tr>\n",
       "      <td></td>         <th>coef</th>     <th>std err</th>      <th>t</th>      <th>P>|t|</th>  <th>[0.025</th>    <th>0.975]</th>  \n",
       "</tr>\n",
       "<tr>\n",
       "  <th>Intercept</th> <td>   10.0501</td> <td>    0.340</td> <td>   29.547</td> <td> 0.000</td> <td>    9.375</td> <td>   10.725</td>\n",
       "</tr>\n",
       "<tr>\n",
       "  <th>distance</th>  <td>   -4.4912</td> <td>    0.550</td> <td>   -8.166</td> <td> 0.000</td> <td>   -5.583</td> <td>   -3.400</td>\n",
       "</tr>\n",
       "</table>\n",
       "<table class=\"simpletable\">\n",
       "<tr>\n",
       "  <th>Omnibus:</th>       <td> 0.611</td> <th>  Durbin-Watson:     </th> <td>   1.898</td>\n",
       "</tr>\n",
       "<tr>\n",
       "  <th>Prob(Omnibus):</th> <td> 0.737</td> <th>  Jarque-Bera (JB):  </th> <td>   0.310</td>\n",
       "</tr>\n",
       "<tr>\n",
       "  <th>Skew:</th>          <td>-0.123</td> <th>  Prob(JB):          </th> <td>   0.856</td>\n",
       "</tr>\n",
       "<tr>\n",
       "  <th>Kurtosis:</th>      <td> 3.120</td> <th>  Cond. No.          </th> <td>    3.06</td>\n",
       "</tr>\n",
       "</table><br/><br/>Notes:<br/>[1] Standard Errors assume that the covariance matrix of the errors is correctly specified."
      ],
      "text/plain": [
       "<class 'statsmodels.iolib.summary.Summary'>\n",
       "\"\"\"\n",
       "                            OLS Regression Results                            \n",
       "==============================================================================\n",
       "Dep. Variable:              customers   R-squared:                       0.405\n",
       "Model:                            OLS   Adj. R-squared:                  0.399\n",
       "Method:                 Least Squares   F-statistic:                     66.69\n",
       "Date:                Sun, 04 Sep 2022   Prob (F-statistic):           1.12e-12\n",
       "Time:                        12:27:51   Log-Likelihood:                -221.65\n",
       "No. Observations:                 100   AIC:                             447.3\n",
       "Df Residuals:                      98   BIC:                             452.5\n",
       "Df Model:                           1                                         \n",
       "Covariance Type:            nonrobust                                         \n",
       "==============================================================================\n",
       "                 coef    std err          t      P>|t|      [0.025      0.975]\n",
       "------------------------------------------------------------------------------\n",
       "Intercept     10.0501      0.340     29.547      0.000       9.375      10.725\n",
       "distance      -4.4912      0.550     -8.166      0.000      -5.583      -3.400\n",
       "==============================================================================\n",
       "Omnibus:                        0.611   Durbin-Watson:                   1.898\n",
       "Prob(Omnibus):                  0.737   Jarque-Bera (JB):                0.310\n",
       "Skew:                          -0.123   Prob(JB):                        0.856\n",
       "Kurtosis:                       3.120   Cond. No.                         3.06\n",
       "==============================================================================\n",
       "\n",
       "Notes:\n",
       "[1] Standard Errors assume that the covariance matrix of the errors is correctly specified.\n",
       "\"\"\""
      ]
     },
     "execution_count": 16,
     "metadata": {},
     "output_type": "execute_result"
    }
   ],
   "source": [
    "smf.ols(formula='customers ~ distance', data=df).fit().summary()"
   ]
  },
  {
   "cell_type": "markdown",
   "id": "2fafa7a7",
   "metadata": {},
   "source": [
    "Obtaining a coefficient of the distance that is close to the -4 that it is expected to be."
   ]
  },
  {
   "cell_type": "code",
   "execution_count": null,
   "id": "8f1e8e50",
   "metadata": {},
   "outputs": [],
   "source": []
  }
 ],
 "metadata": {
  "kernelspec": {
   "display_name": "nuclia",
   "language": "python",
   "name": "nuclia"
  },
  "language_info": {
   "codemirror_mode": {
    "name": "ipython",
    "version": 3
   },
   "file_extension": ".py",
   "mimetype": "text/x-python",
   "name": "python",
   "nbconvert_exporter": "python",
   "pygments_lexer": "ipython3",
   "version": "3.10.4"
  }
 },
 "nbformat": 4,
 "nbformat_minor": 5
}
