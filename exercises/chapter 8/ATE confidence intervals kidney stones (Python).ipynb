{
  "cells": [
    {
      "cell_type": "markdown",
      "metadata": {},
      "source": [
        "# Difference in Differences\n",
        "\n",
        "# 1. Data simulation"
      ],
      "id": "ed86d47f-cf1f-40ef-b036-d9ed5edb77d3"
    },
    {
      "cell_type": "code",
      "execution_count": 1,
      "metadata": {},
      "outputs": [],
      "source": [
        "import pandas as pd\n",
        "from numpy import unique, mean, quantile, array, round\n",
        "from numpy.random import choice, seed\n",
        "\n",
        "seed(1234)\n",
        "bootstrap_n = 2000"
      ],
      "id": "20719fd3"
    },
    {
      "cell_type": "code",
      "execution_count": 2,
      "metadata": {},
      "outputs": [],
      "source": [
        "kidney = pd.DataFrame(\n",
        "    {\n",
        "        \"number\": [87, 270, 263, 80],\n",
        "        \"recovery\": [81, 234, 192, 50],\n",
        "        \"treatment\": [\"A\", \"B\", \"A\", \"B\"],\n",
        "        \"size\": [\"Small\", \"Small\", \"Large\", \"Large\"],\n",
        "    }\n",
        ") "
      ],
      "id": "9feccf82"
    },
    {
      "cell_type": "code",
      "execution_count": 3,
      "metadata": {},
      "outputs": [],
      "source": [
        "treatments = []\n",
        "sizes = []\n",
        "recoveries = []\n",
        "\n",
        "for i in range(kidney.shape[0]):\n",
        "    obs = kidney.iloc[i][\"number\"]\n",
        "    treatments += [kidney.iloc[i][\"treatment\"]] * obs\n",
        "    sizes += [kidney.iloc[i][\"size\"]] * obs\n",
        "    recoveries += [1] * kidney.iloc[i][\"recovery\"] + [0] * (\n",
        "        obs - kidney.iloc[i][\"recovery\"]\n",
        "    )\n",
        "\n",
        "kidney = pd.DataFrame({\"treatment\": treatments, \"size\": sizes, \"recovery\": recoveries})"
      ],
      "id": "9d91a003"
    },
    {
      "cell_type": "code",
      "execution_count": 4,
      "metadata": {},
      "outputs": [],
      "source": [
        "def adjustment(df, value):\n",
        "    treatments = df['treatment']\n",
        "    sizes = df['size']\n",
        "    recoveries = df['recovery']\n",
        "    ind_treatment = treatments == value\n",
        "    sizes_values = unique(sizes)\n",
        "\n",
        "    adjusted_prob = 0\n",
        "    for z in sizes_values:\n",
        "        ind_size = sizes == z\n",
        "        ind = ind_treatment & ind_size\n",
        "        adjusted_prob += mean(recoveries[ind]) * mean(ind_size)\n",
        "    return adjusted_prob"
      ],
      "id": "0c689eac"
    },
    {
      "cell_type": "markdown",
      "metadata": {},
      "source": [
        "# 2. Bootstrapping"
      ],
      "id": "099dd9c4-6eb5-434c-a9f2-9757c4086f36"
    },
    {
      "cell_type": "code",
      "execution_count": 5,
      "metadata": {},
      "outputs": [],
      "source": [
        "ates = []\n",
        "for i in range(bootstrap_n):\n",
        "    kidney_resample = kidney.sample(frac=1, replace=True)\n",
        "    ates.append(adjustment(kidney_resample, \"A\") - adjustment(kidney_resample, \"B\"))"
      ],
      "id": "2aa165fa"
    },
    {
      "cell_type": "markdown",
      "metadata": {},
      "source": [
        "The estimated ATE is"
      ],
      "id": "abaae7dc-4340-49d0-91d2-ff4f4b78811b"
    },
    {
      "cell_type": "code",
      "execution_count": 6,
      "metadata": {},
      "outputs": [
        {
          "output_type": "display_data",
          "metadata": {},
          "data": {
            "text/plain": [
              "'0.084 (0.015, 0.156)'"
            ]
          }
        }
      ],
      "source": [
        "cis = round(quantile(ates, q=[0.025, 0.975]), 3)\n",
        "ate = mean(ates)\n",
        "f\"{round(mean(ates), 3)} ({cis[0]}, {cis[1]})\""
      ],
      "id": "44341e31"
    }
  ],
  "nbformat": 4,
  "nbformat_minor": 5,
  "metadata": {
    "kernelspec": {
      "name": "python3",
      "display_name": "Python 3 (ipykernel)",
      "language": "python"
    },
    "language_info": {
      "name": "python",
      "codemirror_mode": {
        "name": "ipython",
        "version": "3"
      },
      "file_extension": ".py",
      "mimetype": "text/x-python",
      "nbconvert_exporter": "python",
      "pygments_lexer": "ipython3",
      "version": "3.10.9"
    }
  }
}