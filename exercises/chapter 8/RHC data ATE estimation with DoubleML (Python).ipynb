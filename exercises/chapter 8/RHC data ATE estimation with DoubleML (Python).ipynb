{
  "cells": [
    {
      "cell_type": "markdown",
      "id": "2788cbdc-9e10-48a3-8485-7a213f34650c",
      "metadata": {},
      "source": [
        "# RHC data ATE estimation with DoubleML"
      ]
    },
    {
      "cell_type": "code",
      "execution_count": 1,
      "id": "0a74a866",
      "metadata": {},
      "outputs": [],
      "source": [
        "import pandas as pd\n",
        "import yaml\n",
        "import numpy as np\n",
        "from numpy.random import seed\n",
        "import doubleml as dml\n",
        "\n",
        "from sklearn.ensemble import GradientBoostingClassifier, GradientBoostingRegressor\n",
        "\n",
        "import random\n",
        "\n",
        "seed(1234)"
      ]
    },
    {
      "cell_type": "code",
      "execution_count": 2,
      "id": "803a6515",
      "metadata": {},
      "outputs": [],
      "source": [
        "rhc = pd.read_csv(\"materials/rhc_dataset.csv\")\n",
        "with open(\"materials/confounders.yml\", \"r\") as f:\n",
        "    confounders = yaml.safe_load(f)\n",
        "\n",
        "rhc[\"swang1\"] = (rhc[\"swang1\"] == \"RHC\").astype(int)\n",
        "rhc[\"death\"] = (rhc[\"death\"] == \"Yes\").astype(int)\n",
        "rhc.groupby(\"swang1\")[\"death\"].mean()\n",
        "\n",
        "rhc_numerical = pd.get_dummies(rhc[['swang1', 'death'] + confounders], dtype=float, drop_first=True)"
      ]
    },
    {
      "cell_type": "markdown",
      "id": "75e6277b-1faa-4c34-99dc-455e71c53403",
      "metadata": {},
      "source": [
        "# 1. ATE estimation with confidence intervals with DoubleML\n",
        "\n",
        "DoubleML documentation: \n",
        "\n",
        "- [hyperparameter tuning](https://docs.doubleml.org/stable/guide/learners.html#r-learners-and-hyperparameters) \n",
        "- [DoubleMLPLR documentation](https://docs.doubleml.org/stable/api/generated/doubleml.DoubleMLPLR.html#doubleml.DoubleMLPLR.tune)"
      ]
    },
    {
      "cell_type": "code",
      "execution_count": 3,
      "id": "2feb3e49",
      "metadata": {},
      "outputs": [
        {
          "data": {
            "text/html": [
              "<div>\n",
              "<style scoped>\n",
              "    .dataframe tbody tr th:only-of-type {\n",
              "        vertical-align: middle;\n",
              "    }\n",
              "\n",
              "    .dataframe tbody tr th {\n",
              "        vertical-align: top;\n",
              "    }\n",
              "\n",
              "    .dataframe thead th {\n",
              "        text-align: right;\n",
              "    }\n",
              "</style>\n",
              "<table border=\"1\" class=\"dataframe\">\n",
              "  <thead>\n",
              "    <tr style=\"text-align: right;\">\n",
              "      <th></th>\n",
              "      <th>coef</th>\n",
              "      <th>std err</th>\n",
              "      <th>t</th>\n",
              "      <th>P&gt;|t|</th>\n",
              "      <th>2.5 %</th>\n",
              "      <th>97.5 %</th>\n",
              "    </tr>\n",
              "  </thead>\n",
              "  <tbody>\n",
              "    <tr>\n",
              "      <th>swang1</th>\n",
              "      <td>0.039085</td>\n",
              "      <td>0.013349</td>\n",
              "      <td>2.927916</td>\n",
              "      <td>0.003412</td>\n",
              "      <td>0.012921</td>\n",
              "      <td>0.065249</td>\n",
              "    </tr>\n",
              "  </tbody>\n",
              "</table>\n",
              "</div>"
            ],
            "text/plain": [
              "            coef   std err         t     P>|t|     2.5 %    97.5 %\n",
              "swang1  0.039085  0.013349  2.927916  0.003412  0.012921  0.065249"
            ]
          },
          "execution_count": 3,
          "metadata": {},
          "output_type": "execute_result"
        }
      ],
      "source": [
        "# DoubleMLData and DoubleMLPLR initialization\n",
        "confounders_ = [c for c in rhc_numerical.columns if c not in [\"swang1\", \"death\"]]\n",
        "data_dml = dml.DoubleMLData(\n",
        "    rhc_numerical, y_col=\"death\", d_cols=\"swang1\", x_cols=confounders_\n",
        ")\n",
        "\n",
        "ml_m = GradientBoostingClassifier()\n",
        "ml_l = GradientBoostingRegressor()\n",
        "dml_plr_obj = dml.DoubleMLPLR(data_dml, ml_l, ml_m)\n",
        "\n",
        "# Hyperparameter setting\n",
        "learning_rate = [0.001, 0.01, 0.1]\n",
        "n_estimators = [50, 100, 200]\n",
        "max_depth = [1, 2, 3]\n",
        "\n",
        "par_grids = {\n",
        "    \"ml_l\": {\n",
        "        \"n_estimators\": n_estimators,\n",
        "        \"max_depth\": max_depth,\n",
        "    },\n",
        "    \"ml_m\": {\n",
        "        \"learning_rate\": learning_rate,\n",
        "        \"n_estimators\": n_estimators,\n",
        "        \"max_depth\": max_depth,\n",
        "    },\n",
        "}\n",
        "\n",
        "# Fine-tuning and effect estimation\n",
        "dml_plr_obj.tune(param_grids=par_grids, tune_on_folds=True, search_mode=\"grid_search\")\n",
        "results = dml_plr_obj.fit()\n",
        "results.summary"
      ]
    }
  ],
  "metadata": {
    "kernelspec": {
      "display_name": "Python 3 (ipykernel)",
      "language": "python",
      "name": "python3"
    },
    "language_info": {
      "codemirror_mode": {
        "name": "ipython",
        "version": 3
      },
      "file_extension": ".py",
      "mimetype": "text/x-python",
      "name": "python",
      "nbconvert_exporter": "python",
      "pygments_lexer": "ipython3",
      "version": "3.11.5"
    }
  },
  "nbformat": 4,
  "nbformat_minor": 5
}
